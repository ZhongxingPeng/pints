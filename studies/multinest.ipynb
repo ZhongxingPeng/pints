{
 "cells": [
  {
   "cell_type": "code",
   "execution_count": 1,
   "metadata": {
    "collapsed": true
   },
   "outputs": [],
   "source": [
    "import numpy as np\n",
    "import numpy.linalg as la\n",
    "from scipy.misc import logsumexp\n",
    "import scipy.special\n",
    "def minimum_volume_ellipsoid(points, tol=0.001):\n",
    "        \"\"\"\n",
    "        Finds the ellipse equation in \"center form\":\n",
    "        ``(x-c).T * A * (x-c) = 1``.\n",
    "        \"\"\"\n",
    "        N, d = points.shape\n",
    "        Q = np.column_stack((points, np.ones(N))).T\n",
    "        err = tol + 1\n",
    "        u = np.ones(N) / N\n",
    "        while err > tol:\n",
    "            # assert(u.sum() == 1) # invariant\n",
    "            X = np.dot(np.dot(Q, np.diag(u)), Q.T)\n",
    "            M = np.diag(np.dot(np.dot(Q.T, la.inv(X)), Q))\n",
    "            jdx = np.argmax(M)\n",
    "            step_size = (M[jdx] - d - 1) / ((d + 1) * (M[jdx] - 1))\n",
    "            new_u = (1 - step_size) * u\n",
    "            new_u[jdx] += step_size\n",
    "            err = la.norm(new_u - u)\n",
    "            u = new_u\n",
    "        c = np.dot(u, points)\n",
    "        A = la.inv(\n",
    "            + np.dot(np.dot(points.T, np.diag(u)), points)\n",
    "            - np.multiply.outer(c, c)\n",
    "        ) / d\n",
    "        return A, c\n",
    "\n",
    "def plot_ellipse(A, c, u):\n",
    "    \"\"\"\n",
    "    Plots a ellipse equation in \"center form\":\n",
    "    ``(x-c).T * A * (x-c) = 1``.\n",
    "    \"\"\"\n",
    "    A = np.linalg.inv(A)\n",
    "    evs, evecs = np.linalg.eig(A)\n",
    "    evs = np.sqrt(evs)\n",
    "    a = evs[0]\n",
    "    b = evs[1]\n",
    "    x0 = c[0]\n",
    "    y0 = c[1]\n",
    "    alpha = np.arctan(evecs[:, 0][1] / evecs[:, 0][0])\n",
    "    theta = np.linspace(0, 2 * np.pi, 1000)\n",
    "\n",
    "    x = x0 + a * np.cos(theta) * np.cos(alpha) - b * np.sin(theta) * np.sin(alpha)\n",
    "    y = y0 + a * np.cos(theta) * np.sin(alpha) + b * np.sin(theta) * np.cos(alpha)\n",
    "    plt.plot(x, y)\n",
    "    plt.scatter(u[:, 0], u[:, 1], c='k')\n",
    "    plt.show()\n",
    "\n",
    "def ellipse_volume_calculator(A):\n",
    "    d = A.shape[0]\n",
    "    r = np.sqrt(1 / np.linalg.eigvals(A))\n",
    "    return (np.pi**(d / 2.0) / scipy.special.gamma((d / 2.0) + 1)) * np.prod(r)\n",
    "\n",
    "def enlarge_ellipse_A(enlargement_factor, A):\n",
    "    return (1 / enlargement_factor) * A\n",
    "\n",
    "def V_S_calculator(i, N):\n",
    "    return np.exp(-i / N)\n",
    "\n",
    "# algorithm 1 various steps\n",
    "def step_1(u):\n",
    "    A, c = minimum_volume_ellipsoid(u)\n",
    "    V_E = ellipse_volume_calculator(A)\n",
    "    return A, c, V_E\n",
    "\n",
    "def comparison_enlargement(V_S, V_E, A):\n",
    "    if V_E > V_S:\n",
    "        return A\n",
    "    else:\n",
    "        enlargement_factor = V_S / V_E\n",
    "        return enlarge_ellipse_A(enlargement_factor, A)\n",
    "\n",
    "def step_2(i, N, V_E, A):\n",
    "    V_S = V_S_calculator(i, N)\n",
    "    return comparison_enlargement(V_S, V_E, A), V_S\n",
    "\n",
    "from scipy.cluster.vq import vq, kmeans\n",
    "def step_3(u):\n",
    "    centers, assignment = scipy.cluster.vq.kmeans2(u, 2)\n",
    "    return centers, assignment\n",
    "def ellipse_find_volume_calculator(a_index, u, assigments):\n",
    "    points = u[np.where(assignment == a_index)]\n",
    "    A, c = minimum_volume_ellipsoid(points)\n",
    "    return A, c, ellipse_volume_calculator(A)\n",
    "def ellipse_find_volume_calculator_fast(a_index, u, assignments, tol=0):\n",
    "    points = u[np.where(assignments == a_index)]\n",
    "    A, c = minimum_volume_ellipsoid_fast(points, tol)\n",
    "    return A, c, ellipse_volume_calculator(A)\n",
    "def step_4(assignments, u):\n",
    "    A_l = [None] * 2\n",
    "    c_l = [None] * 2\n",
    "    V_E_l = [None] * 2\n",
    "    for i in range(0, 2):\n",
    "        A, c, V_E = ellipse_find_volume_calculator_fast(i, u, assignments)\n",
    "        A_l[i] = A\n",
    "        c_l[i] = c\n",
    "        V_E_l[i] = V_E\n",
    "    return A_l, c_l, V_E_l\n",
    "def V_S_k_calculator(n_k, N, V_S):\n",
    "    return n_k * V_S / N\n",
    "def step_5(assignments, V_E_l, A_l, V_S):\n",
    "    A_new_l = [None] * 2\n",
    "    V_S_k_l = [None] * 2\n",
    "    V_E_k_l = [None] * 2\n",
    "    N = len(assignments)\n",
    "    for i in range(0, 2):\n",
    "        n = np.sum(assignments == i)\n",
    "        V_S_k_l[i] = V_S_k_calculator(n, N, V_S)\n",
    "        A_new_l[i] = comparison_enlargement(V_S_k_l[i], V_E_l[i], A_l[i])\n",
    "        V_E_k_l[i] = ellipse_volume_calculator(A_new_l[i])\n",
    "    return A_new_l, V_S_k_l, V_E_k_l\n",
    "def mahalanobis_distance(point, mean, A):\n",
    "    return np.matmul(np.matmul(point - mean, A), point - mean)\n",
    "# Based on eqn. (16) in the paper but corrected for subtracting the means\n",
    "# also added a tolerance that can be used to improve performance\n",
    "def minimum_volume_ellipsoid_fast(points, tol=0.0):\n",
    "    cov = np.cov(np.transpose(points))\n",
    "    cov_inv = np.linalg.inv(cov)\n",
    "    c = np.mean(points, axis=0)\n",
    "    dist = np.zeros(len(points))\n",
    "    for i in range(len(points)):\n",
    "        dist[i] = mahalanobis_distance(points[i], c, cov_inv)\n",
    "    enlargement_factor = np.max(dist)\n",
    "    A = (1 - tol) * (1.0 / enlargement_factor) * cov_inv\n",
    "    return A, c\n",
    "\n",
    "def step_6(points, c_k_l, A_k_l, V_E_l, V_S_k_l):\n",
    "    n = len(points)\n",
    "    assignments_new = np.zeros(n)\n",
    "    for i in range(0, n):\n",
    "        h_k_max = float('inf')\n",
    "        for j in range(0, 2):\n",
    "            h_k = h_k_calculator(points[i], c_k_l[j],\n",
    "                                 A_k_l[j], V_E_l[j], V_S_k_l[j])\n",
    "            if h_k < h_k_max:\n",
    "                assignments_new[i] = j\n",
    "                h_k_max = h_k\n",
    "    return assignments_new\n",
    "def h_k_calculator(point, mean_k, A_k, V_E_k, V_S_k):\n",
    "    d = mahalanobis_distance(point, mean_k, A_k)\n",
    "    return V_E_k * d / V_S_k\n",
    "def plot_ellipse_basic(A, c):\n",
    "    \"\"\"\n",
    "    Plots a ellipse equation in \"center form\":\n",
    "    ``(x-c).T * A * (x-c) = 1``.\n",
    "    \"\"\"\n",
    "    A = np.linalg.inv(A)\n",
    "    evs, evecs = np.linalg.eig(A)\n",
    "    evs = np.sqrt(evs)\n",
    "    a = evs[0]\n",
    "    b = evs[1]\n",
    "    x0 = c[0]\n",
    "    y0 = c[1]\n",
    "    alpha = np.arctan(evecs[:, 0][1] / evecs[:, 0][0])\n",
    "    theta = np.linspace(0, 2 * np.pi, 1000)\n",
    "\n",
    "    x = x0 + a * np.cos(theta) * np.cos(alpha) - b * np.sin(theta) * np.sin(alpha)\n",
    "    y = y0 + a * np.cos(theta) * np.sin(alpha) + b * np.sin(theta) * np.cos(alpha)\n",
    "    plt.plot(x, y)\n",
    "def plot_many_ellipse(A_l, c_l, u):\n",
    "    for i in range(0, len(A_l)):\n",
    "        plot_ellipse_basic(A_l[i], c_l[i])\n",
    "    plt.scatter(u[:, 0], u[:, 1], c='k')\n",
    "    plt.show()"
   ]
  },
  {
   "cell_type": "markdown",
   "metadata": {},
   "source": [
    "Generate 2d points uniformly (in multinest the points must be uniformly distributed in parameter space)"
   ]
  },
  {
   "cell_type": "code",
   "execution_count": 2,
   "metadata": {},
   "outputs": [
    {
     "data": {
      "image/png": "[encoded data removed]",
      "text/plain": [
       "<matplotlib.figure.Figure at 0x1a47d660c50>"
      ]
     },
     "metadata": {},
     "output_type": "display_data"
    }
   ],
   "source": [
    "import matplotlib.pyplot as plt\n",
    "N = 100\n",
    "u = np.random.uniform(0, 1, size=(N, 2))\n",
    "plt.scatter(u[:, 0], u[:, 1])\n",
    "plt.show()"
   ]
  },
  {
   "cell_type": "markdown",
   "metadata": {},
   "source": [
    "Calculate minimum volume ellipsoid and plot it"
   ]
  },
  {
   "cell_type": "code",
   "execution_count": 3,
   "metadata": {},
   "outputs": [
    {
     "data": {
      "image/png": "[encoded data removed]",
      "text/plain": [
       "<matplotlib.figure.Figure at 0x1a47ef309e8>"
      ]
     },
     "metadata": {},
     "output_type": "display_data"
    }
   ],
   "source": [
    "A, c = minimum_volume_ellipsoid_fast(u)\n",
    "plot_ellipse(A, c, u)"
   ]
  },
  {
   "cell_type": "markdown",
   "metadata": {},
   "source": [
    "Calculate V(S) - the volume of the space on which the points are distributed which is a function of the iteration $i$\n",
    "\n",
    "$$V(S) = exp(-i / N),$$\n",
    "\n",
    "where $N$ is the number of points."
   ]
  },
  {
   "cell_type": "code",
   "execution_count": 4,
   "metadata": {},
   "outputs": [
    {
     "data": {
      "text/plain": [
       "0.99004983374916811"
      ]
     },
     "execution_count": 4,
     "metadata": {},
     "output_type": "execute_result"
    }
   ],
   "source": [
    "V_S_calculator(1, N)"
   ]
  },
  {
   "cell_type": "markdown",
   "metadata": {},
   "source": [
    "Calculate volume of ellipse from its center form which is given by (https://math.stackexchange.com/questions/606184/volume-of-n-dimensional-ellipsoid),\n",
    "\n",
    "$$V(E) = \\frac{\\pi^{d/2}}{\\Gamma((d/2)+1)} \\prod_{i=1}^{d} r_{i}$$,\n",
    "\n",
    "where $r_i = 1 / \\sqrt{\\lambda_i}$ are the lengths of the semi axes and $\\lambda_i$ are the eigenvalues of the matrix $A$; $d$ is the number of dimensions."
   ]
  },
  {
   "cell_type": "code",
   "execution_count": 5,
   "metadata": {},
   "outputs": [
    {
     "data": {
      "text/plain": [
       "1.1000000000000001"
      ]
     },
     "execution_count": 5,
     "metadata": {},
     "output_type": "execute_result"
    }
   ],
   "source": [
    "ellipse_volume_calculator(enlarge_ellipse_A(1.1, A)) / ellipse_volume_calculator(A)"
   ]
  },
  {
   "cell_type": "code",
   "execution_count": 678,
   "metadata": {},
   "outputs": [],
   "source": [
    "def f_s_minimisation_steps_1_to_3(i, u):\n",
    "    A, c, V_E = step_1(u)\n",
    "    N = len(u)\n",
    "    A, V_S = step_2(i, N, V_E, A)\n",
    "    V_E = ellipse_volume_calculator(A)\n",
    "    centers, assignments = step_3(u)\n",
    "    return assignments, A, N, V_E, V_S, c\n",
    "def f_s_minimisation_lines_4_to_13(assignments, u, V_S, max_recursion):\n",
    "    A_k_l, c_k_l, V_E_l = step_4(assignments, u)\n",
    "    A_new_l, V_S_k_l, V_E_k_l = step_5(assignments, V_E_l, A_k_l, V_S)\n",
    "    assignments_new = step_6(u, c_k_l, A_k_l, V_E_k_l, V_S_k_l)\n",
    "    assignments_new = assignments_new.astype(int)\n",
    "    # stops algorithmic oscillation (not in original algorithm)\n",
    "    if max_recursion > 10:\n",
    "        return assignments_new, A_new_l, V_S_k_l, c_k_l, V_E_k_l\n",
    "    if np.array_equal(assignments, assignments_new):\n",
    "        return assignments_new, A_new_l, V_S_k_l, c_k_l, V_E_k_l\n",
    "    else:\n",
    "        return f_s_minimisation_lines_4_to_13(assignments_new, u, V_S, max_recursion + 1)\n",
    "def f_s_minimisation_lines_2_onwards(u, V_E, V_S, A, c):\n",
    "    A = comparison_enlargement(V_S, V_E, A)\n",
    "    V_E = ellipse_volume_calculator(A)\n",
    "    centers, assignments = step_3(u)\n",
    "    assignments_new, A_new_l, V_S_k_l, c_k_l, V_E_k_l = f_s_minimisation_lines_4_to_13(assignments, u, V_S, 1)\n",
    "    # lines 14 onwards\n",
    "    V_E_k_tot = np.sum(V_E_k_l)\n",
    "    if V_E_k_tot < V_E or V_E > 2 * V_S:\n",
    "        A_k_l = [None] * 2\n",
    "        c_k_l1 = [None] * 2\n",
    "        for i in range(0, 2):\n",
    "            u_new = u[np.where(assignments_new == i)]\n",
    "            # added this line to prevent too small clusters\n",
    "            if len(u_new) < 50:\n",
    "                return A, c\n",
    "            A_k_l[i], c_k_l1[i] = f_s_minimisation_lines_2_onwards(u_new, V_E_k_l[i], V_S_k_l[i], A_new_l[i], c_k_l[i])\n",
    "        return A_k_l, c_k_l1\n",
    "    else:\n",
    "        return [A], [c]\n",
    "def f_s_minimisation(iteration, u):\n",
    "    assignments, A, N, V_E, V_S, c = f_s_minimisation_steps_1_to_3(iteration, u)\n",
    "    assignments_new, A_new_l, V_S_k_l, c_k_l, V_E_k_l = f_s_minimisation_lines_4_to_13(assignments, u, V_S, 1)\n",
    "    # lines 14 onwards\n",
    "    V_E_k_tot = np.sum(V_E_k_l)\n",
    "    if V_E_k_tot < V_E or V_E > 1.5 * V_S:\n",
    "        A_k_l = [None] * 2\n",
    "        c_k_l1 = [None] * 2\n",
    "        for i in range(0, 2):\n",
    "            u_new = u[np.where(assignments_new == i)]\n",
    "            A_k_l[i], c_k_l1[i] = f_s_minimisation_lines_2_onwards(u_new, V_E_k_l[i], V_S_k_l[i], A_new_l[i], c_k_l[i])\n",
    "            #V_E_k_l1 = np.zeros(len(A_k_l))\n",
    "            A_k_l_1 = []\n",
    "            A_temp = A_k_l[i]\n",
    "            for j in range(0, len(A_temp)):\n",
    "                #V_E_k_l1[j] = ellipse_volume_calculator(A_k_l[j])\n",
    "                A_k_l_1.append(A_temp[j])\n",
    "        return A_k_l_1, c_k_l1, np.sum(V_E_k_l) / V_S\n",
    "    else:\n",
    "        return [A], [c], V_E / V_S"
   ]
  },
  {
   "cell_type": "code",
   "execution_count": 679,
   "metadata": {
    "collapsed": true
   },
   "outputs": [],
   "source": [
    "def draw_from_ellipsoid(covmat, cent, npts):\n",
    "        \"\"\"\n",
    "        Draw `npts` random uniform points from within an ellipsoid with a\n",
    "        covariance matrix covmat and a centroid cent, as per:\n",
    "        http://www.astro.gla.ac.uk/~matthew/blog/?p=368\n",
    "        \"\"\"\n",
    "        try:\n",
    "            ndims = covmat.shape[0]\n",
    "        except IndexError:  # pragma: no cover\n",
    "            ndims = 1\n",
    "\n",
    "        # calculate eigen_values (e) and eigen_vectors (v)\n",
    "        eigen_values, eigen_vectors = la.eig(covmat)\n",
    "        idx = (-eigen_values).argsort()[::-1][:ndims]\n",
    "        e = eigen_values[idx]\n",
    "        v = eigen_vectors[:, idx]\n",
    "        e = np.diag(e)\n",
    "\n",
    "        # generate radii of hyperspheres\n",
    "        rs = np.random.uniform(0, 1, npts)\n",
    "\n",
    "        # generate points\n",
    "        pt = np.random.normal(0, 1, [npts, ndims])\n",
    "\n",
    "        # get scalings for each point onto the surface of a unit hypersphere\n",
    "        fac = np.sum(pt**2, axis=1)\n",
    "\n",
    "        # calculate scaling for each point to be within the unit hypersphere\n",
    "        # with radii rs\n",
    "        fac = (rs**(1 / ndims)) / np.sqrt(fac)\n",
    "        pnts = np.zeros((npts, ndims))\n",
    "\n",
    "        # scale points to the ellipsoid using the eigen_values and rotate with\n",
    "        # the eigen_vectors and add centroid\n",
    "        d = np.sqrt(np.diag(e))\n",
    "        d.shape = (ndims, 1)\n",
    "\n",
    "        for i in range(0, npts):\n",
    "            # scale points to a uniform distribution within unit hypersphere\n",
    "            pnts[i, :] = fac[i] * pt[i, :]\n",
    "            pnts[i, :] = np.dot(\n",
    "                np.multiply(pnts[i, :], np.transpose(d)),\n",
    "                np.transpose(v)\n",
    "            ) + cent\n",
    "\n",
    "        return pnts"
   ]
  },
  {
   "cell_type": "code",
   "execution_count": 680,
   "metadata": {},
   "outputs": [
    {
     "data": {
      "image/png": "[encoded data removed]",
      "text/plain": [
       "<matplotlib.figure.Figure at 0x1a47efbb278>"
      ]
     },
     "metadata": {},
     "output_type": "display_data"
    },
    {
     "data": {
      "text/plain": [
       "1.3153896817714994"
      ]
     },
     "execution_count": 680,
     "metadata": {},
     "output_type": "execute_result"
    }
   ],
   "source": [
    "u = np.random.uniform(0, 1, size=(200, 2))\n",
    "A, c, F_S = f_s_minimisation(1, u)\n",
    "plot_many_ellipse(A, c, u)\n",
    "F_S"
   ]
  },
  {
   "cell_type": "markdown",
   "metadata": {},
   "source": [
    "Now demonstrate algorithm working in 2d as in Fig. 3 of the multinest paper"
   ]
  },
  {
   "cell_type": "code",
   "execution_count": null,
   "metadata": {},
   "outputs": [],
   "source": [
    "n = 200\n",
    "p1 = draw_from_ellipsoid(np.array([[0.2, 0.03], [0.03, 0.02]]), [0.5, 0.25], n)\n",
    "p2 = draw_from_ellipsoid(np.array([[0.1, -0.03], [-0.03, 0.01]]), [0.5, 0.75], n)\n",
    "p3 = draw_from_ellipsoid(np.array([[0.1, -0.03], [-0.03, 0.01]]), [0.25, 0.5], n)\n",
    "u = np.concatenate((p1, p2, p3))\n",
    "A, c, F_S = f_s_minimisation(1000, u)\n",
    "A"
   ]
  },
  {
   "cell_type": "code",
   "execution_count": 669,
   "metadata": {},
   "outputs": [
    {
     "data": {
      "text/plain": [
       "array([[ 106.14338687,  232.00740892],\n",
       "       [ 232.00740892,  673.93501381]])"
      ]
     },
     "execution_count": 669,
     "metadata": {},
     "output_type": "execute_result"
    }
   ],
   "source": [
    "A[1][0]"
   ]
  },
  {
   "cell_type": "code",
   "execution_count": 620,
   "metadata": {
    "collapsed": true
   },
   "outputs": [],
   "source": [
    "def flatten(L):\n",
    "    for item in L:\n",
    "        try:\n",
    "            yield from flatten(item)\n",
    "        except TypeError:\n",
    "            yield item\n"
   ]
  },
  {
   "cell_type": "code",
   "execution_count": 624,
   "metadata": {},
   "outputs": [],
   "source": [
    "B=flatten(A)"
   ]
  },
  {
   "cell_type": "code",
   "execution_count": 626,
   "metadata": {},
   "outputs": [
    {
     "ename": "ValueError",
     "evalue": "could not broadcast input array from shape (2,2) into shape (2)",
     "output_type": "error",
     "traceback": [
      "\u001b[1;31m---------------------------------------------------------------------------\u001b[0m",
      "\u001b[1;31mValueError\u001b[0m                                Traceback (most recent call last)",
      "\u001b[1;32m<ipython-input-626-ca5866f4a878>\u001b[0m in \u001b[0;36m<module>\u001b[1;34m()\u001b[0m\n\u001b[1;32m----> 1\u001b[1;33m \u001b[0mnp\u001b[0m\u001b[1;33m.\u001b[0m\u001b[0mconcatenate\u001b[0m\u001b[1;33m(\u001b[0m\u001b[0mA\u001b[0m\u001b[1;33m)\u001b[0m\u001b[1;33m\u001b[0m\u001b[0m\n\u001b[0m",
      "\u001b[1;31mValueError\u001b[0m: could not broadcast input array from shape (2,2) into shape (2)"
     ]
    }
   ],
   "source": [
    "np.concatenate(A)"
   ]
  },
  {
   "cell_type": "code",
   "execution_count": 647,
   "metadata": {},
   "outputs": [],
   "source": [
    "def flattener(a_l):\n",
    "    if isinstance(a_l, list):\n",
    "        a_len = len(a_l)\n",
    "        for i in range(0, a_len):\n",
    "            return flattener(a_l[i])\n",
    "    return a_l"
   ]
  },
  {
   "cell_type": "code",
   "execution_count": 648,
   "metadata": {},
   "outputs": [
    {
     "data": {
      "text/plain": [
       "array([[  73.66978721,  163.16575901],\n",
       "       [ 163.16575901,  511.81721751]])"
      ]
     },
     "execution_count": 648,
     "metadata": {},
     "output_type": "execute_result"
    }
   ],
   "source": [
    "flattener(A)\n"
   ]
  },
  {
   "cell_type": "code",
   "execution_count": 641,
   "metadata": {},
   "outputs": [],
   "source": [
    "newlist = sum(A, [])"
   ]
  },
  {
   "cell_type": "code",
   "execution_count": 649,
   "metadata": {},
   "outputs": [],
   "source": [
    "def depthCount(lst):\n",
    "    return 1 + max(map(depthCount, lst), default=0)"
   ]
  },
  {
   "cell_type": "code",
   "execution_count": 650,
   "metadata": {},
   "outputs": [
    {
     "ename": "TypeError",
     "evalue": "'numpy.float64' object is not iterable",
     "output_type": "error",
     "traceback": [
      "\u001b[1;31m---------------------------------------------------------------------------\u001b[0m",
      "\u001b[1;31mTypeError\u001b[0m                                 Traceback (most recent call last)",
      "\u001b[1;32m<ipython-input-650-4d9431f01d94>\u001b[0m in \u001b[0;36m<module>\u001b[1;34m()\u001b[0m\n\u001b[1;32m----> 1\u001b[1;33m \u001b[0mdepthCount\u001b[0m\u001b[1;33m(\u001b[0m\u001b[0mA\u001b[0m\u001b[1;33m)\u001b[0m\u001b[1;33m\u001b[0m\u001b[0m\n\u001b[0m",
      "\u001b[1;32m<ipython-input-649-9b862f3cd717>\u001b[0m in \u001b[0;36mdepthCount\u001b[1;34m(lst)\u001b[0m\n\u001b[0;32m      1\u001b[0m \u001b[1;32mdef\u001b[0m \u001b[0mdepthCount\u001b[0m\u001b[1;33m(\u001b[0m\u001b[0mlst\u001b[0m\u001b[1;33m)\u001b[0m\u001b[1;33m:\u001b[0m\u001b[1;33m\u001b[0m\u001b[0m\n\u001b[1;32m----> 2\u001b[1;33m     \u001b[1;32mreturn\u001b[0m \u001b[1;36m1\u001b[0m \u001b[1;33m+\u001b[0m \u001b[0mmax\u001b[0m\u001b[1;33m(\u001b[0m\u001b[0mmap\u001b[0m\u001b[1;33m(\u001b[0m\u001b[0mdepthCount\u001b[0m\u001b[1;33m,\u001b[0m \u001b[0mlst\u001b[0m\u001b[1;33m)\u001b[0m\u001b[1;33m,\u001b[0m \u001b[0mdefault\u001b[0m\u001b[1;33m=\u001b[0m\u001b[1;36m0\u001b[0m\u001b[1;33m)\u001b[0m\u001b[1;33m\u001b[0m\u001b[0m\n\u001b[0m",
      "\u001b[1;32m<ipython-input-649-9b862f3cd717>\u001b[0m in \u001b[0;36mdepthCount\u001b[1;34m(lst)\u001b[0m\n\u001b[0;32m      1\u001b[0m \u001b[1;32mdef\u001b[0m \u001b[0mdepthCount\u001b[0m\u001b[1;33m(\u001b[0m\u001b[0mlst\u001b[0m\u001b[1;33m)\u001b[0m\u001b[1;33m:\u001b[0m\u001b[1;33m\u001b[0m\u001b[0m\n\u001b[1;32m----> 2\u001b[1;33m     \u001b[1;32mreturn\u001b[0m \u001b[1;36m1\u001b[0m \u001b[1;33m+\u001b[0m \u001b[0mmax\u001b[0m\u001b[1;33m(\u001b[0m\u001b[0mmap\u001b[0m\u001b[1;33m(\u001b[0m\u001b[0mdepthCount\u001b[0m\u001b[1;33m,\u001b[0m \u001b[0mlst\u001b[0m\u001b[1;33m)\u001b[0m\u001b[1;33m,\u001b[0m \u001b[0mdefault\u001b[0m\u001b[1;33m=\u001b[0m\u001b[1;36m0\u001b[0m\u001b[1;33m)\u001b[0m\u001b[1;33m\u001b[0m\u001b[0m\n\u001b[0m",
      "\u001b[1;32m<ipython-input-649-9b862f3cd717>\u001b[0m in \u001b[0;36mdepthCount\u001b[1;34m(lst)\u001b[0m\n\u001b[0;32m      1\u001b[0m \u001b[1;32mdef\u001b[0m \u001b[0mdepthCount\u001b[0m\u001b[1;33m(\u001b[0m\u001b[0mlst\u001b[0m\u001b[1;33m)\u001b[0m\u001b[1;33m:\u001b[0m\u001b[1;33m\u001b[0m\u001b[0m\n\u001b[1;32m----> 2\u001b[1;33m     \u001b[1;32mreturn\u001b[0m \u001b[1;36m1\u001b[0m \u001b[1;33m+\u001b[0m \u001b[0mmax\u001b[0m\u001b[1;33m(\u001b[0m\u001b[0mmap\u001b[0m\u001b[1;33m(\u001b[0m\u001b[0mdepthCount\u001b[0m\u001b[1;33m,\u001b[0m \u001b[0mlst\u001b[0m\u001b[1;33m)\u001b[0m\u001b[1;33m,\u001b[0m \u001b[0mdefault\u001b[0m\u001b[1;33m=\u001b[0m\u001b[1;36m0\u001b[0m\u001b[1;33m)\u001b[0m\u001b[1;33m\u001b[0m\u001b[0m\n\u001b[0m",
      "\u001b[1;32m<ipython-input-649-9b862f3cd717>\u001b[0m in \u001b[0;36mdepthCount\u001b[1;34m(lst)\u001b[0m\n\u001b[0;32m      1\u001b[0m \u001b[1;32mdef\u001b[0m \u001b[0mdepthCount\u001b[0m\u001b[1;33m(\u001b[0m\u001b[0mlst\u001b[0m\u001b[1;33m)\u001b[0m\u001b[1;33m:\u001b[0m\u001b[1;33m\u001b[0m\u001b[0m\n\u001b[1;32m----> 2\u001b[1;33m     \u001b[1;32mreturn\u001b[0m \u001b[1;36m1\u001b[0m \u001b[1;33m+\u001b[0m \u001b[0mmax\u001b[0m\u001b[1;33m(\u001b[0m\u001b[0mmap\u001b[0m\u001b[1;33m(\u001b[0m\u001b[0mdepthCount\u001b[0m\u001b[1;33m,\u001b[0m \u001b[0mlst\u001b[0m\u001b[1;33m)\u001b[0m\u001b[1;33m,\u001b[0m \u001b[0mdefault\u001b[0m\u001b[1;33m=\u001b[0m\u001b[1;36m0\u001b[0m\u001b[1;33m)\u001b[0m\u001b[1;33m\u001b[0m\u001b[0m\n\u001b[0m",
      "\u001b[1;32m<ipython-input-649-9b862f3cd717>\u001b[0m in \u001b[0;36mdepthCount\u001b[1;34m(lst)\u001b[0m\n\u001b[0;32m      1\u001b[0m \u001b[1;32mdef\u001b[0m \u001b[0mdepthCount\u001b[0m\u001b[1;33m(\u001b[0m\u001b[0mlst\u001b[0m\u001b[1;33m)\u001b[0m\u001b[1;33m:\u001b[0m\u001b[1;33m\u001b[0m\u001b[0m\n\u001b[1;32m----> 2\u001b[1;33m     \u001b[1;32mreturn\u001b[0m \u001b[1;36m1\u001b[0m \u001b[1;33m+\u001b[0m \u001b[0mmax\u001b[0m\u001b[1;33m(\u001b[0m\u001b[0mmap\u001b[0m\u001b[1;33m(\u001b[0m\u001b[0mdepthCount\u001b[0m\u001b[1;33m,\u001b[0m \u001b[0mlst\u001b[0m\u001b[1;33m)\u001b[0m\u001b[1;33m,\u001b[0m \u001b[0mdefault\u001b[0m\u001b[1;33m=\u001b[0m\u001b[1;36m0\u001b[0m\u001b[1;33m)\u001b[0m\u001b[1;33m\u001b[0m\u001b[0m\n\u001b[0m",
      "\u001b[1;31mTypeError\u001b[0m: 'numpy.float64' object is not iterable"
     ]
    }
   ],
   "source": [
    "depthCount(A)"
   ]
  },
  {
   "cell_type": "code",
   "execution_count": null,
   "metadata": {
    "collapsed": true
   },
   "outputs": [],
   "source": []
  }
 ],
 "metadata": {
  "kernelspec": {
   "display_name": "Python 3",
   "language": "python",
   "name": "python3"
  },
  "language_info": {
   "codemirror_mode": {
    "name": "ipython",
    "version": 3
   },
   "file_extension": ".py",
   "mimetype": "text/x-python",
   "name": "python",
   "nbconvert_exporter": "python",
   "pygments_lexer": "ipython3",
   "version": "3.6.3"
  }
 },
 "nbformat": 4,
 "nbformat_minor": 2
}
