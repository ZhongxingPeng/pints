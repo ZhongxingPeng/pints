{
 "cells": [
  {
   "cell_type": "code",
   "execution_count": 487,
   "metadata": {
    "collapsed": true
   },
   "outputs": [],
   "source": [
    "import numpy as np\n",
    "import numpy.linalg as la\n",
    "from scipy.misc import logsumexp\n",
    "import scipy.special\n",
    "def minimum_volume_ellipsoid(points, tol=0.001):\n",
    "        \"\"\"\n",
    "        Finds the ellipse equation in \"center form\":\n",
    "        ``(x-c).T * A * (x-c) = 1``.\n",
    "        \"\"\"\n",
    "        N, d = points.shape\n",
    "        Q = np.column_stack((points, np.ones(N))).T\n",
    "        err = tol + 1\n",
    "        u = np.ones(N) / N\n",
    "        while err > tol:\n",
    "            # assert(u.sum() == 1) # invariant\n",
    "            X = np.dot(np.dot(Q, np.diag(u)), Q.T)\n",
    "            M = np.diag(np.dot(np.dot(Q.T, la.inv(X)), Q))\n",
    "            jdx = np.argmax(M)\n",
    "            step_size = (M[jdx] - d - 1) / ((d + 1) * (M[jdx] - 1))\n",
    "            new_u = (1 - step_size) * u\n",
    "            new_u[jdx] += step_size\n",
    "            err = la.norm(new_u - u)\n",
    "            u = new_u\n",
    "        c = np.dot(u, points)\n",
    "        A = la.inv(\n",
    "            + np.dot(np.dot(points.T, np.diag(u)), points)\n",
    "            - np.multiply.outer(c, c)\n",
    "        ) / d\n",
    "        return A, c\n",
    "\n",
    "def plot_ellipse(A, c, u):\n",
    "    \"\"\"\n",
    "    Plots a ellipse equation in \"center form\":\n",
    "    ``(x-c).T * A * (x-c) = 1``.\n",
    "    \"\"\"\n",
    "    ## find axes lengths\n",
    "    r = np.sqrt(1 / np.linalg.eigvals(A))\n",
    "    t = np.linspace(0, 2 * np.pi, 100)\n",
    "    xt = r[0] * np.cos(t) + c[0]\n",
    "    yt = r[1] * np.sin(t) + c[1]\n",
    "    plt.plot(xt, yt)\n",
    "    plt.scatter(u[:, 0], u[:, 1])\n",
    "    plt.show()\n",
    "\n",
    "def ellipse_volume_calculator(A):\n",
    "    d = A.shape[0]\n",
    "    r = np.sqrt(1 / np.linalg.eigvals(A))\n",
    "    return (np.pi**(d / 2.0) / scipy.special.gamma((d / 2.0) + 1)) * np.prod(r)\n",
    "\n",
    "def enlarge_ellipse_A(enlargement_factor, A):\n",
    "    return (1 / enlargement_factor) * A\n",
    "\n",
    "def V_S_calculator(i, N):\n",
    "    return np.exp(-i / N)\n",
    "\n",
    "# algorithm 1 various steps\n",
    "def step_1(u):\n",
    "    A, c = minimum_volume_ellipsoid(u)\n",
    "    V_E = ellipse_volume_calculator(A)\n",
    "    return A, c, V_E\n",
    "\n",
    "def comparison_enlargement(V_S, V_E, A):\n",
    "    if V_E > V_S:\n",
    "        return A\n",
    "    else:\n",
    "        enlargement_factor = V_S / V_E\n",
    "        return enlarge_ellipse_A(enlargement_factor, A)\n",
    "\n",
    "def step_2(i, N, V_E, A):\n",
    "    V_S = V_S_calculator(i, N)\n",
    "    return comparison_enlargement(V_S, V_E, A), V_S\n",
    "\n",
    "from scipy.cluster.vq import vq, kmeans\n",
    "def step_3(u):\n",
    "    centers, assignment = scipy.cluster.vq.kmeans2(u, 2)\n",
    "    return centers, assignment\n",
    "def ellipse_find_volume_calculator(a_index, u, assigments):\n",
    "    points = u[np.where(assignment == a_index)]\n",
    "    A, c = minimum_volume_ellipsoid(points)\n",
    "    return A, c, ellipse_volume_calculator(A)\n",
    "def ellipse_find_volume_calculator_fast(a_index, u, assignments, tol=0):\n",
    "    points = u[np.where(assignments == a_index)]\n",
    "    A, c = minimum_volume_ellipsoid_fast(points, tol)\n",
    "    return A, c, ellipse_volume_calculator(A)\n",
    "def step_4(assignments, u):\n",
    "    A_l = [None] * 2\n",
    "    c_l = [None] * 2\n",
    "    V_E_l = [None] * 2\n",
    "    for i in range(0, 2):\n",
    "        A, c, V_E = ellipse_find_volume_calculator_fast(i, u, assignments)\n",
    "        A_l[i] = A\n",
    "        c_l[i] = c\n",
    "        V_E_l[i] = V_E\n",
    "    return A_l, c_l, V_E_l\n",
    "def V_S_k_calculator(n_k, N, V_S):\n",
    "    return n_k * V_S / N\n",
    "def step_5(assignments, V_E_l, A_l, V_S):\n",
    "    A_new_l = [None] * 2\n",
    "    V_S_k_l = [None] * 2\n",
    "    N = len(assignments)\n",
    "    for i in range(0, 2):\n",
    "        n = np.sum(assignments == i)\n",
    "        V_S_k_l[i] = V_S_k_calculator(n, N, V_S)\n",
    "        A_new_l[i] = comparison_enlargement(V_S_k_l[i], V_E_l[i], A_l[i])\n",
    "    return A_new_l, V_S_k_l\n",
    "def mahalanobis_distance(point, mean, A):\n",
    "    return np.matmul(np.matmul(point - mean, A), point - mean)\n",
    "# Based on eqn. (16) in the paper but corrected for subtracting the means\n",
    "# also added a tolerance that can be used to improve performance\n",
    "def minimum_volume_ellipsoid_fast(points, tol=0.0):\n",
    "    cov = np.cov(np.transpose(points))\n",
    "    cov_inv = np.linalg.inv(cov)\n",
    "    c = np.mean(points, axis=0)\n",
    "    dist = np.zeros(len(points))\n",
    "    for i in range(len(points)):\n",
    "        dist[i] = mahalanobis_distance(points[i], c, cov_inv)\n",
    "    enlargement_factor = np.max(dist)\n",
    "    A = (1 - tol) * (1.0 / enlargement_factor) * cov_inv\n",
    "    return A, c\n",
    "\n",
    "def step_6(points, c_k_l, A_k_l, V_E_l, V_S_k_l):\n",
    "    n = len(points)\n",
    "    assignments_new = np.zeros(n)\n",
    "    for i in range(0, n):\n",
    "        h_k_max = float('inf')\n",
    "        for j in range(0, 2):\n",
    "            h_k = h_k_calculator(points[i], c_k_l[j],\n",
    "                                 A_k_l[j], V_E_l[j], V_S_k_l[j])\n",
    "            if h_k < h_k_max:\n",
    "                assignments_new[i] = j\n",
    "                h_k_max = h_k\n",
    "    return assignments_new\n",
    "def h_k_calculator(point, mean_k, A_k, V_E_k, V_S_k):\n",
    "    d = mahalanobis_distance(point, mean_k, A_k)\n",
    "    return V_E_k * d / V_S_k"
   ]
  },
  {
   "cell_type": "markdown",
   "metadata": {},
   "source": [
    "Generate 2d points uniformly (in multinest the points must be uniformly distributed in parameter space)"
   ]
  },
  {
   "cell_type": "code",
   "execution_count": 352,
   "metadata": {},
   "outputs": [
    {
     "data": {
      "image/png": "[encoded data removed]",
      "text/plain": [
       "<matplotlib.figure.Figure at 0x23ce89b9358>"
      ]
     },
     "metadata": {},
     "output_type": "display_data"
    }
   ],
   "source": [
    "import matplotlib.pyplot as plt\n",
    "N = 100\n",
    "u = np.random.uniform(0, 1, size=(N, 2))\n",
    "plt.scatter(u[:, 0], u[:, 1])\n",
    "plt.show()"
   ]
  },
  {
   "cell_type": "markdown",
   "metadata": {},
   "source": [
    "Calculate minimum volume ellipsoid and plot it"
   ]
  },
  {
   "cell_type": "code",
   "execution_count": 353,
   "metadata": {},
   "outputs": [
    {
     "data": {
      "image/png": "[encoded data removed]",
      "text/plain": [
       "<matplotlib.figure.Figure at 0x23ce8a24b70>"
      ]
     },
     "metadata": {},
     "output_type": "display_data"
    }
   ],
   "source": [
    "A, c = minimum_volume_ellipsoid_fast(u)\n",
    "plot_ellipse(A, c, u)"
   ]
  },
  {
   "cell_type": "markdown",
   "metadata": {},
   "source": [
    "Calculate V(S) - the volume of the space on which the points are distributed which is a function of the iteration $i$\n",
    "\n",
    "$$V(S) = exp(-i / N),$$\n",
    "\n",
    "where $N$ is the number of points."
   ]
  },
  {
   "cell_type": "code",
   "execution_count": 255,
   "metadata": {},
   "outputs": [],
   "source": [
    "V_S=V_S_calculator(1, N)"
   ]
  },
  {
   "cell_type": "markdown",
   "metadata": {},
   "source": [
    "Calculate volume of ellipse from its center form which is given by (https://math.stackexchange.com/questions/606184/volume-of-n-dimensional-ellipsoid),\n",
    "\n",
    "$$V(E) = \\frac{\\pi^{d/2}}{\\Gamma((d/2)+1)} \\prod_{i=1}^{d} r_{i}$$,\n",
    "\n",
    "where $r_i = 1 / \\sqrt{\\lambda_i}$ are the lengths of the semi axes and $\\lambda_i$ are the eigenvalues of the matrix $A$; $d$ is the number of dimensions."
   ]
  },
  {
   "cell_type": "code",
   "execution_count": 91,
   "metadata": {},
   "outputs": [
    {
     "data": {
      "text/plain": [
       "1.1000000000000001"
      ]
     },
     "execution_count": 91,
     "metadata": {},
     "output_type": "execute_result"
    }
   ],
   "source": [
    "ellipse_volume_calculator(enlarge_ellipse_A(1.1, A)) / ellipse_volume_calculator(A)"
   ]
  },
  {
   "cell_type": "code",
   "execution_count": 688,
   "metadata": {},
   "outputs": [],
   "source": [
    "def f_s_minimisation_steps_1_to_3(i, u):\n",
    "    A, c, V_E = step_1(u)\n",
    "    N = len(u)\n",
    "    A, V_S = step_2(i, N, V_E, A)\n",
    "    V_E = ellipse_volume_calculator(A)\n",
    "    centers, assignments = step_3(u)\n",
    "    return assignments, A, N, V_E, V_S, c\n",
    "def f_s_minimisation_lines_4_to_13(assignments, u, max_recursion):\n",
    "    A_k_l, c_k_l, V_E_l = step_4(assignments, u)\n",
    "    A_new_l, V_S_k_l = step_5(assignments, V_E_l, A_k_l, V_S)\n",
    "    assignments_new = step_6(u, c_k_l, A_k_l, V_E_l, V_S_k_l)\n",
    "    assignments_new = assignments_new.astype(int)\n",
    "    # stops algorithmic oscillation (not in original algorithm)\n",
    "    if max_recursion > 20:\n",
    "        return assignments_new, A_new_l, V_S_k_l, c_k_l\n",
    "    if np.array_equal(assignments, assignments_new):\n",
    "        return assignments_new, A_new_l, V_S_k_l, c_k_l\n",
    "    else:\n",
    "        return f_s_minimisation_lines_4_to_13(assignments_new, u, max_recursion + 1)\n",
    "def f_s_minimisation_lines_2_onwards(u, V_E, V_S, A, c):\n",
    "    A = comparison_enlargement(V_S, V_E, A)\n",
    "    V_E = ellipse_volume_calculator(A)\n",
    "    centers, assignments = step_3(u)\n",
    "    assignments_new, A_new_l, V_S_k_l, c_k_l = f_s_minimisation_lines_4_to_13(assignments, u, 1)\n",
    "    # lines 14 onwards\n",
    "    V_E_k_l = np.zeros(2)\n",
    "    for i in range(0, 2):\n",
    "        V_E_k_l[i] = ellipse_volume_calculator(A_new_l[i])\n",
    "    V_E_k_tot = np.sum(V_E_k_l)\n",
    "    if V_E_k_tot < V_E or V_E > 2 * V_S:\n",
    "        A_k_l = [None] * 2\n",
    "        c_k_l1 = [None] * 2\n",
    "        for i in range(0, 2):\n",
    "            u_new = u[np.where(assignments_new == i)]\n",
    "            A_k_l[i], c_k_l1[i] = f_s_minimisation_lines_2_onwards(u_new, V_E_k_l[i], V_S_k_l[i], A_new_l[i], c_k_l[i])\n",
    "        return A_k_l, c_k_l1\n",
    "    else:\n",
    "        return A, c"
   ]
  },
  {
   "cell_type": "code",
   "execution_count": 689,
   "metadata": {
    "collapsed": true
   },
   "outputs": [],
   "source": [
    "def f_s_minimisation(i, u):\n",
    "    assignments, A, N, V_E, V_S, c = f_s_minimisation_steps_1_to_3(i, u)\n",
    "    assignments_new, A_new_l, V_S_k_l, c_k_l = f_s_minimisation_lines_4_to_13(assignments, u, 1)\n",
    "    # lines 14 onwards\n",
    "    V_E_k_l = np.zeros(2)\n",
    "    for i in range(0, 2):\n",
    "        V_E_k_l[i] = ellipse_volume_calculator(A_new_l[i])\n",
    "    V_E_k_tot = np.sum(V_E_k_l)\n",
    "    if V_E_k_tot < V_E or V_E > 2 * V_S:\n",
    "        A_k_l = [None] * 2\n",
    "        c_k_l1 = [None] * 2\n",
    "        for i in range(0, 2):\n",
    "            u_new = u[np.where(assignments_new == i)]\n",
    "            A_k_l[i], c_k_l1[i] = f_s_minimisation_lines_2_onwards(u_new, V_E_k_l[i], V_S_k_l[i], A_new_l[i], c_k_l[i])\n",
    "        return A_k_l, c_k_l1\n",
    "    else:\n",
    "        return A, c"
   ]
  },
  {
   "cell_type": "code",
   "execution_count": 817,
   "metadata": {},
   "outputs": [
    {
     "data": {
      "text/plain": [
       "[array([[ 2.52985911,  0.2664313 ],\n",
       "        [ 0.2664313 ,  9.28804574]]), array([[ 2.4190559 , -0.10363926],\n",
       "        [-0.10363926,  8.98648434]])]"
      ]
     },
     "execution_count": 817,
     "metadata": {},
     "output_type": "execute_result"
    }
   ],
   "source": [
    "u = np.random.uniform(0, 1, size=(200, 2))\n",
    "A, c = f_s_minimisation(1, u)\n",
    "A"
   ]
  },
  {
   "cell_type": "code",
   "execution_count": 818,
   "metadata": {},
   "outputs": [
    {
     "data": {
      "text/plain": [
       "array([[ 2.52985911,  0.2664313 ],\n",
       "       [ 0.2664313 ,  9.28804574]])"
      ]
     },
     "execution_count": 818,
     "metadata": {},
     "output_type": "execute_result"
    }
   ],
   "source": [
    "A[0]"
   ]
  },
  {
   "cell_type": "code",
   "execution_count": 819,
   "metadata": {},
   "outputs": [
    {
     "data": {
      "text/plain": [
       "array([ 0.51377599,  0.23206732])"
      ]
     },
     "execution_count": 819,
     "metadata": {},
     "output_type": "execute_result"
    }
   ],
   "source": [
    "c[0]"
   ]
  },
  {
   "cell_type": "code",
   "execution_count": 825,
   "metadata": {
    "collapsed": true
   },
   "outputs": [],
   "source": [
    "def plot_ellipse_basic(A, c):\n",
    "    \"\"\"\n",
    "    Plots a ellipse equation in \"center form\":\n",
    "    ``(x-c).T * A * (x-c) = 1``.\n",
    "    \"\"\"\n",
    "    ## find axes lengths\n",
    "    r = np.sqrt(1 / np.linalg.eigvals(A))\n",
    "    t = np.linspace(0, 2 * np.pi, 100)\n",
    "    xt = r[0] * np.cos(t) + c[0]\n",
    "    yt = r[1] * np.sin(t) + c[1]\n",
    "    plt.plot(xt, yt)\n",
    "def plot_many_ellipse(A_l, c_l, u):\n",
    "    for i in range(0, len(A_l)):\n",
    "        plot_ellipse_basic(A_l[i], c_l[i])\n",
    "    plt.scatter(u[:, 0], u[:, 1])\n",
    "    plt.show()"
   ]
  },
  {
   "cell_type": "code",
   "execution_count": 826,
   "metadata": {},
   "outputs": [
    {
     "data": {
      "image/png": "[encoded data removed]",
      "text/plain": [
       "<matplotlib.figure.Figure at 0x23ce5f50240>"
      ]
     },
     "metadata": {},
     "output_type": "display_data"
    }
   ],
   "source": [
    "plot_many_ellipse(A, c, u)"
   ]
  },
  {
   "cell_type": "code",
   "execution_count": null,
   "metadata": {
    "collapsed": true
   },
   "outputs": [],
   "source": []
  }
 ],
 "metadata": {
  "kernelspec": {
   "display_name": "Python 3",
   "language": "python",
   "name": "python3"
  },
  "language_info": {
   "codemirror_mode": {
    "name": "ipython",
    "version": 3
   },
   "file_extension": ".py",
   "mimetype": "text/x-python",
   "name": "python",
   "nbconvert_exporter": "python",
   "pygments_lexer": "ipython3",
   "version": "3.6.3"
  }
 },
 "nbformat": 4,
 "nbformat_minor": 2
}
