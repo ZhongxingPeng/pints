{
 "cells": [
  {
   "cell_type": "markdown",
   "metadata": {},
   "source": [
    "## Inference for data with autoregressive-moving-average (ARMA) errors\n",
    "\n",
    "This example shows you how to perform Bayesian inference on a time series, using [Differential Evolution MCMC](http://pints.readthedocs.io/en/latest/mcmc_samplers/differential_evolution_mcmc.html).\n",
    "\n",
    "It follows on from the [first sampling example](./sampling-first-example.ipynb)."
   ]
  },
  {
   "cell_type": "markdown",
   "metadata": {},
   "source": [
    "## Generating data with AR1 errors\n",
    "\n",
    "Here the observed data follows,\n",
    "\n",
    "$$y(t) \\sim \\mathcal{N}\\left(f(t; \\theta), \\epsilon(t)\\right),$$\n",
    "\n",
    "where, $$\\epsilon(t) = \\rho \\epsilon(t-1) + \\nu(t),$$ and $\\nu(t) \\overset{i.i.d.}{\\sim} \\mathcal{N}(0, \\sigma)$."
   ]
  },
  {
   "cell_type": "code",
   "execution_count": 4,
   "metadata": {},
   "outputs": [
    {
     "data": {
      "image/png": "[encoded data removed]",
      "text/plain": [
       "<matplotlib.figure.Figure at 0x1a13aecc90>"
      ]
     },
     "metadata": {},
     "output_type": "display_data"
    }
   ],
   "source": [
    "import os\n",
    "os.chdir(\"../\")\n",
    "from __future__ import print_function\n",
    "import pints\n",
    "import pints.toy as toy\n",
    "import pints.plot\n",
    "import numpy as np\n",
    "import matplotlib.pyplot as plt\n",
    "\n",
    "# Load a forward model\n",
    "model = toy.LogisticModel()\n",
    "\n",
    "# Create some toy data\n",
    "real_parameters = [0.015, 500]\n",
    "times = np.linspace(0, 1000, 100)\n",
    "org_values = model.simulate(real_parameters, times)\n",
    "\n",
    "# Add noise\n",
    "noise = 40\n",
    "rho = 0.9\n",
    "errors = pints.noise.ar1(rho, noise, len(org_values))\n",
    "values = org_values + errors\n",
    "real_parameters = np.array(real_parameters + [rho, noise])\n",
    "\n",
    "# Show the noisy data\n",
    "plt.figure()\n",
    "plt.plot(times, org_values)\n",
    "plt.plot(times, values)\n",
    "plt.xlabel('time')\n",
    "plt.ylabel('y')\n",
    "plt.legend(['true', 'observed'])\n",
    "plt.show()"
   ]
  },
  {
   "cell_type": "markdown",
   "metadata": {},
   "source": [
    "## Fit model with AR1 errors"
   ]
  },
  {
   "cell_type": "code",
   "execution_count": null,
   "metadata": {},
   "outputs": [
    {
     "name": "stdout",
     "output_type": "stream",
     "text": [
      "Running...\n"
     ]
    }
   ],
   "source": [
    "# Get properties of the noise sample\n",
    "noise_sample_mean = np.mean(values - org_values)\n",
    "noise_sample_std = np.std(values - org_values)\n",
    "\n",
    "# Create an object with links to the model and time series\n",
    "problem = pints.SingleOutputProblem(model, times, values)\n",
    "\n",
    "# Create a log-likelihood function (adds an extra parameter!)\n",
    "log_likelihood = pints.AR1LogLikelihood(problem)\n",
    "\n",
    "# Create a uniform prior over both the parameters and the new noise variable\n",
    "log_prior = pints.UniformLogPrior(\n",
    "    [0.01, 400, 0, noise * 0.1],\n",
    "    [0.02, 600, 1, noise * 100],\n",
    ")\n",
    "\n",
    "# Create a posterior log-likelihood (log(likelihood * prior))\n",
    "log_posterior = pints.LogPosterior(log_likelihood, log_prior)\n",
    "\n",
    "# Choose starting points for 3 mcmc chains\n",
    "xs = [\n",
    "    real_parameters * 1.05,\n",
    "    real_parameters * 1,\n",
    "    real_parameters * 1.1,\n",
    "    real_parameters * 0.9,\n",
    "    real_parameters * 0.8,\n",
    "    real_parameters * 0.85,\n",
    "]\n",
    "\n",
    "# Create mcmc routine\n",
    "mcmc = pints.MCMCSampling(log_posterior, 6, xs, method=pints.DifferentialEvolutionMCMC)\n",
    "\n",
    "# Add stopping criterion\n",
    "mcmc.set_max_iterations(8000)\n",
    "\n",
    "# Disable logging\n",
    "mcmc.set_log_to_screen(False)\n",
    "\n",
    "# Set number of iterations between which gamma=1 (for a single iteration)\n",
    "mcmc.sampler().set_gamma_switch_rate(2000)\n",
    "\n",
    "# Set to uniform error process rather than normal\n",
    "mcmc.sampler().set_normal_error(0)\n",
    "\n",
    "# Run!\n",
    "print('Running...')\n",
    "chains = mcmc.run()\n",
    "print('Done!')\n",
    "\n",
    "# Check convergence using rhat criterion\n",
    "print('R-hat:')\n",
    "print(pints.rhat_all_params(chains))\n",
    "\n",
    "# Show traces and histograms\n",
    "pints.plot.trace(chains)\n",
    "\n",
    "# Discard warm up\n",
    "chains = chains[:, 5000:, :]\n",
    "\n",
    "# Apply thinning\n",
    "chains = chains[:, ::10, :]\n",
    "\n",
    "# Look at distribution in chain 0\n",
    "pints.plot.pairwise(chains[0], kde=True, ref_parameters=real_parameters)\n",
    "\n",
    "# Show graphs\n",
    "plt.show()"
   ]
  },
  {
   "cell_type": "markdown",
   "metadata": {},
   "source": [
    "## Generate model with ARMA errors\n",
    "\n",
    "Here the observed data follows,\n",
    "\n",
    "$$y(t) \\sim \\mathcal{N}\\left(f(t; \\theta), \\epsilon(t)\\right),$$\n",
    "\n",
    "where, $$\\epsilon(t) = \\rho \\epsilon(t-1) + \\nu(t) + \\phi \\nu(t-1),$$ and $\\nu(t) \\overset{i.i.d.}{\\sim} \\mathcal{N}(0, \\sigma)$."
   ]
  },
  {
   "cell_type": "code",
   "execution_count": null,
   "metadata": {},
   "outputs": [],
   "source": [
    "# Create some toy data\n",
    "real_parameters = [0.015, 500]\n",
    "times = np.linspace(0, 1000, 100)\n",
    "org_values = model.simulate(real_parameters, times)\n",
    "\n",
    "# Add noise\n",
    "noise = 40\n",
    "rho = 0.9\n",
    "phi = 0.95\n",
    "errors = pints.noise.arma11(rho, phi, noise, len(org_values))\n",
    "values = org_values + errors\n",
    "real_parameters = np.array(real_parameters + [noise, rho])\n",
    "\n",
    "# Show the noisy data\n",
    "plt.figure()\n",
    "plt.plot(times, org_values)\n",
    "plt.plot(times, values)\n",
    "plt.xlabel('time')\n",
    "plt.ylabel('y')\n",
    "plt.legend(['true', 'observed'])\n",
    "plt.show()"
   ]
  },
  {
   "cell_type": "markdown",
   "metadata": {},
   "source": [
    "## Fit model with ARMA(1, 1) errors"
   ]
  },
  {
   "cell_type": "code",
   "execution_count": null,
   "metadata": {
    "collapsed": true
   },
   "outputs": [],
   "source": [
    "# Get properties of the noise sample\n",
    "noise_sample_mean = np.mean(values - org_values)\n",
    "noise_sample_std = np.std(values - org_values)\n",
    "\n",
    "# Create an object with links to the model and time series\n",
    "problem = pints.SingleOutputProblem(model, times, values)\n",
    "\n",
    "# Create a log-likelihood function (adds an extra parameter!)\n",
    "log_likelihood = pints.ARMA1LogLikelihood(problem)\n",
    "\n",
    "# Create a uniform prior over both the parameters and the new noise variable\n",
    "log_prior = pints.UniformLogPrior(\n",
    "    [0.01, 400, noise * 0.1, 0],\n",
    "    [0.02, 600, noise * 100, 1],\n",
    ")\n",
    "\n",
    "# Create a posterior log-likelihood (log(likelihood * prior))\n",
    "log_posterior = pints.LogPosterior(log_likelihood, log_prior)\n",
    "\n",
    "# Choose starting points for 3 mcmc chains\n",
    "xs = [\n",
    "    real_parameters * 1.05,\n",
    "    real_parameters * 1,\n",
    "    real_parameters * 1.1,\n",
    "    real_parameters * 0.9,\n",
    "    real_parameters * 0.8,\n",
    "    real_parameters * 0.85,\n",
    "]\n",
    "\n",
    "# Create mcmc routine\n",
    "mcmc = pints.MCMCSampling(log_posterior, 6, xs, method=pints.DifferentialEvolutionMCMC)\n",
    "\n",
    "# Add stopping criterion\n",
    "mcmc.set_max_iterations(8000)\n",
    "\n",
    "# Disable logging\n",
    "mcmc.set_log_to_screen(False)\n",
    "\n",
    "# Set number of iterations between which gamma=1 (for a single iteration)\n",
    "mcmc.sampler().set_gamma_switch_rate(2000)\n",
    "\n",
    "# Set to uniform error process rather than normal\n",
    "mcmc.sampler().set_normal_error(0)\n",
    "\n",
    "# Run!\n",
    "print('Running...')\n",
    "chains = mcmc.run()\n",
    "print('Done!')\n",
    "\n",
    "# Check convergence using rhat criterion\n",
    "print('R-hat:')\n",
    "print(pints.rhat_all_params(chains))\n",
    "\n",
    "# Show traces and histograms\n",
    "pints.plot.trace(chains)\n",
    "\n",
    "# Discard warm up\n",
    "chains = chains[:, 5000:, :]\n",
    "\n",
    "# Apply thinning\n",
    "chains = chains[:, ::10, :]\n",
    "\n",
    "# Look at distribution in chain 0\n",
    "pints.plot.pairwise(chains[0], kde=True, ref_parameters=real_parameters)\n",
    "\n",
    "# Show graphs\n",
    "plt.show()"
   ]
  }
 ],
 "metadata": {
  "kernelspec": {
   "display_name": "Python 2",
   "language": "python",
   "name": "python2"
  },
  "language_info": {
   "codemirror_mode": {
    "name": "ipython",
    "version": 2
   },
   "file_extension": ".py",
   "mimetype": "text/x-python",
   "name": "python",
   "nbconvert_exporter": "python",
   "pygments_lexer": "ipython2",
   "version": "2.7.14"
  }
 },
 "nbformat": 4,
 "nbformat_minor": 2
}
