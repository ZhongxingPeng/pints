{
 "cells": [
  {
   "cell_type": "markdown",
   "metadata": {},
   "source": [
    "# Optimisation: SNES\n",
    "\n",
    "This example shows you how to run a global optimisation with [SNES](http://pints.readthedocs.io/en/latest/optimisers/snes.html).\n",
    "\n",
    "For a more elaborate example of an optimisation, see: https://github.com/martinjrobins/pints/blob/master/examples/optimisation-first-example.ipynb"
   ]
  },
  {
   "cell_type": "code",
   "execution_count": 2,
   "metadata": {},
   "outputs": [
    {
     "name": "stdout",
     "output_type": "stream",
     "text": [
      "Minimising error measure\n",
      "using Seperable Natural Evolution Strategy (SNES)\n",
      "Running in sequential mode.\n",
      "Iter. Eval. Best      Time m:s\n",
      "0     6      1231692    0:00.0\n",
      "1     12     458397     0:00.0\n",
      "2     18     458397     0:00.0\n",
      "3     24     458397     0:00.0\n",
      "20    126    106849.2   0:00.0\n",
      "40    246    105915     0:00.0\n",
      "60    366    103382.7   0:00.0\n",
      "80    486    103378.7   0:00.1\n",
      "100   606    103378.6   0:00.1\n",
      "120   726    103378.6   0:00.1\n",
      "140   846    103378.6   0:00.1\n",
      "160   966    103378.6   0:00.1\n",
      "180   1086   103378.6   0:00.1\n",
      "200   1206   103378.6   0:00.1\n",
      "220   1326   103378.6   0:00.1\n",
      "240   1446   103378.6   0:00.1\n",
      "260   1566   103378.6   0:00.2\n",
      "280   1686   103378.6   0:00.2\n",
      "300   1806   103378.6   0:00.2\n",
      "320   1926   103378.6   0:00.2\n",
      "340   2046   103378.6   0:00.2\n",
      "360   2166   103378.6   0:00.2\n",
      "380   2286   103378.6   0:00.2\n",
      "399   2394   103378.6   0:00.2\n",
      "Halting: No significant change for 200 iterations.\n",
      "Score at true solution: \n",
      "103476.217633\n",
      "Found solution:          True parameters:\n",
      " 1.50168050220782067e-02     1.49999999999999994e-02\n",
      " 4.99764139272322723e+02     5.00000000000000000e+02\n"
     ]
    },
    {
     "data": {
      "image/png": "[encoded data removed]",
      "text/plain": [
       "<matplotlib.figure.Figure at 0x7fac24564828>"
      ]
     },
     "metadata": {},
     "output_type": "display_data"
    }
   ],
   "source": [
    "from __future__ import print_function\n",
    "import pints\n",
    "import pints.toy as toy\n",
    "import numpy as np\n",
    "import matplotlib.pyplot as pl\n",
    "\n",
    "# Load a forward model\n",
    "model = toy.LogisticModel()\n",
    "\n",
    "# Create some toy data\n",
    "real_parameters = [0.015, 500]\n",
    "times = np.linspace(0, 1000, 1000)\n",
    "values = model.simulate(real_parameters, times)\n",
    "\n",
    "# Add noise\n",
    "values += np.random.normal(0, 10, values.shape)\n",
    "\n",
    "# Create an object with links to the model and time series\n",
    "problem = pints.SingleSeriesProblem(model, times, values)\n",
    "\n",
    "# Select a score function\n",
    "score = pints.SumOfSquaresError(problem)\n",
    "\n",
    "# Select some boundaries\n",
    "boundaries = pints.Boundaries([0, 400], [0.03, 600])\n",
    "\n",
    "# Perform an optimization with boundaries and hints\n",
    "x0 = 0.01, 450\n",
    "sigma0 = [0.01, 100]\n",
    "found_parameters, found_value = pints.optimise(\n",
    "    score,\n",
    "    x0,\n",
    "    sigma0,\n",
    "    boundaries,\n",
    "    method=pints.SNES,\n",
    ")\n",
    "\n",
    "# Show score of true solution\n",
    "print('Score at true solution: ')\n",
    "print(score(real_parameters))\n",
    "\n",
    "# Compare parameters with original\n",
    "print('Found solution:          True parameters:' )\n",
    "for k, x in enumerate(found_parameters):\n",
    "    print(pints.strfloat(x) + '    ' + pints.strfloat(real_parameters[k]))\n",
    "\n",
    "# Show quality of fit\n",
    "pl.figure()\n",
    "pl.xlabel('Time')\n",
    "pl.ylabel('Value')\n",
    "pl.plot(times, values, label='Nosiy data')\n",
    "pl.plot(times, problem.evaluate(found_parameters), label='Fit')\n",
    "pl.legend()\n",
    "pl.show()"
   ]
  }
 ],
 "metadata": {
  "kernelspec": {
   "display_name": "Python 2",
   "language": "python",
   "name": "python2"
  },
  "language_info": {
   "codemirror_mode": {
    "name": "ipython",
    "version": 3
   },
   "file_extension": ".py",
   "mimetype": "text/x-python",
   "name": "python",
   "nbconvert_exporter": "python",
   "pygments_lexer": "ipython3",
   "version": "3.6.4"
  }
 },
 "nbformat": 4,
 "nbformat_minor": 2
}
