{
 "cells": [
  {
   "cell_type": "code",
   "execution_count": 1,
   "metadata": {},
   "outputs": [
    {
     "name": "stdout",
     "output_type": "stream",
     "text": [
      "Running...\n",
      "Done!\n"
     ]
    }
   ],
   "source": [
    "import sys\n",
    "import os\n",
    "cwd = os.getcwd()\n",
    "sys.path.append('C:\\\\Users\\\\bclamber\\\\Desktop\\\\pints')\n",
    "from __future__ import print_function\n",
    "import pints\n",
    "import pints.toy as toy\n",
    "import pints._diagnostics as diagnostics\n",
    "import numpy as np\n",
    "import matplotlib.pyplot as plt\n",
    "\n",
    "# Load a forward model\n",
    "model = toy.LogisticModel()\n",
    "\n",
    "# Create some toy data\n",
    "real_parameters = [0.015, 500]\n",
    "times = np.linspace(0, 1000, 100)\n",
    "org_values = model.simulate(real_parameters, times)\n",
    "\n",
    "# Add noise\n",
    "noise = 10\n",
    "values = org_values + np.random.normal(0, noise, org_values.shape)\n",
    "real_parameters = np.array(real_parameters + [noise])\n",
    "\n",
    "# Get properties of the noise sample\n",
    "noise_sample_mean = np.mean(values - org_values)\n",
    "noise_sample_std = np.std(values - org_values)\n",
    "\n",
    "# Create an object with links to the model and time series\n",
    "problem = pints.SingleSeriesProblem(model, times, values)\n",
    "\n",
    "# Create a log-likelihood function (adds an extra parameter!)\n",
    "log_likelihood = pints.UnknownNoiseLogLikelihood(problem)\n",
    "\n",
    "# Create a uniform prior over both the parameters and the new noise variable\n",
    "prior = pints.UniformPrior(\n",
    "    [0.01, 400, noise*0.1],\n",
    "    [0.02, 600, noise*100]\n",
    "    )\n",
    "\n",
    "# Create a Bayesian (un-normalised) log-posterior (prior * likelihood)\n",
    "log_posterior = pints.LogPosterior(prior, log_likelihood)\n",
    "\n",
    "# Create a Population MCMC routine (uses parallel tempering)\n",
    "x0 = real_parameters\n",
    "mcmc = pints.PopulationMCMC(log_posterior, x0)\n",
    "\n",
    "# Use 20000 iterations in total\n",
    "mcmc.set_iterations(20000)\n",
    "\n",
    "# Use 5 different temperatures\n",
    "#mcmc.set_num_temperatures(5)\n",
    "\n",
    "# Disable verbose mode\n",
    "mcmc.set_verbose(False)\n",
    "\n",
    "# Run!\n",
    "print('Running...')\n",
    "chain = mcmc.run()\n",
    "print('Done!')"
   ]
  },
  {
   "cell_type": "code",
   "execution_count": 5,
   "metadata": {},
   "outputs": [
    {
     "data": {
      "image/png": "[encoded data removed]",
      "text/plain": [
       "<matplotlib.figure.Figure at 0x2b7af7f26a0>"
      ]
     },
     "metadata": {},
     "output_type": "display_data"
    }
   ],
   "source": [
    "plt.hist(chain[4][:,1])\n",
    "plt.show()"
   ]
  },
  {
   "cell_type": "code",
   "execution_count": 6,
   "metadata": {},
   "outputs": [
    {
     "name": "stdout",
     "output_type": "stream",
     "text": [
      "0.573390763773\n",
      "0.552325459414\n"
     ]
    }
   ],
   "source": [
    "print(np.std(chain[0][:,2]))\n",
    "print(np.std(chain[4][:,2]))"
   ]
  },
  {
   "cell_type": "code",
   "execution_count": 20,
   "metadata": {},
   "outputs": [
    {
     "data": {
      "text/plain": [
       "[array([[  1.71174364e-02,   4.92996563e+02,   2.54264223e+01],\n",
       "        [  1.71174364e-02,   4.92996563e+02,   2.54264223e+01],\n",
       "        [  1.71174364e-02,   4.81346217e+02,   2.54264223e+01],\n",
       "        ..., \n",
       "        [  1.71174364e-02,   5.02606055e+02,   1.34402970e+01],\n",
       "        [  1.71174364e-02,   5.02606055e+02,   1.34402970e+01],\n",
       "        [  1.71174364e-02,   5.02606055e+02,   1.34402970e+01]]),\n",
       " array([[  1.71174364e-02,   4.92996563e+02,   2.49277596e+01],\n",
       "        [  1.71174364e-02,   4.92996563e+02,   2.49277596e+01],\n",
       "        [  1.71174364e-02,   4.92996563e+02,   2.49277596e+01],\n",
       "        ..., \n",
       "        [  1.71174364e-02,   5.02606055e+02,   1.34402970e+01],\n",
       "        [  1.71174364e-02,   5.02606055e+02,   1.34402970e+01],\n",
       "        [  1.71174364e-02,   5.02606055e+02,   1.34402970e+01]]),\n",
       " array([[  1.58438242e-02,   4.92996563e+02,   2.49277596e+01],\n",
       "        [  1.58438242e-02,   4.92996563e+02,   2.49277596e+01],\n",
       "        [  1.58438242e-02,   4.92996563e+02,   2.49277596e+01],\n",
       "        ..., \n",
       "        [  1.71174364e-02,   5.02606055e+02,   1.34402970e+01],\n",
       "        [  1.71174364e-02,   5.02606055e+02,   1.34402970e+01],\n",
       "        [  1.71174364e-02,   5.02606055e+02,   1.34402970e+01]]),\n",
       " array([[  1.61826703e-02,   4.92996563e+02,   2.49277596e+01],\n",
       "        [  1.61826703e-02,   4.92996563e+02,   2.49277596e+01],\n",
       "        [  1.61826703e-02,   4.92996563e+02,   2.49277596e+01],\n",
       "        ..., \n",
       "        [  1.71174364e-02,   5.02606055e+02,   1.34402970e+01],\n",
       "        [  1.71174364e-02,   5.02606055e+02,   1.34402970e+01],\n",
       "        [  1.71174364e-02,   5.02606055e+02,   1.34402970e+01]]),\n",
       " array([[  1.58438242e-02,   4.81346217e+02,   2.49277596e+01],\n",
       "        [  1.58438242e-02,   4.81346217e+02,   2.49277596e+01],\n",
       "        [  1.58438242e-02,   4.81346217e+02,   2.49277596e+01],\n",
       "        ..., \n",
       "        [  1.71174364e-02,   5.02606055e+02,   1.34402970e+01],\n",
       "        [  1.71174364e-02,   5.02606055e+02,   1.34402970e+01],\n",
       "        [  1.71174364e-02,   5.02606055e+02,   1.34402970e+01]])]"
      ]
     },
     "execution_count": 20,
     "metadata": {},
     "output_type": "execute_result"
    }
   ],
   "source": [
    "chain"
   ]
  },
  {
   "cell_type": "code",
   "execution_count": 27,
   "metadata": {
    "collapsed": true
   },
   "outputs": [],
   "source": [
    "i,j = np.random.choice(5,2,replace=False)"
   ]
  },
  {
   "cell_type": "code",
   "execution_count": 28,
   "metadata": {},
   "outputs": [
    {
     "data": {
      "text/plain": [
       "0"
      ]
     },
     "execution_count": 28,
     "metadata": {},
     "output_type": "execute_result"
    }
   ],
   "source": [
    "i"
   ]
  },
  {
   "cell_type": "code",
   "execution_count": 4,
   "metadata": {},
   "outputs": [
    {
     "data": {
      "text/plain": [
       "0.5"
      ]
     },
     "execution_count": 4,
     "metadata": {},
     "output_type": "execute_result"
    }
   ],
   "source": [
    "0.005 * 10**2"
   ]
  },
  {
   "cell_type": "code",
   "execution_count": 31,
   "metadata": {},
   "outputs": [
    {
     "data": {
      "text/plain": [
       "False"
      ]
     },
     "execution_count": 31,
     "metadata": {},
     "output_type": "execute_result"
    }
   ],
   "source": [
    "[1,1,0.5]==[1,1,1]"
   ]
  },
  {
   "cell_type": "code",
   "execution_count": 34,
   "metadata": {},
   "outputs": [
    {
     "data": {
      "text/plain": [
       "(array([0, 1, 2], dtype=int64),)"
      ]
     },
     "execution_count": 34,
     "metadata": {},
     "output_type": "execute_result"
    }
   ],
   "source": [
    "np.where(np.array([1,1,1])==1)"
   ]
  },
  {
   "cell_type": "code",
   "execution_count": 2,
   "metadata": {
    "collapsed": true
   },
   "outputs": [],
   "source": [
    "import sys\n",
    "import os\n",
    "cwd = os.getcwd()"
   ]
  },
  {
   "cell_type": "code",
   "execution_count": 3,
   "metadata": {},
   "outputs": [
    {
     "data": {
      "text/plain": [
       "'C:\\\\Users\\\\bclamber\\\\Desktop\\\\pints\\\\examples'"
      ]
     },
     "execution_count": 3,
     "metadata": {},
     "output_type": "execute_result"
    }
   ],
   "source": [
    "cwd"
   ]
  },
  {
   "cell_type": "code",
   "execution_count": 47,
   "metadata": {},
   "outputs": [
    {
     "data": {
      "text/plain": [
       "4"
      ]
     },
     "execution_count": 47,
     "metadata": {},
     "output_type": "execute_result"
    }
   ],
   "source": [
    "test[:, [0], :].shape[0]"
   ]
  },
  {
   "cell_type": "code",
   "execution_count": 15,
   "metadata": {
    "collapsed": true
   },
   "outputs": [],
   "source": [
    "sigma = []\n",
    "for i in range(5):\n",
    "    sigma.append(np.diag([1,2,3]))"
   ]
  },
  {
   "cell_type": "code",
   "execution_count": 16,
   "metadata": {},
   "outputs": [
    {
     "data": {
      "text/plain": [
       "[array([[1, 0, 0],\n",
       "        [0, 2, 0],\n",
       "        [0, 0, 3]]), array([[1, 0, 0],\n",
       "        [0, 2, 0],\n",
       "        [0, 0, 3]]), array([[1, 0, 0],\n",
       "        [0, 2, 0],\n",
       "        [0, 0, 3]]), array([[1, 0, 0],\n",
       "        [0, 2, 0],\n",
       "        [0, 0, 3]]), array([[1, 0, 0],\n",
       "        [0, 2, 0],\n",
       "        [0, 0, 3]])]"
      ]
     },
     "execution_count": 16,
     "metadata": {},
     "output_type": "execute_result"
    }
   ],
   "source": [
    "sigma"
   ]
  },
  {
   "cell_type": "code",
   "execution_count": 17,
   "metadata": {},
   "outputs": [
    {
     "data": {
      "text/plain": [
       "array([[1, 0, 0],\n",
       "       [0, 2, 0],\n",
       "       [0, 0, 3]])"
      ]
     },
     "execution_count": 17,
     "metadata": {},
     "output_type": "execute_result"
    }
   ],
   "source": [
    "sigma[0]"
   ]
  },
  {
   "cell_type": "code",
   "execution_count": null,
   "metadata": {
    "collapsed": true
   },
   "outputs": [],
   "source": []
  }
 ],
 "metadata": {
  "kernelspec": {
   "display_name": "Python 3",
   "language": "python",
   "name": "python3"
  },
  "language_info": {
   "codemirror_mode": {
    "name": "ipython",
    "version": 3
   },
   "file_extension": ".py",
   "mimetype": "text/x-python",
   "name": "python",
   "nbconvert_exporter": "python",
   "pygments_lexer": "ipython3",
   "version": "3.6.3"
  }
 },
 "nbformat": 4,
 "nbformat_minor": 2
}
