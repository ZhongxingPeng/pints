{
 "cells": [
  {
   "cell_type": "markdown",
   "metadata": {},
   "source": [
    "# Sampling from a bimodal normal distribution using Sequential Monte Carlo\n",
    "\n",
    "This example shows how Sequential Monte Carlo can be used to sample from a bimodal normal distribution. If the object passed to Pints is not of type log_posterior - as here where a log_pdf is passed instead - then we assume independent uniform priors between -100 and 100, for each dimension.\n",
    "\n",
    "In Sequential Monte Carlo, a series of tempered distributions are sampled from, whose density has the form,\n",
    "\n",
    "$\\beta \\; \\text{log} \\; p(\\theta|x) + (1-\\beta) \\; \\text{log} \\; p(\\theta)$,\n",
    "\n",
    "where $p(\\theta|x)$ is the posterior and $p(\\theta)$ is the prior, and $\\beta\\in(0,1]$ is a (inverse-)temperature parameter. By default, Pints uses a series of temperatures which are uniform on the log scale. Note that, when $\\beta=1$, the density of the tempered distribution matches the posterior.\n",
    "\n",
    "Show the distribution we aim to sample from."
   ]
  },
  {
   "cell_type": "code",
   "execution_count": 1,
   "metadata": {},
   "outputs": [
    {
     "data": {
      "text/plain": [
       "<Figure size 640x480 with 1 Axes>"
      ]
     },
     "metadata": {},
     "output_type": "display_data"
    }
   ],
   "source": [
    "from __future__ import print_function\n",
    "import pints\n",
    "import pints.toy as toy\n",
    "import pints.plot\n",
    "import numpy as np\n",
    "import matplotlib.pyplot as plt\n",
    "\n",
    "# Create log likelihood\n",
    "log_likelihood = pints.toy.MultimodalNormalLogPDF()\n",
    "\n",
    "# Contour plot of pdf\n",
    "levels = np.linspace(-3,12,20)\n",
    "num_points = 100\n",
    "x = np.linspace(-5, 15, num_points)\n",
    "y = np.linspace(-5, 15, num_points)\n",
    "X, Y = np.meshgrid(x, y)\n",
    "Z = np.zeros(X.shape)\n",
    "Z = np.exp([[log_likelihood([i, j]) for i in x] for j in y])\n",
    "plt.contour(X, Y, Z)\n",
    "plt.xlabel('x')\n",
    "plt.ylabel('y')\n",
    "plt.show()"
   ]
  },
  {
   "cell_type": "markdown",
   "metadata": {},
   "source": [
    "## Sampling\n",
    "Setup the sampler and run it."
   ]
  },
  {
   "cell_type": "code",
   "execution_count": 2,
   "metadata": {},
   "outputs": [
    {
     "name": "stdout",
     "output_type": "stream",
     "text": [
      "Using Sequential Monte Carlo\n",
      "Total number of particles: 1000\n",
      "Number of temperatures: 10\n",
      "Number of MCMC steps at each temperature: 1\n",
      "i     Temp.     Eval. Time m:s\n",
      "0      0.0001   1000    0:00.2\n"
     ]
    },
    {
     "ename": "AttributeError",
     "evalue": "'SMC' object has no attribute '_samples_log_pdf'",
     "output_type": "error",
     "traceback": [
      "\u001b[0;31m---------------------------------------------------------------------------\u001b[0m",
      "\u001b[0;31mAttributeError\u001b[0m                            Traceback (most recent call last)",
      "\u001b[0;32m<ipython-input-2-eceea7a6e6bb>\u001b[0m in \u001b[0;36m<module>\u001b[0;34m()\u001b[0m\n\u001b[1;32m     18\u001b[0m \u001b[0;34m\u001b[0m\u001b[0m\n\u001b[1;32m     19\u001b[0m \u001b[0;31m# Run sampler\u001b[0m\u001b[0;34m\u001b[0m\u001b[0;34m\u001b[0m\u001b[0;34m\u001b[0m\u001b[0m\n\u001b[0;32m---> 20\u001b[0;31m \u001b[0msamples\u001b[0m \u001b[0;34m=\u001b[0m \u001b[0msmc\u001b[0m\u001b[0;34m.\u001b[0m\u001b[0mrun\u001b[0m\u001b[0;34m(\u001b[0m\u001b[0;34m)\u001b[0m\u001b[0;34m\u001b[0m\u001b[0;34m\u001b[0m\u001b[0m\n\u001b[0m",
      "\u001b[0;32m~/dev/pints/pints/_sequential/__init__.py\u001b[0m in \u001b[0;36mrun\u001b[0;34m(self)\u001b[0m\n\u001b[1;32m    336\u001b[0m \u001b[0;34m\u001b[0m\u001b[0m\n\u001b[1;32m    337\u001b[0m             \u001b[0;31m# Update sampler\u001b[0m\u001b[0;34m\u001b[0m\u001b[0;34m\u001b[0m\u001b[0;34m\u001b[0m\u001b[0m\n\u001b[0;32m--> 338\u001b[0;31m             \u001b[0msamples\u001b[0m \u001b[0;34m=\u001b[0m \u001b[0mself\u001b[0m\u001b[0;34m.\u001b[0m\u001b[0m_sampler\u001b[0m\u001b[0;34m.\u001b[0m\u001b[0mtell\u001b[0m\u001b[0;34m(\u001b[0m\u001b[0mfxs\u001b[0m\u001b[0;34m)\u001b[0m\u001b[0;34m\u001b[0m\u001b[0;34m\u001b[0m\u001b[0m\n\u001b[0m\u001b[1;32m    339\u001b[0m \u001b[0;34m\u001b[0m\u001b[0m\n\u001b[1;32m    340\u001b[0m             \u001b[0;31m# Show progress\u001b[0m\u001b[0;34m\u001b[0m\u001b[0;34m\u001b[0m\u001b[0;34m\u001b[0m\u001b[0m\n",
      "\u001b[0;32m~/dev/pints/pints/_sequential/_SMC.py\u001b[0m in \u001b[0;36mtell\u001b[0;34m(self, log_pdfs)\u001b[0m\n\u001b[1;32m    185\u001b[0m         \u001b[0;32mif\u001b[0m \u001b[0mself\u001b[0m\u001b[0;34m.\u001b[0m\u001b[0m_resample_end_2_3\u001b[0m\u001b[0;34m:\u001b[0m\u001b[0;34m\u001b[0m\u001b[0;34m\u001b[0m\u001b[0m\n\u001b[1;32m    186\u001b[0m             self._resample(\n\u001b[0;32m--> 187\u001b[0;31m                 update_weights=(self._i_temp != len(self._schedule) - 2))\n\u001b[0m\u001b[1;32m    188\u001b[0m \u001b[0;34m\u001b[0m\u001b[0m\n\u001b[1;32m    189\u001b[0m         \u001b[0;31m# Return copy of current samples\u001b[0m\u001b[0;34m\u001b[0m\u001b[0;34m\u001b[0m\u001b[0;34m\u001b[0m\u001b[0m\n",
      "\u001b[0;32m~/dev/pints/pints/_sequential/_SMC.py\u001b[0m in \u001b[0;36m_resample\u001b[0;34m(self, update_weights)\u001b[0m\n\u001b[1;32m    234\u001b[0m             \u001b[0ma_end\u001b[0m \u001b[0;34m=\u001b[0m \u001b[0ma_end\u001b[0m \u001b[0;34m+\u001b[0m \u001b[0mselected\u001b[0m\u001b[0;34m[\u001b[0m\u001b[0mi\u001b[0m\u001b[0;34m]\u001b[0m\u001b[0;34m\u001b[0m\u001b[0;34m\u001b[0m\u001b[0m\n\u001b[1;32m    235\u001b[0m             \u001b[0mnew_samples\u001b[0m\u001b[0;34m[\u001b[0m\u001b[0ma_start\u001b[0m\u001b[0;34m:\u001b[0m\u001b[0ma_end\u001b[0m\u001b[0;34m,\u001b[0m \u001b[0;34m:\u001b[0m\u001b[0;34m]\u001b[0m \u001b[0;34m=\u001b[0m \u001b[0mself\u001b[0m\u001b[0;34m.\u001b[0m\u001b[0m_samples\u001b[0m\u001b[0;34m[\u001b[0m\u001b[0mi\u001b[0m\u001b[0;34m]\u001b[0m\u001b[0;34m\u001b[0m\u001b[0;34m\u001b[0m\u001b[0m\n\u001b[0;32m--> 236\u001b[0;31m             \u001b[0mnew_log_prob\u001b[0m\u001b[0;34m[\u001b[0m\u001b[0ma_start\u001b[0m\u001b[0;34m:\u001b[0m\u001b[0ma_end\u001b[0m\u001b[0;34m]\u001b[0m \u001b[0;34m=\u001b[0m \u001b[0mself\u001b[0m\u001b[0;34m.\u001b[0m\u001b[0m_samples_log_pdf\u001b[0m\u001b[0;34m[\u001b[0m\u001b[0mi\u001b[0m\u001b[0;34m]\u001b[0m\u001b[0;34m\u001b[0m\u001b[0;34m\u001b[0m\u001b[0m\n\u001b[0m\u001b[1;32m    237\u001b[0m             \u001b[0ma_start\u001b[0m \u001b[0;34m=\u001b[0m \u001b[0ma_start\u001b[0m \u001b[0;34m+\u001b[0m \u001b[0mselected\u001b[0m\u001b[0;34m[\u001b[0m\u001b[0mi\u001b[0m\u001b[0;34m]\u001b[0m\u001b[0;34m\u001b[0m\u001b[0;34m\u001b[0m\u001b[0m\n\u001b[1;32m    238\u001b[0m \u001b[0;34m\u001b[0m\u001b[0m\n",
      "\u001b[0;31mAttributeError\u001b[0m: 'SMC' object has no attribute '_samples_log_pdf'"
     ]
    }
   ],
   "source": [
    "# Select variance matrix of initial proposal dist\n",
    "sigma0 = [[2, 0], [0, 2]]\n",
    "\n",
    "# Create Bayesian problem\n",
    "log_prior = pints.UniformLogPrior([-10, -10], [25, 25])\n",
    "\n",
    "# Create SMC controller\n",
    "smc = pints.SMCController(log_likelihood, log_prior, sigma0)\n",
    "\n",
    "# Set number of temperatures (uniform on log scale)\n",
    "#smc.sampler().set_temperature_schedule(10)\n",
    "\n",
    "# Set number of particles\n",
    "#smc.sampler().set_n_particles(5000)\n",
    "\n",
    "# Set number of MCMC steps at each temperature\n",
    "#smc.sampler().set_n_kernel_samples(1)\n",
    "\n",
    "# Run sampler\n",
    "samples = smc.run()"
   ]
  },
  {
   "cell_type": "code",
   "execution_count": null,
   "metadata": {},
   "outputs": [],
   "source": [
    "plt.contour(X, Y, Z, colors='k', alpha=0.5)\n",
    "plt.scatter(samples[:,0], samples[:,1], marker='.', alpha=0.2)\n",
    "plt.xlim(-5, 15)\n",
    "plt.ylim(-5, 15)\n",
    "plt.xlabel('x')\n",
    "plt.ylabel('y')\n",
    "plt.show()"
   ]
  },
  {
   "cell_type": "markdown",
   "metadata": {},
   "source": [
    "## Post estimation\n",
    "\n",
    "Look at distribution of weights on final particles."
   ]
  },
  {
   "cell_type": "code",
   "execution_count": null,
   "metadata": {},
   "outputs": [],
   "source": [
    "weights = sampler.weights()\n",
    "plt.hist(weights,100)\n",
    "plt.show()"
   ]
  },
  {
   "cell_type": "markdown",
   "metadata": {},
   "source": [
    "Print the effective sample size based on the formula,\n",
    "\n",
    "$ess = \\frac{1}{\\sum_{i=1}^k w_i^2},$\n",
    "\n",
    "where $w_i$ is the weight of particule $i$."
   ]
  },
  {
   "cell_type": "code",
   "execution_count": null,
   "metadata": {},
   "outputs": [],
   "source": [
    "print('ess = ', sampler.ess())"
   ]
  }
 ],
 "metadata": {
  "kernelspec": {
   "display_name": "Python 2",
   "language": "python",
   "name": "python2"
  },
  "language_info": {
   "codemirror_mode": {
    "name": "ipython",
    "version": 3
   },
   "file_extension": ".py",
   "mimetype": "text/x-python",
   "name": "python",
   "nbconvert_exporter": "python",
   "pygments_lexer": "ipython3",
   "version": "3.6.8"
  }
 },
 "nbformat": 4,
 "nbformat_minor": 2
}
