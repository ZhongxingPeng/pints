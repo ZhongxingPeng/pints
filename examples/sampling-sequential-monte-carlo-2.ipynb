{
 "cells": [
  {
   "cell_type": "markdown",
   "metadata": {},
   "source": [
    "# Logistic model fitting using Sequential Monte Carlo\n",
    "\n",
    "This example illustrates how to use SMC to sample from a posterior distribution for the logistic model, with normal errors. This example also indicates how it is typically necessary to tune hyperparameters to ensure good algorithmic performance on a given problem."
   ]
  },
  {
   "cell_type": "code",
   "execution_count": 1,
   "metadata": {},
   "outputs": [
    {
     "name": "stdout",
     "output_type": "stream",
     "text": [
      "Running Sequential Monte Carlo\n",
      "Total number of particles: 10000\n",
      "Number of temperatures: 10\n",
      "Resampling at end of each iteration\n",
      "Number of MCMC steps at each temperature: 1\n",
      "Temperature Eval. Time m:s\n",
      " 0.99972    30000   0:02.2\n",
      " 0.99923    40000   0:07.2\n",
      " 0.99785    50000   0:11.8\n",
      " 0.99401    60000   0:17.0\n",
      " 0.98332    70000   0:22.2\n",
      " 0.95358    80000   0:27.7\n",
      " 0.87085    90000   0:32.8\n",
      " 0.64062    100000   0:37.7\n",
      " 0          110000   0:42.6\n"
     ]
    }
   ],
   "source": [
    "from __future__ import print_function\n",
    "import pints\n",
    "import pints.toy as toy\n",
    "import pints.plot\n",
    "import numpy as np\n",
    "import matplotlib.pyplot as plt\n",
    "\n",
    "# Load a forward model\n",
    "model = toy.LogisticModel()\n",
    "\n",
    "# Create some toy data\n",
    "real_parameters = [0.015, 500]\n",
    "times = np.linspace(0, 1000, 1000)\n",
    "org_values = model.simulate(real_parameters, times)\n",
    "\n",
    "# Add noise\n",
    "noise = 10\n",
    "values = org_values + np.random.normal(0, noise, org_values.shape)\n",
    "real_parameters = np.array(real_parameters + [noise])\n",
    "\n",
    "# Get properties of the noise sample\n",
    "noise_sample_mean = np.mean(values - org_values)\n",
    "noise_sample_std = np.std(values - org_values)\n",
    "\n",
    "# Create an object with links to the model and time series\n",
    "problem = pints.SingleOutputProblem(model, times, values)\n",
    "\n",
    "# Create a log-likelihood function (adds an extra parameter!)\n",
    "log_likelihood = pints.UnknownNoiseLogLikelihood(problem)\n",
    "\n",
    "# Create a uniform prior over both the parameters and the new noise variable\n",
    "log_prior = pints.UniformLogPrior(\n",
    "    [-5, 400, noise*0.1],\n",
    "    [5, 600, noise*100]\n",
    ")\n",
    "\n",
    "# Select mean of initial proposal distribution\n",
    "x0 = [0.015, 500, 10]\n",
    "\n",
    "# Create mcmc routine\n",
    "sampler = pints.SMC(log_likelihood, log_prior, x0)\n",
    "\n",
    "# Set number of particles\n",
    "sampler.set_n_particles(10000)\n",
    "\n",
    "# Run sampler\n",
    "samples = sampler.run()"
   ]
  },
  {
   "cell_type": "markdown",
   "metadata": {},
   "source": [
    "## Plot results"
   ]
  },
  {
   "cell_type": "code",
   "execution_count": 2,
   "metadata": {},
   "outputs": [
    {
     "data": {
      "image/png": "[encoded data removed]",
      "text/plain": [
       "<Figure size 432x288 with 1 Axes>"
      ]
     },
     "metadata": {},
     "output_type": "display_data"
    },
    {
     "name": "stdout",
     "output_type": "stream",
     "text": [
      "5067.295397628088\n"
     ]
    }
   ],
   "source": [
    "plt.hist(samples[:, 0], 20)\n",
    "plt.show()\n",
    "print(sampler.ess())"
   ]
  }
 ],
 "metadata": {
  "kernelspec": {
   "display_name": "Python 2",
   "language": "python",
   "name": "python2"
  },
  "language_info": {
   "codemirror_mode": {
    "name": "ipython",
    "version": 3
   },
   "file_extension": ".py",
   "mimetype": "text/x-python",
   "name": "python",
   "nbconvert_exporter": "python",
   "pygments_lexer": "ipython3",
   "version": "3.6.8"
  }
 },
 "nbformat": 4,
 "nbformat_minor": 2
}
