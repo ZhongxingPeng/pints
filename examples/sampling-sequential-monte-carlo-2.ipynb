{
 "cells": [
  {
   "cell_type": "markdown",
   "metadata": {},
   "source": [
    "# Logistic model fitting using Sequential Monte Carlo\n",
    "\n",
    "This example illustrates how to use SMC to sample from a posterior distribution for the logistic model, with normal errors. This example also indicates how it is typically necessary to tune hyperparameters to ensure good algorithmic performance on a given problem."
   ]
  },
  {
   "cell_type": "code",
   "execution_count": 1,
   "metadata": {},
   "outputs": [
    {
     "name": "stdout",
     "output_type": "stream",
     "text": [
      "Running sequential Monte Carlo\n",
      "Total number of particles: 5000\n",
      "Number of temperatures: 10\n",
      "Resampling at end of each iteration\n",
      "Number of MCMC steps at each temperature: 1\n",
      "Sampling from distribution of temperature: 0.000278255940221\n",
      "Sampling from distribution of temperature: 0.000774263682681\n",
      "Sampling from distribution of temperature: 0.00215443469003\n",
      "Sampling from distribution of temperature: 0.00599484250319\n",
      "Sampling from distribution of temperature: 0.016681005372\n",
      "Sampling from distribution of temperature: 0.0464158883361\n",
      "Sampling from distribution of temperature: 0.129154966501\n",
      "Sampling from distribution of temperature: 0.35938136638\n",
      "Sampling from distribution of temperature: 1.0\n"
     ]
    }
   ],
   "source": [
    "import os\n",
    "os.chdir('../')\n",
    "from __future__ import print_function\n",
    "import pints\n",
    "import pints.toy as toy\n",
    "import pints.plot\n",
    "import numpy as np\n",
    "import matplotlib.pyplot as plt\n",
    "\n",
    "# Load a forward model\n",
    "model = toy.LogisticModel()\n",
    "\n",
    "# Create some toy data\n",
    "real_parameters = [0.015, 500]\n",
    "times = np.linspace(0, 1000, 1000)\n",
    "org_values = model.simulate(real_parameters, times)\n",
    "\n",
    "# Add noise\n",
    "noise = 10\n",
    "values = org_values + np.random.normal(0, noise, org_values.shape)\n",
    "real_parameters = np.array(real_parameters + [noise])\n",
    "\n",
    "# Get properties of the noise sample\n",
    "noise_sample_mean = np.mean(values - org_values)\n",
    "noise_sample_std = np.std(values - org_values)\n",
    "\n",
    "# Create an object with links to the model and time series\n",
    "problem = pints.SingleOutputProblem(model, times, values)\n",
    "\n",
    "# Create a log-likelihood function (adds an extra parameter!)\n",
    "log_likelihood = pints.UnknownNoiseLogLikelihood(problem)\n",
    "\n",
    "# Create a uniform prior over both the parameters and the new noise variable\n",
    "log_prior = pints.UniformLogPrior(\n",
    "    [-5, 400, noise*0.1],\n",
    "    [5, 600, noise*100]\n",
    ")\n",
    "\n",
    "# Create a posterior log-likelihood (log(likelihood * prior))\n",
    "log_posterior = pints.LogPosterior(log_likelihood, log_prior)\n",
    "\n",
    "# Select mean and variance matrix of initial proposal dist\n",
    "x0 = [0.015,500,10]\n",
    "\n",
    "# Create mcmc routine\n",
    "sampler = pints.SMC(log_posterior, x0, sigma0=[[  2.91011771e-10,  -2.36999772e-06,   3.10373379e-07],\n",
    "       [ -2.36999772e-06,   2.01671027e-01,  -7.21897714e-03],\n",
    "       [  3.10373379e-07,  -7.21897714e-03,   2.98319257e-02]])\n",
    "\n",
    "# Set number of particles\n",
    "sampler.set_particles(5000)\n",
    "\n",
    "# Run sampler\n",
    "samples = sampler.run()"
   ]
  },
  {
   "cell_type": "markdown",
   "metadata": {},
   "source": [
    "## Poor performance with default hyperparameters"
   ]
  },
  {
   "cell_type": "code",
   "execution_count": 2,
   "metadata": {},
   "outputs": [
    {
     "data": {
      "image/png": "[encoded data removed]",
      "text/plain": [
       "<matplotlib.figure.Figure at 0x1a1514fd50>"
      ]
     },
     "metadata": {},
     "output_type": "display_data"
    },
    {
     "name": "stdout",
     "output_type": "stream",
     "text": [
      "1383.35951074\n"
     ]
    }
   ],
   "source": [
    "plt.hist(samples[:, 0],100)\n",
    "plt.show()\n",
    "print(sampler.ess())"
   ]
  },
  {
   "cell_type": "markdown",
   "metadata": {},
   "source": [
    "## Change resampling threshold and also turn off resampling at the end of the algorithm"
   ]
  },
  {
   "cell_type": "code",
   "execution_count": 3,
   "metadata": {},
   "outputs": [
    {
     "name": "stdout",
     "output_type": "stream",
     "text": [
      "Running sequential Monte Carlo\n",
      "Total number of particles: 5000\n",
      "Number of temperatures: 10\n",
      "Not resampling at end of each iteration\n",
      "Number of MCMC steps at each temperature: 1\n",
      "Sampling from distribution of temperature: 0.000278255940221\n",
      "Sampling from distribution of temperature: 0.000774263682681\n",
      "Sampling from distribution of temperature: 0.00215443469003\n",
      "Sampling from distribution of temperature: 0.00599484250319\n",
      "Sampling from distribution of temperature: 0.016681005372\n",
      "Sampling from distribution of temperature: 0.0464158883361\n",
      "Sampling from distribution of temperature: 0.129154966501\n",
      "Sampling from distribution of temperature: 0.35938136638\n",
      "Sampling from distribution of temperature: 1.0\n"
     ]
    }
   ],
   "source": [
    "# Don't resample at end of steps 2 and 3 in Del Moral et al. (2006) Algorithm 3.1.1\n",
    "sampler.set_resample_end_2_3(False)\n",
    "\n",
    "# Set ESS resampling threshold (essentially we never resample with this threshold)\n",
    "sampler.set_ess_threshold(5)\n",
    "\n",
    "# Run sampler\n",
    "samples = sampler.run()"
   ]
  },
  {
   "cell_type": "markdown",
   "metadata": {},
   "source": [
    "## Now does much better"
   ]
  },
  {
   "cell_type": "code",
   "execution_count": 4,
   "metadata": {},
   "outputs": [
    {
     "data": {
      "image/png": "[encoded data removed]",
      "text/plain": [
       "<matplotlib.figure.Figure at 0x1a1c9fe1d0>"
      ]
     },
     "metadata": {},
     "output_type": "display_data"
    },
    {
     "name": "stdout",
     "output_type": "stream",
     "text": [
      "593.644612473\n"
     ]
    }
   ],
   "source": [
    "plt.hist(samples[:, 0], 100)\n",
    "plt.show()\n",
    "print(sampler.ess())"
   ]
  }
 ],
 "metadata": {
  "kernelspec": {
   "display_name": "Python 2",
   "language": "python",
   "name": "python2"
  },
  "language_info": {
   "codemirror_mode": {
    "name": "ipython",
    "version": 2
   },
   "file_extension": ".py",
   "mimetype": "text/x-python",
   "name": "python",
   "nbconvert_exporter": "python",
   "pygments_lexer": "ipython2",
   "version": "2.7.14"
  }
 },
 "nbformat": 4,
 "nbformat_minor": 2
}
