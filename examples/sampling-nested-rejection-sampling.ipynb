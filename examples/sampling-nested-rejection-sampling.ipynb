{
 "cells": [
  {
   "cell_type": "markdown",
   "metadata": {},
   "source": [
    "# Nested rejection sampling\n",
    "\n",
    "This example demonstrates how to use nested rejection sampling [1] to sample from the posterior distribution for a logistic model fitted to model-simulated data. For a tutorial on nested sampling, see: [INSERT LINK to NESTED SAMPLING TUTORIAL NOTEBOOK].\n",
    "\n",
    "[1] \"Nested Sampling for General Bayesian Computation\", John Skilling, Bayesian Analysis (2006) [https://projecteuclid.org/download/pdf_1/euclid.ba/1340370944](https://projecteuclid.org/download/pdf_1/euclid.ba/1340370944)."
   ]
  },
  {
   "cell_type": "markdown",
   "metadata": {},
   "source": [
    "First create fake data."
   ]
  },
  {
   "cell_type": "code",
   "execution_count": 1,
   "metadata": {},
   "outputs": [
    {
     "data": {
      "image/png": "[encoded data removed]",
      "text/plain": [
       "<matplotlib.figure.Figure at 0x1a08c3c610>"
      ]
     },
     "metadata": {},
     "output_type": "display_data"
    }
   ],
   "source": [
    "import os\n",
    "os.chdir('/Users/appleuser/Desktop/AllPints/pints/')\n",
    "from __future__ import print_function\n",
    "import pints\n",
    "import pints.toy as toy\n",
    "import numpy as np\n",
    "import matplotlib.pyplot as plt\n",
    "\n",
    "# Load a forward model\n",
    "model = toy.LogisticModel()\n",
    "\n",
    "# Create some toy data\n",
    "r = 0.015\n",
    "k = 500\n",
    "real_parameters = [r, k]\n",
    "times = np.linspace(0, 1000, 100)\n",
    "signal_values = model.simulate(real_parameters, times)\n",
    "\n",
    "# Add independent Gaussian noise\n",
    "sigma = 10\n",
    "observed_values = signal_values + pints.noise.independent(sigma, signal_values.shape)\n",
    "\n",
    "# Plot\n",
    "plt.plot(times,signal_values,label = 'signal')\n",
    "plt.plot(times,observed_values,label = 'observed')\n",
    "plt.xlabel('Time')\n",
    "plt.ylabel('Values')\n",
    "plt.legend()\n",
    "plt.show()"
   ]
  },
  {
   "cell_type": "markdown",
   "metadata": {},
   "source": [
    "Create the nested sampler that will be used to sample from the posterior."
   ]
  },
  {
   "cell_type": "code",
   "execution_count": 2,
   "metadata": {},
   "outputs": [],
   "source": [
    "# Create an object with links to the model and time series\n",
    "problem = pints.SingleOutputProblem(model, times, observed_values)\n",
    "\n",
    "# Create a log-likelihood function (adds an extra parameter!)\n",
    "log_likelihood = pints.UnknownNoiseLogLikelihood(problem)\n",
    "\n",
    "# Create a uniform prior over both the parameters and the new noise variable\n",
    "log_prior = pints.UniformLogPrior(\n",
    "    [0.01, 400, sigma * 0.5],\n",
    "    [0.02, 600, sigma * 1.5])\n",
    "\n",
    "# Create a nested ellipsoidal rejectection sampler\n",
    "sampler = pints.NestedRejectionSampler(log_likelihood, log_prior)\n",
    "\n",
    "# Set number of iterations\n",
    "sampler.set_iterations(1000)\n",
    "\n",
    "# Set the number of posterior samples to generate\n",
    "sampler.set_posterior_samples(100)\n",
    "\n",
    "# Set the number of active points\n",
    "sampler.set_active_points(400)"
   ]
  },
  {
   "cell_type": "markdown",
   "metadata": {},
   "source": [
    "Run the sampler!"
   ]
  },
  {
   "cell_type": "code",
   "execution_count": 3,
   "metadata": {},
   "outputs": [
    {
     "name": "stdout",
     "output_type": "stream",
     "text": [
      "Running nested rejection sampling\n",
      "Number of active points: 400\n",
      "Total number of iterations: 1000\n",
      "Total number of posterior samples: 100\n",
      "Iter. Eval. Time m:s\n",
      "0     1       0:00.0\n",
      "0     2       0:00.0\n",
      "0     3       0:00.0\n",
      "0     4       0:00.0\n",
      "0     5       0:00.0\n",
      "0     21      0:00.0\n",
      "0     41      0:00.0\n",
      "0     61      0:00.0\n",
      "0     81      0:00.1\n",
      "0     101     0:00.1\n",
      "0     121     0:00.1\n",
      "0     141     0:00.1\n",
      "0     161     0:00.1\n",
      "0     181     0:00.1\n",
      "0     201     0:00.1\n",
      "0     221     0:00.1\n",
      "0     241     0:00.1\n",
      "0     261     0:00.1\n",
      "0     281     0:00.1\n",
      "0     301     0:00.2\n",
      "0     321     0:00.2\n",
      "0     341     0:00.2\n",
      "0     361     0:00.2\n",
      "0     381     0:00.2\n",
      "400   401     0:00.2\n",
      "420   427     0:00.2\n",
      "440   457     0:00.2\n",
      "460   483     0:00.3\n",
      "480   507     0:00.3\n",
      "500   537     0:00.3\n",
      "520   569     0:00.3\n",
      "540   599     0:00.3\n",
      "560   633     0:00.4\n",
      "580   665     0:00.4\n",
      "600   695     0:00.4\n",
      "620   739     0:00.4\n",
      "640   819     0:00.5\n",
      "660   877     0:00.5\n",
      "680   919     0:00.5\n",
      "700   989     0:00.5\n",
      "720   1051    0:00.6\n",
      "740   1119    0:00.6\n",
      "760   1191    0:00.6\n",
      "780   1261    0:00.6\n",
      "800   1375    0:00.7\n",
      "820   1539    0:00.7\n",
      "840   1667    0:00.8\n",
      "860   1751    0:00.8\n",
      "880   1831    0:00.8\n",
      "900   1951    0:00.9\n",
      "920   2099    0:00.9\n",
      "940   2231    0:01.0\n",
      "960   2381    0:01.0\n",
      "980   2529    0:01.1\n",
      "1000  2645    0:01.1\n",
      "1020  2799    0:01.1\n",
      "1040  3001    0:01.2\n",
      "1060  3169    0:01.2\n",
      "1080  3419    0:01.3\n",
      "1100  3645    0:01.4\n",
      "1120  3871    0:01.5\n",
      "1140  4121    0:01.5\n",
      "1160  4293    0:01.6\n",
      "1180  4577    0:01.6\n",
      "1200  4775    0:01.7\n",
      "1220  4913    0:01.8\n",
      "1240  5249    0:01.9\n",
      "1260  5555    0:02.0\n",
      "1280  5847    0:02.1\n",
      "1300  6297    0:02.2\n",
      "1320  6715    0:02.3\n",
      "1340  7003    0:02.4\n",
      "1360  7527    0:02.5\n",
      "1380  8387    0:02.7\n",
      "Done!\n"
     ]
    }
   ],
   "source": [
    "samples, marginal_log_likelihood = sampler.run()\n",
    "print('Done!')"
   ]
  },
  {
   "cell_type": "markdown",
   "metadata": {},
   "source": [
    "## Plot posterior samples versus true parameter values (dashed lines)"
   ]
  },
  {
   "cell_type": "code",
   "execution_count": null,
   "metadata": {},
   "outputs": [
    {
     "data": {
      "image/png": "[encoded data removed]",
      "text/plain": [
       "<matplotlib.figure.Figure at 0x1a1019ded0>"
      ]
     },
     "metadata": {},
     "output_type": "display_data"
    }
   ],
   "source": [
    "# Plot output\n",
    "import pints.plot\n",
    "\n",
    "pints.plot.histogram([samples], ref_parameters=[r, k, sigma])\n",
    "\n",
    "plt.show()"
   ]
  },
  {
   "cell_type": "code",
   "execution_count": null,
   "metadata": {
    "scrolled": true
   },
   "outputs": [],
   "source": [
    "vTheta = samples[0]\n",
    "pints.plot.pairwise(samples, kde=True)\n",
    "\n",
    "plt.show()"
   ]
  },
  {
   "cell_type": "markdown",
   "metadata": {},
   "source": [
    "## Plot posterior predictive simulations versus the observed data"
   ]
  },
  {
   "cell_type": "code",
   "execution_count": null,
   "metadata": {},
   "outputs": [],
   "source": [
    "pints.plot.series(samples[:100], problem)\n",
    "plt.show()"
   ]
  },
  {
   "cell_type": "markdown",
   "metadata": {},
   "source": [
    "## Marginal likelihood estimate"
   ]
  },
  {
   "cell_type": "code",
   "execution_count": null,
   "metadata": {},
   "outputs": [],
   "source": [
    "print('marginal log-likelihood = ' + str(marginal_log_likelihood))"
   ]
  }
 ],
 "metadata": {
  "kernelspec": {
   "display_name": "Python 2",
   "language": "python",
   "name": "python2"
  },
  "language_info": {
   "codemirror_mode": {
    "name": "ipython",
    "version": 2
   },
   "file_extension": ".py",
   "mimetype": "text/x-python",
   "name": "python",
   "nbconvert_exporter": "python",
   "pygments_lexer": "ipython2",
   "version": "2.7.14"
  }
 },
 "nbformat": 4,
 "nbformat_minor": 2
}
