{
 "cells": [
  {
   "cell_type": "markdown",
   "metadata": {},
   "source": [
    "# Nested rejection sampling\n",
    "\n",
    "This example demonstrates how to use nested rejection sampling [1] to sample from the posterior distribution for a logistic model fitted to model-simulated data. For a tutorial on nested sampling, see: [INSERT LINK to NESTED SAMPLING TUTORIAL NOTEBOOK].\n",
    "\n",
    "[1] \"Nested Sampling for General Bayesian Computation\", John Skilling, Bayesian Analysis (2006) [https://projecteuclid.org/download/pdf_1/euclid.ba/1340370944](https://projecteuclid.org/download/pdf_1/euclid.ba/1340370944)."
   ]
  },
  {
   "cell_type": "markdown",
   "metadata": {},
   "source": [
    "First create fake data."
   ]
  },
  {
   "cell_type": "code",
   "execution_count": 1,
   "metadata": {},
   "outputs": [
    {
     "data": {
      "image/png": "[encoded data removed]",
      "text/plain": [
       "<matplotlib.figure.Figure at 0x1a0bb31510>"
      ]
     },
     "metadata": {},
     "output_type": "display_data"
    }
   ],
   "source": [
    "import os\n",
    "os.chdir('/Users/appleuser/Desktop/AllPints/pints/')\n",
    "from __future__ import print_function\n",
    "import pints\n",
    "import pints.toy as toy\n",
    "import numpy as np\n",
    "import matplotlib.pyplot as plt\n",
    "\n",
    "# Load a forward model\n",
    "model = toy.LogisticModel()\n",
    "\n",
    "# Create some toy data\n",
    "r = 0.015\n",
    "k = 500\n",
    "real_parameters = [r, k]\n",
    "times = np.linspace(0, 1000, 100)\n",
    "signal_values = model.simulate(real_parameters, times)\n",
    "\n",
    "# Add independent Gaussian noise\n",
    "sigma = 10\n",
    "observed_values = signal_values + pints.noise.independent(sigma, signal_values.shape)\n",
    "\n",
    "# Plot\n",
    "plt.plot(times,signal_values,label = 'signal')\n",
    "plt.plot(times,observed_values,label = 'observed')\n",
    "plt.xlabel('Time')\n",
    "plt.ylabel('Values')\n",
    "plt.legend()\n",
    "plt.show()"
   ]
  },
  {
   "cell_type": "markdown",
   "metadata": {},
   "source": [
    "Create the nested sampler that will be used to sample from the posterior."
   ]
  },
  {
   "cell_type": "code",
   "execution_count": 2,
   "metadata": {},
   "outputs": [],
   "source": [
    "# Create an object with links to the model and time series\n",
    "problem = pints.SingleOutputProblem(model, times, observed_values)\n",
    "\n",
    "# Create a log-likelihood function (adds an extra parameter!)\n",
    "log_likelihood = pints.UnknownNoiseLogLikelihood(problem)\n",
    "\n",
    "# Create a uniform prior over both the parameters and the new noise variable\n",
    "log_prior = pints.UniformLogPrior(\n",
    "    [0.01, 400, sigma * 0.5],\n",
    "    [0.02, 600, sigma * 1.5])\n",
    "\n",
    "# Create a nested ellipsoidal rejectection sampler\n",
    "sampler = pints.NestedRejectionSampler(log_likelihood, log_prior)\n",
    "\n",
    "# Set number of iterations\n",
    "sampler.set_iterations(3000)\n",
    "\n",
    "# Set the number of posterior samples to generate\n",
    "sampler.set_n_posterior_samples(500)\n",
    "\n",
    "# Set the number of active points\n",
    "sampler.set_n_active_points(400)"
   ]
  },
  {
   "cell_type": "markdown",
   "metadata": {},
   "source": [
    "Run the sampler!"
   ]
  },
  {
   "cell_type": "code",
   "execution_count": 3,
   "metadata": {},
   "outputs": [
    {
     "name": "stdout",
     "output_type": "stream",
     "text": [
      "Running Nested Rejection Sampler\n",
      "Number of active points: 400\n",
      "Total number of iterations: 3000\n",
      "Total number of posterior samples: 500\n",
      "Iter. Eval. Time m:s\n",
      "0     1       0:00.0\n",
      "0     2       0:00.0\n",
      "0     3       0:00.0\n",
      "0     4       0:00.0\n",
      "0     5       0:00.0\n",
      "0     21      0:00.0\n",
      "0     41      0:00.0\n",
      "0     61      0:00.0\n",
      "0     81      0:00.0\n",
      "0     101     0:00.0\n",
      "0     121     0:00.1\n",
      "0     141     0:00.1\n",
      "0     161     0:00.1\n",
      "0     181     0:00.1\n",
      "0     201     0:00.1\n",
      "0     221     0:00.1\n",
      "0     241     0:00.1\n",
      "0     261     0:00.1\n",
      "0     281     0:00.1\n",
      "0     301     0:00.1\n",
      "0     321     0:00.2\n",
      "0     341     0:00.2\n",
      "0     361     0:00.2\n",
      "0     381     0:00.2\n",
      "400   401     0:00.2\n",
      "420   421     0:00.2\n",
      "440   441     0:00.2\n",
      "460   463     0:00.2\n",
      "480   485     0:00.3\n",
      "500   511     0:00.3\n",
      "520   543     0:00.3\n",
      "540   573     0:00.3\n",
      "560   607     0:00.3\n",
      "580   649     0:00.4\n",
      "600   689     0:00.4\n",
      "620   737     0:00.4\n",
      "640   811     0:00.4\n",
      "660   865     0:00.4\n",
      "680   915     0:00.5\n",
      "700   955     0:00.5\n",
      "720   1027    0:00.5\n",
      "740   1097    0:00.5\n",
      "760   1167    0:00.6\n",
      "780   1249    0:00.6\n",
      "800   1303    0:00.6\n",
      "820   1415    0:00.6\n",
      "840   1541    0:00.7\n",
      "860   1635    0:00.7\n",
      "880   1749    0:00.7\n",
      "900   1865    0:00.8\n",
      "920   2035    0:00.8\n",
      "940   2189    0:00.9\n",
      "960   2315    0:00.9\n",
      "980   2465    0:00.9\n",
      "1000  2649    0:01.0\n",
      "1020  2819    0:01.1\n",
      "1040  2941    0:01.1\n",
      "1060  3075    0:01.2\n",
      "1080  3275    0:01.2\n",
      "1100  3495    0:01.3\n",
      "1120  3659    0:01.4\n",
      "1140  3835    0:01.4\n",
      "1160  4099    0:01.5\n",
      "1180  4299    0:01.6\n",
      "1200  4573    0:01.6\n",
      "1220  4741    0:01.7\n",
      "1240  5035    0:01.8\n",
      "1260  5197    0:01.8\n",
      "1280  5427    0:01.9\n",
      "1300  5777    0:01.9\n",
      "1320  6219    0:02.0\n",
      "1340  6561    0:02.1\n",
      "1360  7031    0:02.2\n",
      "1380  7533    0:02.3\n",
      "1400  7965    0:02.4\n",
      "1420  8367    0:02.5\n",
      "1440  8677    0:02.6\n",
      "1460  9113    0:02.7\n",
      "1480  9515    0:02.8\n",
      "1500  10123   0:02.9\n",
      "1520  10753   0:03.1\n",
      "1540  11435   0:03.2\n",
      "1560  11965   0:03.4\n",
      "1580  12747   0:03.5\n",
      "1600  13441   0:03.7\n",
      "1620  14243   0:03.9\n",
      "1640  15157   0:04.1\n",
      "1660  15971   0:04.4\n",
      "1680  16885   0:04.6\n",
      "1700  17711   0:04.8\n",
      "1720  18517   0:05.0\n",
      "1740  19249   0:05.2\n",
      "1760  19981   0:05.3\n",
      "1780  20839   0:05.6\n",
      "1800  21693   0:05.8\n",
      "1820  23027   0:06.1\n",
      "1840  24073   0:06.3\n",
      "1860  25083   0:06.5\n",
      "1880  26511   0:06.9\n",
      "1900  27575   0:07.2\n",
      "1920  29201   0:07.6\n",
      "1940  30819   0:07.9\n",
      "1960  32257   0:08.2\n",
      "1980  34021   0:08.6\n",
      "2000  36187   0:09.0\n",
      "2020  37833   0:09.4\n",
      "2040  40403   0:10.1\n",
      "2060  42885   0:10.7\n",
      "2080  45857   0:11.4\n",
      "2100  47813   0:11.9\n",
      "2120  50331   0:12.5\n",
      "2140  52433   0:13.0\n",
      "2160  54543   0:13.4\n",
      "2180  56697   0:13.9\n",
      "2200  61163   0:14.8\n",
      "2220  64665   0:15.6\n",
      "2240  68045   0:16.3\n",
      "2260  71625   0:17.2\n",
      "2280  73829   0:17.7\n",
      "2300  78543   0:18.9\n",
      "2320  81407   0:19.5\n",
      "2340  87943   0:21.0\n",
      "2360  93235   0:22.2\n",
      "2380  97373   0:23.1\n",
      "2400  102103   0:24.2\n",
      "2420  108567   0:25.7\n",
      "2440  114707   0:27.1\n",
      "2460  120559   0:28.3\n",
      "2480  129433   0:30.3\n",
      "2500  135087   0:31.7\n",
      "2520  143271   0:33.7\n",
      "2540  146193   0:34.5\n",
      "2560  154157   0:36.3\n",
      "2580  162815   0:38.3\n",
      "2600  173541   0:40.7\n",
      "2620  183741   0:43.0\n",
      "2640  195991   0:45.9\n",
      "2660  205637   0:48.2\n",
      "2680  215139   0:50.3\n",
      "2700  227487   0:53.1\n",
      "2720  236735   0:55.2\n",
      "2740  246783   0:57.4\n",
      "2760  259787   1:00.3\n",
      "2780  271479   1:02.9\n",
      "2800  282063   1:05.3\n",
      "2820  297835   1:08.8\n",
      "2840  316273   1:13.1\n",
      "2860  327233   1:15.6\n",
      "2880  344913   1:19.6\n",
      "2900  359715   1:23.1\n",
      "2920  382205   1:28.1\n",
      "2940  397463   1:31.6\n",
      "2960  407635   1:33.9\n",
      "2980  421697   1:37.0\n",
      "3000  438167   1:40.9\n",
      "3020  466683   1:47.2\n",
      "3040  490309   1:52.4\n",
      "3060  514671   1:57.9\n",
      "3080  550081   2:05.5\n",
      "3100  576333   2:11.2\n",
      "3120  620635   2:21.0\n",
      "3140  653215   2:28.2\n",
      "3160  694143   2:37.4\n",
      "3180  737741   2:46.9\n",
      "3200  757045   2:51.2\n",
      "3220  794297   2:59.0\n",
      "3240  845185   3:09.9\n",
      "3260  883475   3:18.2\n",
      "3280  926031   3:27.5\n",
      "3300  952755   3:33.4\n",
      "3320  1011205   3:45.8\n",
      "3340  1051631   3:54.5\n",
      "3360  1121369   4:10.5\n",
      "3380  1183995   4:24.7\n",
      "Done!\n"
     ]
    }
   ],
   "source": [
    "samples = sampler.run()\n",
    "print('Done!')"
   ]
  },
  {
   "cell_type": "markdown",
   "metadata": {},
   "source": [
    "## Plot posterior samples versus true parameter values (dashed lines)"
   ]
  },
  {
   "cell_type": "code",
   "execution_count": null,
   "metadata": {},
   "outputs": [
    {
     "data": {
      "image/png": "[encoded data removed]",
      "text/plain": [
       "<matplotlib.figure.Figure at 0x1a13091d10>"
      ]
     },
     "metadata": {},
     "output_type": "display_data"
    }
   ],
   "source": [
    "# Plot output\n",
    "import pints.plot\n",
    "\n",
    "pints.plot.histogram([samples], ref_parameters=[r, k, sigma])\n",
    "\n",
    "plt.show()"
   ]
  },
  {
   "cell_type": "code",
   "execution_count": null,
   "metadata": {
    "scrolled": true
   },
   "outputs": [],
   "source": [
    "vTheta = samples[0]\n",
    "pints.plot.pairwise(samples, kde=True)\n",
    "\n",
    "plt.show()"
   ]
  },
  {
   "cell_type": "markdown",
   "metadata": {},
   "source": [
    "## Plot posterior predictive simulations versus the observed data"
   ]
  },
  {
   "cell_type": "code",
   "execution_count": null,
   "metadata": {},
   "outputs": [],
   "source": [
    "pints.plot.series(samples[:100], problem)\n",
    "plt.show()"
   ]
  },
  {
   "cell_type": "markdown",
   "metadata": {},
   "source": [
    "## Marginal likelihood estimate"
   ]
  },
  {
   "cell_type": "code",
   "execution_count": null,
   "metadata": {},
   "outputs": [],
   "source": [
    "print('marginal log-likelihood = ' + str(sampler.marginal_log_likelihood()))"
   ]
  },
  {
   "cell_type": "markdown",
   "metadata": {},
   "source": [
    "## Examine active and inactive points at end of sampling run"
   ]
  },
  {
   "cell_type": "code",
   "execution_count": null,
   "metadata": {},
   "outputs": [],
   "source": [
    "m_active = sampler.active_points()\n",
    "m_inactive = sampler.inactive_points()\n",
    "\n",
    "f, axarr = plt.subplots(1,3,figsize=(15,6))\n",
    "axarr[0].scatter(m_inactive[:,0],m_inactive[:,1])\n",
    "axarr[0].scatter(m_active[:,0],m_active[:,1],alpha=0.1)\n",
    "axarr[0].set_xlim([0.008,0.022])\n",
    "axarr[0].set_xlabel('r')\n",
    "axarr[0].set_ylabel('k')\n",
    "axarr[1].scatter(m_inactive[:,0],m_inactive[:,2])\n",
    "axarr[1].scatter(m_active[:,0],m_active[:,2],alpha=0.1)\n",
    "axarr[1].set_xlim([0.008,0.022])\n",
    "axarr[1].set_xlabel('r')\n",
    "axarr[1].set_ylabel('sigma')\n",
    "axarr[2].scatter(m_inactive[:,1],m_inactive[:,2])\n",
    "axarr[2].scatter(m_active[:,1],m_active[:,2],alpha=0.1)\n",
    "axarr[2].set_xlabel('k')\n",
    "axarr[2].set_ylabel('sigma')\n",
    "plt.show()"
   ]
  },
  {
   "cell_type": "markdown",
   "metadata": {},
   "source": [
    "## Examine log-likelihoods versus proportion of prior space sampled"
   ]
  },
  {
   "cell_type": "code",
   "execution_count": null,
   "metadata": {},
   "outputs": [],
   "source": [
    "v_log_likelihood = sampler.log_likelihood_vector()\n",
    "v_log_likelihood = v_log_likelihood[:-sampler.n_active_points()]\n",
    "X = sampler.prior_space()\n",
    "X = X[:-1]\n",
    "plt.plot(X, v_log_likelihood)\n",
    "plt.xlabel('X')\n",
    "plt.ylabel('log likelihood')\n",
    "plt.show()"
   ]
  },
  {
   "cell_type": "markdown",
   "metadata": {},
   "source": [
    "## Sample some other posterior samples from recent run"
   ]
  },
  {
   "cell_type": "code",
   "execution_count": null,
   "metadata": {},
   "outputs": [],
   "source": [
    "samples_new = sampler.sample_from_posterior(1000)\n",
    "\n",
    "pints.plot.pairwise(samples_new, kde=True)\n",
    "\n",
    "plt.show()"
   ]
  }
 ],
 "metadata": {
  "kernelspec": {
   "display_name": "Python 2",
   "language": "python",
   "name": "python2"
  },
  "language_info": {
   "codemirror_mode": {
    "name": "ipython",
    "version": 2
   },
   "file_extension": ".py",
   "mimetype": "text/x-python",
   "name": "python",
   "nbconvert_exporter": "python",
   "pygments_lexer": "ipython2",
   "version": "2.7.14"
  }
 },
 "nbformat": 4,
 "nbformat_minor": 2
}
