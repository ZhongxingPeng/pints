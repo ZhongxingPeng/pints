{
 "cells": [
  {
   "cell_type": "markdown",
   "metadata": {},
   "source": [
    "# Nested rejection sampling\n",
    "\n",
    "This example demonstrates how to use nested rejection sampling [1] to sample from the posterior distribution for a logistic model fitted to model-simulated data. For a tutorial on nested sampling, see: [INSERT LINK to NESTED SAMPLING TUTORIAL NOTEBOOK].\n",
    "\n",
    "[1] \"Nested Sampling for General Bayesian Computation\", John Skilling, Bayesian Analysis (2006) [https://projecteuclid.org/download/pdf_1/euclid.ba/1340370944](https://projecteuclid.org/download/pdf_1/euclid.ba/1340370944)."
   ]
  },
  {
   "cell_type": "markdown",
   "metadata": {},
   "source": [
    "First create fake data."
   ]
  },
  {
   "cell_type": "code",
   "execution_count": 1,
   "metadata": {},
   "outputs": [
    {
     "data": {
      "image/png": "[encoded data removed]",
      "text/plain": [
       "<matplotlib.figure.Figure at 0x1a0e0c3450>"
      ]
     },
     "metadata": {},
     "output_type": "display_data"
    }
   ],
   "source": [
    "import os\n",
    "os.chdir('/Users/appleuser/Desktop/AllPints/pints/')\n",
    "from __future__ import print_function\n",
    "import pints\n",
    "import pints.toy as toy\n",
    "import numpy as np\n",
    "import matplotlib.pyplot as plt\n",
    "\n",
    "# Load a forward model\n",
    "model = toy.LogisticModel()\n",
    "\n",
    "# Create some toy data\n",
    "r = 0.015\n",
    "k = 500\n",
    "real_parameters = [r, k]\n",
    "times = np.linspace(0, 1000, 100)\n",
    "signal_values = model.simulate(real_parameters, times)\n",
    "\n",
    "# Add independent Gaussian noise\n",
    "sigma = 10\n",
    "observed_values = signal_values + pints.noise.independent(sigma, signal_values.shape)\n",
    "\n",
    "# Plot\n",
    "plt.plot(times,signal_values,label = 'signal')\n",
    "plt.plot(times,observed_values,label = 'observed')\n",
    "plt.xlabel('Time')\n",
    "plt.ylabel('Values')\n",
    "plt.legend()\n",
    "plt.show()"
   ]
  },
  {
   "cell_type": "markdown",
   "metadata": {},
   "source": [
    "Create the nested sampler that will be used to sample from the posterior."
   ]
  },
  {
   "cell_type": "code",
   "execution_count": 2,
   "metadata": {},
   "outputs": [],
   "source": [
    "# Create an object with links to the model and time series\n",
    "problem = pints.SingleOutputProblem(model, times, observed_values)\n",
    "\n",
    "# Create a log-likelihood function (adds an extra parameter!)\n",
    "log_likelihood = pints.UnknownNoiseLogLikelihood(problem)\n",
    "\n",
    "# Create a uniform prior over both the parameters and the new noise variable\n",
    "log_prior = pints.UniformLogPrior(\n",
    "    [0.01, 400, sigma * 0.5],\n",
    "    [0.02, 600, sigma * 1.5])\n",
    "\n",
    "# Create a nested ellipsoidal rejectection sampler\n",
    "sampler = pints.NestedRejectionSampler(log_likelihood, log_prior)\n",
    "\n",
    "# Set number of iterations\n",
    "sampler.set_iterations(3000)\n",
    "\n",
    "# Set the number of posterior samples to generate\n",
    "sampler.set_n_posterior_samples(500)\n",
    "\n",
    "# Set the number of active points\n",
    "sampler.set_n_active_points(400)"
   ]
  },
  {
   "cell_type": "markdown",
   "metadata": {},
   "source": [
    "Run the sampler!"
   ]
  },
  {
   "cell_type": "code",
   "execution_count": 3,
   "metadata": {},
   "outputs": [
    {
     "name": "stdout",
     "output_type": "stream",
     "text": [
      "Running Nested Rejection Sampler\n",
      "Number of active points: 400\n",
      "Total number of iterations: 10000\n",
      "Total number of posterior samples: 500\n",
      "Iter. Eval. Time m:s Delta_log(z)\n",
      "0     1       0:00.0 -inf        \n",
      "0     2       0:00.0 -inf        \n",
      "0     3       0:00.0 -inf        \n",
      "0     4       0:00.0 -inf        \n",
      "0     5       0:00.0 -inf        \n",
      "0     21      0:00.0 -inf        \n",
      "0     41      0:00.0 -inf        \n",
      "0     61      0:00.0 -inf        \n",
      "0     81      0:00.1 -inf        \n",
      "0     101     0:00.1 -inf        \n",
      "0     121     0:00.1 -inf        \n",
      "0     141     0:00.1 -inf        \n",
      "0     161     0:00.1 -inf        \n",
      "0     181     0:00.1 -inf        \n",
      "0     201     0:00.1 -inf        \n",
      "0     221     0:00.1 -inf        \n",
      "0     241     0:00.1 -inf        \n",
      "0     261     0:00.1 -inf        \n",
      "0     281     0:00.1 -inf        \n",
      "0     301     0:00.1 -inf        \n",
      "0     321     0:00.1 -inf        \n",
      "0     341     0:00.1 -inf        \n",
      "0     361     0:00.1 -inf        \n",
      "0     381     0:00.2 -inf        \n",
      "400   401     0:00.2 -inf        \n",
      "420   423     0:00.2 -11939.40947\n",
      "440   443     0:00.3 -8636.764689\n",
      "460   471     0:00.3 -6872.350435\n",
      "480   497     0:00.3 -5729.925694\n",
      "500   523     0:00.4 -4910.864707\n",
      "520   553     0:00.4 -4334.805855\n",
      "540   587     0:00.5 -3683.527201\n",
      "560   639     0:00.5 -3324.68114 \n",
      "580   683     0:00.5 -2951.284665\n",
      "600   723     0:00.6 -2714.05778 \n",
      "620   785     0:00.6 -2445.418874\n",
      "640   835     0:00.6 -2269.309174\n",
      "660   887     0:00.7 -2115.85498 \n",
      "680   931     0:00.7 -1932.227427\n",
      "700   993     0:00.8 -1793.777105\n",
      "720   1093    0:00.8 -1709.491827\n",
      "740   1157    0:00.8 -1582.046305\n",
      "760   1223    0:00.9 -1520.85346 \n",
      "780   1287    0:00.9 -1419.859056\n",
      "800   1395    0:01.0 -1367.927832\n",
      "820   1517    0:01.1 -1291.007461\n",
      "840   1639    0:01.1 -1213.309979\n",
      "860   1757    0:01.2 -1156.540877\n",
      "880   1857    0:01.2 -1104.97348 \n",
      "900   1999    0:01.3 -1073.022149\n",
      "920   2117    0:01.4 -1022.497095\n",
      "940   2269    0:01.4 -985.5482276\n",
      "960   2403    0:01.5 -918.0575992\n",
      "980   2537    0:01.6 -871.964392 \n",
      "1000  2713    0:01.7 -831.1926197\n",
      "1020  2927    0:01.8 -784.7971891\n",
      "1040  3047    0:01.8 -739.960801 \n",
      "1060  3239    0:01.9 -697.601951 \n",
      "1080  3441    0:02.0 -667.3552125\n",
      "1100  3687    0:02.0 -636.9424846\n",
      "1120  3881    0:02.1 -610.3128023\n",
      "1140  4053    0:02.2 -587.5075944\n",
      "1160  4255    0:02.3 -565.8941637\n",
      "1180  4497    0:02.4 -540.1422856\n",
      "1200  4791    0:02.5 -521.1632287\n",
      "1220  5061    0:02.5 -490.1971567\n",
      "1240  5341    0:02.6 -465.6895256\n",
      "1260  5651    0:02.7 -439.3557347\n",
      "1280  6021    0:02.9 -425.6802755\n",
      "1300  6417    0:03.0 -398.2456327\n",
      "1320  6955    0:03.2 -378.7180721\n",
      "1340  7299    0:03.3 -358.623772 \n",
      "1360  7737    0:03.4 -341.7504372\n",
      "1380  8225    0:03.6 -329.7155289\n",
      "1400  8687    0:03.7 -320.08754  \n",
      "1420  9269    0:03.9 -308.6592168\n",
      "1440  9775    0:04.0 -297.1070281\n",
      "1460  10225   0:04.1 -281.5696928\n",
      "1480  10659   0:04.3 -269.5737869\n",
      "1500  11203   0:04.4 -257.1411942\n",
      "1520  11723   0:04.6 -240.7020441\n",
      "1540  12445   0:04.8 -230.5829842\n",
      "1560  12951   0:04.9 -217.9049258\n",
      "1580  13501   0:05.1 -208.2120768\n",
      "1600  14627   0:05.4 -201.3523224\n",
      "1620  15303   0:05.6 -194.2386658\n",
      "1640  16633   0:05.9 -189.24118  \n",
      "1660  17403   0:06.1 -177.8224851\n",
      "1680  17995   0:06.3 -168.1621604\n",
      "1700  19509   0:06.7 -159.1859789\n",
      "1720  20661   0:07.0 -153.2374881\n",
      "1740  21547   0:07.2 -147.0729697\n",
      "1760  22547   0:07.5 -139.8981316\n",
      "1780  24535   0:08.0 -131.7124672\n",
      "1800  25717   0:08.3 -126.9161046\n",
      "1820  26801   0:08.5 -121.0224231\n",
      "1840  28449   0:08.9 -114.787816 \n",
      "1860  30035   0:09.4 -108.8658305\n",
      "1880  31529   0:09.8 -102.6044251\n",
      "1900  33131   0:10.2 -98.70760545\n",
      "1920  34545   0:10.6 -94.22309577\n",
      "1940  36413   0:11.0 -90.99119855\n",
      "1960  38581   0:11.5 -87.98349839\n",
      "1980  40789   0:12.0 -85.44752588\n",
      "2000  42363   0:12.4 -82.9361773 \n",
      "2020  44191   0:12.8 -79.4705362 \n",
      "2040  46531   0:13.3 -75.78279356\n",
      "2060  49329   0:13.9 -73.49206985\n",
      "2080  51811   0:14.6 -71.02139147\n",
      "2100  54593   0:15.2 -68.77001291\n",
      "2120  57909   0:15.9 -65.91795321\n",
      "2140  60537   0:16.5 -63.57282504\n",
      "2160  63361   0:17.2 -61.60117168\n",
      "2180  67199   0:17.9 -59.52157808\n",
      "2200  68885   0:18.4 -56.71689342\n",
      "2220  73027   0:19.4 -53.94139692\n",
      "2240  75919   0:20.1 -51.96759457\n",
      "2260  79637   0:20.9 -49.82542135\n",
      "2280  85355   0:22.1 -47.11881335\n",
      "2300  92047   0:23.7 -45.34482254\n",
      "2320  95981   0:24.6 -43.74503072\n",
      "2340  101945   0:25.9 -42.27775309\n",
      "2360  107021   0:27.0 -40.8680272 \n",
      "2380  112065   0:28.1 -39.27207461\n",
      "2400  118941   0:29.7 -37.65857825\n",
      "2420  123943   0:30.9 -36.19409616\n",
      "2440  128553   0:31.9 -34.9274688 \n",
      "2460  136687   0:33.7 -33.64013531\n",
      "2480  144573   0:35.5 -32.34618441\n",
      "2500  150033   0:36.7 -30.96449678\n",
      "2520  160331   0:39.1 -29.69454975\n",
      "2540  166869   0:40.6 -28.60584374\n",
      "2560  178357   0:43.2 -27.51590406\n",
      "2580  190013   0:45.8 -26.56473621\n",
      "2600  202769   0:48.6 -25.73500071\n",
      "2620  209941   0:50.1 -24.93436942\n",
      "2640  220225   0:52.4 -24.23406626\n",
      "2660  230569   0:54.6 -23.54037099\n",
      "2680  244937   0:57.8 -22.89833581\n",
      "2700  260099   1:01.2 -22.32506934\n",
      "2720  276065   1:05.1 -21.74161751\n",
      "2740  289935   1:08.3 -21.11772501\n",
      "2760  303715   1:11.5 -20.52650151\n",
      "2780  322601   1:15.6 -19.89330896\n",
      "2800  338443   1:18.9 -19.2670836 \n",
      "2820  356727   1:22.8 -18.69009433\n",
      "2840  374301   1:26.4 -18.04815447\n",
      "2860  395103   1:30.9 -17.49502261\n",
      "2880  410637   1:34.1 -16.99802795\n",
      "2900  435927   1:40.0 -16.53426219\n",
      "2920  462805   1:46.4 -16.08502536\n",
      "2940  491881   1:52.9 -15.63492094\n",
      "2960  521163   1:58.8 -15.18640518\n",
      "2980  545223   2:04.0 -14.77254624\n",
      "3000  580129   2:11.5 -14.32767574\n",
      "3020  607837   2:17.8 -13.91500058\n",
      "3040  646903   2:27.2 -13.54172278\n",
      "3060  687507   2:37.3 -13.18818258\n",
      "3080  712199   2:43.5 -12.86149608\n",
      "3100  743163   2:51.0 -12.55297235\n",
      "3120  776465   2:59.0 -12.26085244\n",
      "3140  816617   3:08.9 -11.96978827\n",
      "3160  844347   3:15.8 -11.68444237\n",
      "3180  886047   3:26.0 -11.41109324\n",
      "3200  931173   3:37.2 -11.13804623\n",
      "3220  961785   3:44.8 -10.87134024\n",
      "3240  1007215   3:55.8 -10.59381675\n",
      "3260  1064507   4:09.5 -10.30712518\n",
      "3280  1107069   4:19.9 -10.01984637\n",
      "3300  1144791   4:29.1 -9.747374756\n",
      "3320  1201383   4:43.1 -9.488244252\n",
      "3340  1267187   4:58.8 -9.237689799\n",
      "3360  1346873   5:17.5 -8.998153912\n",
      "3380  1436129   5:38.8 -8.770898357\n",
      "3400  1499985   5:52.3 -8.539164205\n",
      "3420  1560759   6:05.4 -8.306087063\n",
      "3440  1656819   6:25.8 -8.072794739\n",
      "3460  1749061   6:46.1 -7.84550839 \n",
      "3480  1822875   7:01.9 -7.627936399\n",
      "3500  1913381   7:21.1 -7.415829573\n",
      "3520  1994543   7:38.3 -7.200933806\n"
     ]
    },
    {
     "ename": "KeyboardInterrupt",
     "evalue": "",
     "output_type": "error",
     "traceback": [
      "\u001b[0;31m---------------------------------------------------------------------------\u001b[0m",
      "\u001b[0;31mKeyboardInterrupt\u001b[0m                         Traceback (most recent call last)",
      "\u001b[0;32m<ipython-input-3-085bafbbba77>\u001b[0m in \u001b[0;36m<module>\u001b[0;34m()\u001b[0m\n\u001b[0;32m----> 1\u001b[0;31m \u001b[0msamples\u001b[0m \u001b[0;34m=\u001b[0m \u001b[0msampler\u001b[0m\u001b[0;34m.\u001b[0m\u001b[0mrun\u001b[0m\u001b[0;34m(\u001b[0m\u001b[0;34m)\u001b[0m\u001b[0;34m\u001b[0m\u001b[0m\n\u001b[0m\u001b[1;32m      2\u001b[0m \u001b[0;32mprint\u001b[0m\u001b[0;34m(\u001b[0m\u001b[0;34m'Done!'\u001b[0m\u001b[0;34m)\u001b[0m\u001b[0;34m\u001b[0m\u001b[0m\n",
      "\u001b[0;32m/Users/appleuser/Desktop/AllPints/pints/pints/_nested/__init__.pyc\u001b[0m in \u001b[0;36mrun\u001b[0;34m(self)\u001b[0m\n\u001b[1;32m    248\u001b[0m             \u001b[0;32mwhile\u001b[0m \u001b[0mself\u001b[0m\u001b[0;34m.\u001b[0m\u001b[0mtell\u001b[0m\u001b[0;34m(\u001b[0m\u001b[0mlog_likelihood\u001b[0m\u001b[0;34m)\u001b[0m \u001b[0;32mis\u001b[0m \u001b[0mNone\u001b[0m\u001b[0;34m:\u001b[0m\u001b[0;34m\u001b[0m\u001b[0m\n\u001b[1;32m    249\u001b[0m                 \u001b[0mself\u001b[0m\u001b[0;34m.\u001b[0m\u001b[0m_proposed\u001b[0m \u001b[0;34m=\u001b[0m \u001b[0mself\u001b[0m\u001b[0;34m.\u001b[0m\u001b[0mask\u001b[0m\u001b[0;34m(\u001b[0m\u001b[0;34m)\u001b[0m\u001b[0;34m\u001b[0m\u001b[0m\n\u001b[0;32m--> 250\u001b[0;31m                 \u001b[0mlog_likelihood\u001b[0m \u001b[0;34m=\u001b[0m \u001b[0mevaluator\u001b[0m\u001b[0;34m.\u001b[0m\u001b[0mevaluate\u001b[0m\u001b[0;34m(\u001b[0m\u001b[0;34m[\u001b[0m\u001b[0mself\u001b[0m\u001b[0;34m.\u001b[0m\u001b[0m_proposed\u001b[0m\u001b[0;34m]\u001b[0m\u001b[0;34m)\u001b[0m\u001b[0;34m[\u001b[0m\u001b[0;36m0\u001b[0m\u001b[0;34m]\u001b[0m\u001b[0;34m\u001b[0m\u001b[0m\n\u001b[0m\u001b[1;32m    251\u001b[0m                 \u001b[0mself\u001b[0m\u001b[0;34m.\u001b[0m\u001b[0m_n_evals\u001b[0m \u001b[0;34m+=\u001b[0m \u001b[0;36m1\u001b[0m\u001b[0;34m\u001b[0m\u001b[0m\n\u001b[1;32m    252\u001b[0m \u001b[0;34m\u001b[0m\u001b[0m\n",
      "\u001b[0;32m/Users/appleuser/Desktop/AllPints/pints/pints/_evaluation.pyc\u001b[0m in \u001b[0;36mevaluate\u001b[0;34m(self, positions)\u001b[0m\n\u001b[1;32m    108\u001b[0m                 \u001b[0;34m'The argument `positions` must be a sequence of input values'\u001b[0m\u001b[0;34m\u001b[0m\u001b[0m\n\u001b[1;32m    109\u001b[0m                 ' to the evaluator\\'s function.')\n\u001b[0;32m--> 110\u001b[0;31m         \u001b[0;32mreturn\u001b[0m \u001b[0mself\u001b[0m\u001b[0;34m.\u001b[0m\u001b[0m_evaluate\u001b[0m\u001b[0;34m(\u001b[0m\u001b[0mpositions\u001b[0m\u001b[0;34m)\u001b[0m\u001b[0;34m\u001b[0m\u001b[0m\n\u001b[0m\u001b[1;32m    111\u001b[0m \u001b[0;34m\u001b[0m\u001b[0m\n\u001b[1;32m    112\u001b[0m     \u001b[0;32mdef\u001b[0m \u001b[0m_evaluate\u001b[0m\u001b[0;34m(\u001b[0m\u001b[0mself\u001b[0m\u001b[0;34m,\u001b[0m \u001b[0mpositions\u001b[0m\u001b[0;34m)\u001b[0m\u001b[0;34m:\u001b[0m\u001b[0;34m\u001b[0m\u001b[0m\n",
      "\u001b[0;32m/Users/appleuser/Desktop/AllPints/pints/pints/_evaluation.pyc\u001b[0m in \u001b[0;36m_evaluate\u001b[0;34m(self, positions)\u001b[0m\n\u001b[1;32m    401\u001b[0m         \u001b[0mscores\u001b[0m \u001b[0;34m=\u001b[0m \u001b[0;34m[\u001b[0m\u001b[0;36m0\u001b[0m\u001b[0;34m]\u001b[0m \u001b[0;34m*\u001b[0m \u001b[0mlen\u001b[0m\u001b[0;34m(\u001b[0m\u001b[0mpositions\u001b[0m\u001b[0;34m)\u001b[0m\u001b[0;34m\u001b[0m\u001b[0m\n\u001b[1;32m    402\u001b[0m         \u001b[0;32mfor\u001b[0m \u001b[0mk\u001b[0m\u001b[0;34m,\u001b[0m \u001b[0mx\u001b[0m \u001b[0;32min\u001b[0m \u001b[0menumerate\u001b[0m\u001b[0;34m(\u001b[0m\u001b[0mpositions\u001b[0m\u001b[0;34m)\u001b[0m\u001b[0;34m:\u001b[0m\u001b[0;34m\u001b[0m\u001b[0m\n\u001b[0;32m--> 403\u001b[0;31m             \u001b[0mscores\u001b[0m\u001b[0;34m[\u001b[0m\u001b[0mk\u001b[0m\u001b[0;34m]\u001b[0m \u001b[0;34m=\u001b[0m \u001b[0mself\u001b[0m\u001b[0;34m.\u001b[0m\u001b[0m_function\u001b[0m\u001b[0;34m(\u001b[0m\u001b[0mx\u001b[0m\u001b[0;34m,\u001b[0m \u001b[0;34m*\u001b[0m\u001b[0mself\u001b[0m\u001b[0;34m.\u001b[0m\u001b[0m_args\u001b[0m\u001b[0;34m)\u001b[0m\u001b[0;34m\u001b[0m\u001b[0m\n\u001b[0m\u001b[1;32m    404\u001b[0m         \u001b[0;32mreturn\u001b[0m \u001b[0mscores\u001b[0m\u001b[0;34m\u001b[0m\u001b[0m\n\u001b[1;32m    405\u001b[0m \u001b[0;34m\u001b[0m\u001b[0m\n",
      "\u001b[0;32m/Users/appleuser/Desktop/AllPints/pints/pints/_log_likelihoods.pyc\u001b[0m in \u001b[0;36m__call__\u001b[0;34m(self, x)\u001b[0m\n\u001b[1;32m    150\u001b[0m     \u001b[0;32mdef\u001b[0m \u001b[0m__call__\u001b[0m\u001b[0;34m(\u001b[0m\u001b[0mself\u001b[0m\u001b[0;34m,\u001b[0m \u001b[0mx\u001b[0m\u001b[0;34m)\u001b[0m\u001b[0;34m:\u001b[0m\u001b[0;34m\u001b[0m\u001b[0m\n\u001b[1;32m    151\u001b[0m         \u001b[0msigma\u001b[0m \u001b[0;34m=\u001b[0m \u001b[0mnp\u001b[0m\u001b[0;34m.\u001b[0m\u001b[0masarray\u001b[0m\u001b[0;34m(\u001b[0m\u001b[0mx\u001b[0m\u001b[0;34m[\u001b[0m\u001b[0;34m-\u001b[0m\u001b[0mself\u001b[0m\u001b[0;34m.\u001b[0m\u001b[0m_no\u001b[0m\u001b[0;34m:\u001b[0m\u001b[0;34m]\u001b[0m\u001b[0;34m)\u001b[0m\u001b[0;34m\u001b[0m\u001b[0m\n\u001b[0;32m--> 152\u001b[0;31m         \u001b[0merror\u001b[0m \u001b[0;34m=\u001b[0m \u001b[0mself\u001b[0m\u001b[0;34m.\u001b[0m\u001b[0m_values\u001b[0m \u001b[0;34m-\u001b[0m \u001b[0mself\u001b[0m\u001b[0;34m.\u001b[0m\u001b[0m_problem\u001b[0m\u001b[0;34m.\u001b[0m\u001b[0mevaluate\u001b[0m\u001b[0;34m(\u001b[0m\u001b[0mx\u001b[0m\u001b[0;34m[\u001b[0m\u001b[0;34m:\u001b[0m\u001b[0;34m-\u001b[0m\u001b[0mself\u001b[0m\u001b[0;34m.\u001b[0m\u001b[0m_no\u001b[0m\u001b[0;34m]\u001b[0m\u001b[0;34m)\u001b[0m\u001b[0;34m\u001b[0m\u001b[0m\n\u001b[0m\u001b[1;32m    153\u001b[0m         return np.sum(- self._logn - self._nt * np.log(sigma)\n\u001b[1;32m    154\u001b[0m                       - np.sum(error**2, axis=0) / (2 * sigma**2))\n",
      "\u001b[0;32m/Users/appleuser/Desktop/AllPints/pints/pints/_core.pyc\u001b[0m in \u001b[0;36mevaluate\u001b[0;34m(self, parameters)\u001b[0m\n\u001b[1;32m    183\u001b[0m         \u001b[0mvalues\u001b[0m\u001b[0;34m.\u001b[0m\u001b[0;34m\u001b[0m\u001b[0m\n\u001b[1;32m    184\u001b[0m         \"\"\"\n\u001b[0;32m--> 185\u001b[0;31m         \u001b[0;32mreturn\u001b[0m \u001b[0mself\u001b[0m\u001b[0;34m.\u001b[0m\u001b[0m_model\u001b[0m\u001b[0;34m.\u001b[0m\u001b[0msimulate\u001b[0m\u001b[0;34m(\u001b[0m\u001b[0mparameters\u001b[0m\u001b[0;34m,\u001b[0m \u001b[0mself\u001b[0m\u001b[0;34m.\u001b[0m\u001b[0m_times\u001b[0m\u001b[0;34m)\u001b[0m\u001b[0;34m\u001b[0m\u001b[0m\n\u001b[0m\u001b[1;32m    186\u001b[0m \u001b[0;34m\u001b[0m\u001b[0m\n\u001b[1;32m    187\u001b[0m     \u001b[0;32mdef\u001b[0m \u001b[0mevaluateS1\u001b[0m\u001b[0;34m(\u001b[0m\u001b[0mself\u001b[0m\u001b[0;34m,\u001b[0m \u001b[0mparameters\u001b[0m\u001b[0;34m)\u001b[0m\u001b[0;34m:\u001b[0m\u001b[0;34m\u001b[0m\u001b[0m\n",
      "\u001b[0;32m/Users/appleuser/Desktop/AllPints/pints/pints/toy/_logistic_model.pyc\u001b[0m in \u001b[0;36msimulate\u001b[0;34m(self, parameters, times)\u001b[0m\n\u001b[1;32m     46\u001b[0m     \u001b[0;32mdef\u001b[0m \u001b[0msimulate\u001b[0m\u001b[0;34m(\u001b[0m\u001b[0mself\u001b[0m\u001b[0;34m,\u001b[0m \u001b[0mparameters\u001b[0m\u001b[0;34m,\u001b[0m \u001b[0mtimes\u001b[0m\u001b[0;34m)\u001b[0m\u001b[0;34m:\u001b[0m\u001b[0;34m\u001b[0m\u001b[0m\n\u001b[1;32m     47\u001b[0m         \u001b[0;34m\"\"\" See :meth:`pints.ForwardModel.simulate()`. \"\"\"\u001b[0m\u001b[0;34m\u001b[0m\u001b[0m\n\u001b[0;32m---> 48\u001b[0;31m         \u001b[0;32mreturn\u001b[0m \u001b[0mself\u001b[0m\u001b[0;34m.\u001b[0m\u001b[0m_simulate\u001b[0m\u001b[0;34m(\u001b[0m\u001b[0mparameters\u001b[0m\u001b[0;34m,\u001b[0m \u001b[0mtimes\u001b[0m\u001b[0;34m,\u001b[0m \u001b[0mFalse\u001b[0m\u001b[0;34m)\u001b[0m\u001b[0;34m\u001b[0m\u001b[0m\n\u001b[0m\u001b[1;32m     49\u001b[0m \u001b[0;34m\u001b[0m\u001b[0m\n\u001b[1;32m     50\u001b[0m     \u001b[0;32mdef\u001b[0m \u001b[0msimulateS1\u001b[0m\u001b[0;34m(\u001b[0m\u001b[0mself\u001b[0m\u001b[0;34m,\u001b[0m \u001b[0mparameters\u001b[0m\u001b[0;34m,\u001b[0m \u001b[0mtimes\u001b[0m\u001b[0;34m)\u001b[0m\u001b[0;34m:\u001b[0m\u001b[0;34m\u001b[0m\u001b[0m\n",
      "\u001b[0;32m/Users/appleuser/Desktop/AllPints/pints/pints/toy/_logistic_model.pyc\u001b[0m in \u001b[0;36m_simulate\u001b[0;34m(self, parameters, times, sensitivities)\u001b[0m\n\u001b[1;32m     53\u001b[0m \u001b[0;34m\u001b[0m\u001b[0m\n\u001b[1;32m     54\u001b[0m     \u001b[0;32mdef\u001b[0m \u001b[0m_simulate\u001b[0m\u001b[0;34m(\u001b[0m\u001b[0mself\u001b[0m\u001b[0;34m,\u001b[0m \u001b[0mparameters\u001b[0m\u001b[0;34m,\u001b[0m \u001b[0mtimes\u001b[0m\u001b[0;34m,\u001b[0m \u001b[0msensitivities\u001b[0m\u001b[0;34m)\u001b[0m\u001b[0;34m:\u001b[0m\u001b[0;34m\u001b[0m\u001b[0m\n\u001b[0;32m---> 55\u001b[0;31m         \u001b[0mr\u001b[0m\u001b[0;34m,\u001b[0m \u001b[0mk\u001b[0m \u001b[0;34m=\u001b[0m \u001b[0;34m[\u001b[0m\u001b[0mfloat\u001b[0m\u001b[0;34m(\u001b[0m\u001b[0mx\u001b[0m\u001b[0;34m)\u001b[0m \u001b[0;32mfor\u001b[0m \u001b[0mx\u001b[0m \u001b[0;32min\u001b[0m \u001b[0mparameters\u001b[0m\u001b[0;34m]\u001b[0m\u001b[0;34m\u001b[0m\u001b[0m\n\u001b[0m\u001b[1;32m     56\u001b[0m         \u001b[0mtimes\u001b[0m \u001b[0;34m=\u001b[0m \u001b[0mnp\u001b[0m\u001b[0;34m.\u001b[0m\u001b[0masarray\u001b[0m\u001b[0;34m(\u001b[0m\u001b[0mtimes\u001b[0m\u001b[0;34m)\u001b[0m\u001b[0;34m\u001b[0m\u001b[0m\n\u001b[1;32m     57\u001b[0m         \u001b[0;32mif\u001b[0m \u001b[0mnp\u001b[0m\u001b[0;34m.\u001b[0m\u001b[0many\u001b[0m\u001b[0;34m(\u001b[0m\u001b[0mtimes\u001b[0m \u001b[0;34m<\u001b[0m \u001b[0;36m0\u001b[0m\u001b[0;34m)\u001b[0m\u001b[0;34m:\u001b[0m\u001b[0;34m\u001b[0m\u001b[0m\n",
      "\u001b[0;31mKeyboardInterrupt\u001b[0m: "
     ]
    }
   ],
   "source": [
    "samples = sampler.run()\n",
    "print('Done!')"
   ]
  },
  {
   "cell_type": "markdown",
   "metadata": {},
   "source": [
    "## Plot posterior samples versus true parameter values (dashed lines)"
   ]
  },
  {
   "cell_type": "code",
   "execution_count": null,
   "metadata": {},
   "outputs": [],
   "source": [
    "# Plot output\n",
    "import pints.plot\n",
    "\n",
    "pints.plot.histogram([samples], ref_parameters=[r, k, sigma])\n",
    "\n",
    "plt.show()"
   ]
  },
  {
   "cell_type": "code",
   "execution_count": null,
   "metadata": {
    "scrolled": true
   },
   "outputs": [],
   "source": [
    "vTheta = samples[0]\n",
    "pints.plot.pairwise(samples, kde=True)\n",
    "\n",
    "plt.show()"
   ]
  },
  {
   "cell_type": "markdown",
   "metadata": {},
   "source": [
    "## Plot posterior predictive simulations versus the observed data"
   ]
  },
  {
   "cell_type": "code",
   "execution_count": null,
   "metadata": {},
   "outputs": [],
   "source": [
    "pints.plot.series(samples[:100], problem)\n",
    "plt.show()"
   ]
  },
  {
   "cell_type": "markdown",
   "metadata": {},
   "source": [
    "## Marginal likelihood estimate"
   ]
  },
  {
   "cell_type": "code",
   "execution_count": null,
   "metadata": {},
   "outputs": [],
   "source": [
    "print('marginal log-likelihood = ' + str(sampler.marginal_log_likelihood())\n",
    "      + ' ± ' + str(sampler.marginal_log_likelihood_standard_deviation()))"
   ]
  },
  {
   "cell_type": "markdown",
   "metadata": {},
   "source": [
    "## Examine active and inactive points at end of sampling run"
   ]
  },
  {
   "cell_type": "code",
   "execution_count": null,
   "metadata": {},
   "outputs": [],
   "source": [
    "m_active = sampler.active_points()\n",
    "m_inactive = sampler.inactive_points()\n",
    "\n",
    "f, axarr = plt.subplots(1,3,figsize=(15,6))\n",
    "axarr[0].scatter(m_inactive[:,0],m_inactive[:,1])\n",
    "axarr[0].scatter(m_active[:,0],m_active[:,1],alpha=0.1)\n",
    "axarr[0].set_xlim([0.008,0.022])\n",
    "axarr[0].set_xlabel('r')\n",
    "axarr[0].set_ylabel('k')\n",
    "axarr[1].scatter(m_inactive[:,0],m_inactive[:,2])\n",
    "axarr[1].scatter(m_active[:,0],m_active[:,2],alpha=0.1)\n",
    "axarr[1].set_xlim([0.008,0.022])\n",
    "axarr[1].set_xlabel('r')\n",
    "axarr[1].set_ylabel('sigma')\n",
    "axarr[2].scatter(m_inactive[:,1],m_inactive[:,2])\n",
    "axarr[2].scatter(m_active[:,1],m_active[:,2],alpha=0.1)\n",
    "axarr[2].set_xlabel('k')\n",
    "axarr[2].set_ylabel('sigma')\n",
    "plt.show()"
   ]
  },
  {
   "cell_type": "markdown",
   "metadata": {},
   "source": [
    "## Examine log-likelihoods versus proportion of prior space sampled"
   ]
  },
  {
   "cell_type": "code",
   "execution_count": null,
   "metadata": {},
   "outputs": [],
   "source": [
    "v_log_likelihood = sampler.log_likelihood_vector()\n",
    "v_log_likelihood = v_log_likelihood[:-sampler.n_active_points()]\n",
    "X = sampler.prior_space()\n",
    "X = X[:-1]\n",
    "plt.plot(X, v_log_likelihood)\n",
    "plt.xlabel('prior volume enclosed by X(L) > L')\n",
    "plt.ylabel('log likelihood')\n",
    "plt.show()"
   ]
  },
  {
   "cell_type": "markdown",
   "metadata": {},
   "source": [
    "## Sample some other posterior samples from recent run"
   ]
  },
  {
   "cell_type": "code",
   "execution_count": null,
   "metadata": {},
   "outputs": [],
   "source": [
    "samples_new = sampler.sample_from_posterior(1000)\n",
    "\n",
    "pints.plot.pairwise(samples_new, kde=True)\n",
    "\n",
    "plt.show()"
   ]
  }
 ],
 "metadata": {
  "kernelspec": {
   "display_name": "Python 2",
   "language": "python",
   "name": "python2"
  },
  "language_info": {
   "codemirror_mode": {
    "name": "ipython",
    "version": 2
   },
   "file_extension": ".py",
   "mimetype": "text/x-python",
   "name": "python",
   "nbconvert_exporter": "python",
   "pygments_lexer": "ipython2",
   "version": "2.7.14"
  }
 },
 "nbformat": 4,
 "nbformat_minor": 2
}
