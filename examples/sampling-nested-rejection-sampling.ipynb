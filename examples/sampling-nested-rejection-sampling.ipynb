{
 "cells": [
  {
   "cell_type": "markdown",
   "metadata": {},
   "source": [
    "# Nested rejection sampling\n",
    "\n",
    "This example demonstrates how to use nested rejection sampling [1] to sample from the posterior distribution for a logistic model fitted to model-simulated data. For a tutorial on nested sampling, see: [INSERT LINK to NESTED SAMPLING TUTORIAL NOTEBOOK].\n",
    "\n",
    "[1] \"Nested Sampling for General Bayesian Computation\", John Skilling, Bayesian Analysis (2006) [https://projecteuclid.org/download/pdf_1/euclid.ba/1340370944](https://projecteuclid.org/download/pdf_1/euclid.ba/1340370944)."
   ]
  },
  {
   "cell_type": "markdown",
   "metadata": {},
   "source": [
    "First create fake data."
   ]
  },
  {
   "cell_type": "code",
   "execution_count": 1,
   "metadata": {},
   "outputs": [
    {
     "data": {
      "image/png": "[encoded data removed]",
      "text/plain": [
       "<matplotlib.figure.Figure at 0x261d1004780>"
      ]
     },
     "metadata": {},
     "output_type": "display_data"
    }
   ],
   "source": [
    "import os\n",
    "os.chdir('../')\n",
    "from __future__ import print_function\n",
    "import pints\n",
    "import pints.toy as toy\n",
    "import numpy as np\n",
    "import matplotlib.pyplot as plt\n",
    "\n",
    "# Load a forward model\n",
    "model = toy.LogisticModel()\n",
    "\n",
    "# Create some toy data\n",
    "r = 0.015\n",
    "k = 500\n",
    "real_parameters = [r, k]\n",
    "times = np.linspace(0, 1000, 100)\n",
    "signal_values = model.simulate(real_parameters, times)\n",
    "\n",
    "# Add independent Gaussian noise\n",
    "sigma = 10\n",
    "observed_values = signal_values + pints.noise.independent(sigma, signal_values.shape)\n",
    "\n",
    "# Plot\n",
    "plt.plot(times,signal_values,label = 'signal')\n",
    "plt.plot(times,observed_values,label = 'observed')\n",
    "plt.xlabel('Time')\n",
    "plt.ylabel('Values')\n",
    "plt.legend()\n",
    "plt.show()"
   ]
  },
  {
   "cell_type": "markdown",
   "metadata": {},
   "source": [
    "Create the nested sampler that will be used to sample from the posterior."
   ]
  },
  {
   "cell_type": "code",
   "execution_count": 2,
   "metadata": {},
   "outputs": [
    {
     "name": "stdout",
     "output_type": "stream",
     "text": [
      "Running Nested Rejection sampler\n",
      "Number of active points: 400\n",
      "Total number of iterations: 3000\n",
      "Total number of posterior samples: 500\n",
      "Iter. Eval. Time m:s Delta_log(z)\n",
      "0     1       0:00.0 -inf        \n",
      "0     2       0:00.0 -inf        \n",
      "0     3       0:00.0 -inf        \n",
      "0     4       0:00.0 -inf        \n",
      "0     5       0:00.0 -inf        \n",
      "0     21      0:00.0 -inf        \n",
      "0     41      0:00.0 -inf        \n",
      "0     61      0:00.0 -inf        \n",
      "0     81      0:00.0 -inf        \n",
      "0     101     0:00.0 -inf        \n",
      "0     121     0:00.0 -inf        \n",
      "0     141     0:00.0 -inf        \n",
      "0     161     0:00.0 -inf        \n",
      "0     181     0:00.0 -inf        \n",
      "0     201     0:00.0 -inf        \n",
      "0     221     0:00.0 -inf        \n",
      "0     241     0:00.0 -inf        \n",
      "0     261     0:00.0 -inf        \n",
      "0     281     0:00.0 -inf        \n",
      "0     301     0:00.0 -inf        \n",
      "0     321     0:00.0 -inf        \n",
      "0     341     0:00.0 -inf        \n",
      "0     361     0:00.0 -inf        \n",
      "0     381     0:00.0 -inf        \n",
      "400   400     0:00.0 -inf        \n",
      "420   400     0:00.0 -10614.70209\n",
      "440   404     0:00.0 -8435.248658\n",
      "460   412     0:00.1 -5698.017843\n",
      "480   418     0:00.1 -4793.734419\n",
      "500   423     0:00.1 -4298.627955\n",
      "520   431     0:00.1 -3923.011738\n",
      "540   438     0:00.1 -3603.14964 \n",
      "560   449     0:00.1 -3159.535789\n",
      "580   469     0:00.1 -2922.8634  \n",
      "600   491     0:00.1 -2646.793406\n",
      "620   510     0:00.1 -2410.65413 \n",
      "640   528     0:00.1 -2219.788935\n",
      "660   554     0:00.1 -2098.964678\n",
      "680   579     0:00.2 -1953.111041\n",
      "700   602     0:00.2 -1829.112851\n",
      "720   632     0:00.2 -1721.181338\n",
      "740   652     0:00.2 -1596.764085\n",
      "760   706     0:00.2 -1475.099142\n",
      "780   749     0:00.2 -1383.493901\n",
      "800   788     0:00.2 -1300.381984\n",
      "820   825     0:00.3 -1216.917622\n",
      "840   870     0:00.3 -1159.903739\n",
      "860   913     0:00.3 -1108.635283\n",
      "880   938     0:00.3 -1057.366283\n",
      "900   1009    0:00.3 -1018.401785\n",
      "920   1080    0:00.3 -969.5864583\n",
      "940   1127    0:00.3 -916.4144992\n",
      "960   1178    0:00.3 -872.8474282\n",
      "980   1256    0:00.4 -826.4297927\n",
      "1000  1326    0:00.4 -794.4963674\n",
      "1020  1405    0:00.4 -758.0347509\n",
      "1040  1514    0:00.4 -726.7419945\n",
      "1060  1607    0:00.4 -704.8948983\n",
      "1080  1696    0:00.4 -659.354372 \n",
      "1100  1767    0:00.4 -622.5866945\n",
      "1120  1950    0:00.5 -595.7371347\n",
      "1140  2021    0:00.5 -570.3691763\n",
      "1160  2107    0:00.5 -551.940817 \n",
      "1180  2292    0:00.5 -514.4164412\n",
      "1200  2460    0:00.5 -492.3773877\n",
      "1220  2579    0:00.6 -467.5390193\n",
      "1240  2703    0:00.6 -445.875518 \n",
      "1260  2881    0:00.6 -432.5128399\n",
      "1280  3049    0:00.6 -418.4478819\n",
      "1300  3212    0:00.7 -399.4012046\n",
      "1320  3363    0:00.7 -379.4921643\n",
      "1340  3514    0:00.7 -366.3392643\n",
      "1360  3729    0:00.7 -348.8440239\n",
      "1380  3881    0:00.7 -335.1286639\n",
      "1400  4161    0:00.8 -321.0887517\n",
      "1420  4357    0:00.8 -308.303328 \n",
      "1440  4676    0:00.8 -298.0496195\n",
      "1460  4938    0:00.9 -286.204331 \n",
      "1480  5349    0:00.9 -273.5838458\n",
      "1500  5721    0:01.0 -261.0044886\n",
      "1520  5953    0:01.0 -245.6661053\n",
      "1540  6284    0:01.0 -230.8627433\n",
      "1560  6551    0:01.0 -219.6419334\n",
      "1580  6783    0:01.1 -212.0685674\n",
      "1600  7053    0:01.1 -200.7581195\n",
      "1620  7429    0:01.1 -189.530011 \n",
      "1640  7775    0:01.2 -183.2691183\n",
      "1660  8248    0:01.2 -175.1778774\n",
      "1680  8723    0:01.3 -167.6934158\n",
      "1700  9127    0:01.3 -157.3194659\n",
      "1720  9820    0:01.4 -148.8695775\n",
      "1740  10363   0:01.4 -141.5996966\n",
      "1760  10984   0:01.5 -136.5513875\n",
      "1780  11694   0:01.5 -131.4276512\n",
      "1800  12149   0:01.5 -124.8588992\n",
      "1820  12883   0:01.6 -119.9077397\n",
      "1840  13587   0:01.7 -116.0910331\n",
      "1860  14350   0:01.7 -112.1837673\n",
      "1880  15284   0:01.8 -108.752121 \n",
      "1900  16216   0:01.9 -103.6848112\n",
      "1920  16955   0:02.0 -98.04440094\n",
      "1940  18167   0:02.1 -93.20070416\n",
      "1960  18808   0:02.2 -88.83498546\n",
      "1980  20445   0:02.3 -85.73268454\n",
      "2000  21816   0:02.4 -82.95123102\n",
      "2020  22880   0:02.5 -78.8426457 \n",
      "2040  23648   0:02.6 -75.32329014\n",
      "2060  24871   0:02.6 -71.77309876\n",
      "2080  26643   0:02.8 -68.14573481\n",
      "2100  27807   0:02.8 -65.58137458\n",
      "2120  29191   0:02.9 -62.94326196\n",
      "2140  30688   0:03.0 -60.65916743\n",
      "2160  32359   0:03.2 -58.28502316\n",
      "2180  34261   0:03.3 -55.13445107\n",
      "2200  36251   0:03.4 -52.82502209\n",
      "2220  38681   0:03.6 -49.66617292\n",
      "2240  40530   0:03.7 -47.36777184\n",
      "2260  41997   0:03.8 -45.49133793\n",
      "2280  43693   0:04.0 -43.46051036\n",
      "2300  47294   0:04.2 -41.52832605\n",
      "2320  50522   0:04.4 -39.25801978\n",
      "2340  52404   0:04.6 -37.3687683 \n",
      "2360  55064   0:04.8 -35.25387381\n",
      "2380  58468   0:05.0 -33.95994021\n",
      "2400  61051   0:05.2 -32.8824635 \n",
      "2420  64350   0:05.4 -31.9061328 \n",
      "2440  67328   0:05.6 -30.53489569\n",
      "2460  70309   0:05.8 -29.12827488\n",
      "2480  73868   0:06.0 -27.98053114\n",
      "2500  78843   0:06.3 -27.02311806\n",
      "2520  82067   0:06.5 -26.04093864\n",
      "2540  86051   0:06.8 -24.9642312 \n",
      "2560  90667   0:07.1 -24.06473873\n",
      "2580  95506   0:07.4 -23.3007111 \n",
      "2600  100762   0:07.8 -22.55855441\n",
      "2620  106723   0:08.1 -21.69507481\n",
      "2640  111429   0:08.4 -20.95841052\n",
      "2660  117533   0:08.8 -20.23313335\n",
      "2680  123915   0:09.2 -19.46837765\n",
      "2700  130796   0:09.7 -18.70891069\n",
      "2720  138448   0:10.2 -17.92604359\n",
      "2740  143744   0:10.5 -17.27198946\n",
      "2760  152769   0:11.2 -16.68377429\n",
      "2780  161551   0:11.8 -16.12006345\n",
      "2800  169325   0:12.2 -15.5413148 \n",
      "2820  177556   0:12.9 -15.00660248\n",
      "2840  194429   0:13.9 -14.50414371\n",
      "2860  208527   0:14.8 -13.98884284\n",
      "2880  227195   0:16.0 -13.54384546\n",
      "2900  236086   0:16.5 -13.12634656\n",
      "2920  246711   0:17.2 -12.72025387\n",
      "2940  260297   0:18.1 -12.31095138\n",
      "2960  268707   0:18.6 -11.89483565\n",
      "2980  283428   0:19.6 -11.46783268\n",
      "3000  298910   0:20.6 -11.03614517\n",
      "3020  313316   0:21.5 -10.64996055\n",
      "3040  323988   0:22.2 -10.30084838\n",
      "3060  343532   0:23.4 -9.974047324\n",
      "3080  363973   0:24.6 -9.656717506\n",
      "3100  377317   0:25.5 -9.372057232\n",
      "3120  399242   0:26.9 -9.090662006\n",
      "3140  424715   0:28.6 -8.81021828 \n",
      "3160  450968   0:30.3 -8.541896022\n",
      "3180  470469   0:31.5 -8.284635981\n",
      "3200  493209   0:32.9 -8.034246653\n",
      "3220  514915   0:34.3 -7.790121301\n",
      "3240  537034   0:35.6 -7.546586571\n",
      "3260  563270   0:37.4 -7.312266184\n",
      "3280  590538   0:39.1 -7.084350623\n",
      "3300  619166   0:40.9 -6.859111446\n",
      "3320  662597   0:43.7 -6.642084494\n",
      "3340  706141   0:46.5 -6.432172663\n",
      "3360  755696   0:50.5 -6.232834431\n",
      "3380  795690   0:52.9 -6.038874007\n",
      "Done!\n"
     ]
    }
   ],
   "source": [
    "# Create an object with links to the model and time series\n",
    "problem = pints.SingleOutputProblem(model, times, observed_values)\n",
    "\n",
    "# Create a log-likelihood function (adds an extra parameter!)\n",
    "log_likelihood = pints.UnknownNoiseLogLikelihood(problem)\n",
    "\n",
    "# Create a uniform prior over both the parameters and the new noise variable\n",
    "log_prior = pints.UniformLogPrior(\n",
    "    [0.01, 400, sigma * 0.5],\n",
    "    [0.02, 600, sigma * 1.5])\n",
    "\n",
    "# Create a nested ellipsoidal rejectection sampler\n",
    "sampler = pints.NestedSampling(log_likelihood, log_prior, method=pints.NestedRejectionSampler)\n",
    "\n",
    "# Set number of iterations\n",
    "sampler.set_iterations(3000)\n",
    "\n",
    "# Set the number of posterior samples to generate\n",
    "sampler.set_n_posterior_samples(500)"
   ]
  },
  {
   "cell_type": "markdown",
   "metadata": {},
   "source": [
    "Run the sampler!"
   ]
  },
  {
   "cell_type": "code",
   "execution_count": 3,
   "metadata": {},
   "outputs": [
    {
     "name": "stdout",
     "output_type": "stream",
     "text": [
      "Running Nested Rejection sampler\n",
      "Number of active points: 400\n",
      "Total number of iterations: 3000\n",
      "Total number of posterior samples: 500\n",
      "Iter. Eval. Time m:s Delta_log(z)\n",
      "0     843217   0:00.0 -5.859927366\n",
      "0     843218   0:00.0 -5.859927366\n",
      "0     843219   0:00.0 -5.859927366\n",
      "0     843220   0:00.0 -5.859927366\n",
      "0     843221   0:00.0 -5.859927366\n",
      "0     843237   0:00.0 -5.859927366\n",
      "0     843257   0:00.0 -5.859927366\n",
      "0     843277   0:00.0 -5.859927366\n",
      "0     843297   0:00.0 -5.859927366\n",
      "0     843317   0:00.0 -5.859927366\n",
      "0     843337   0:00.0 -5.859927366\n",
      "0     843357   0:00.0 -5.859927366\n",
      "0     843377   0:00.0 -5.859927366\n",
      "0     843397   0:00.0 -5.859927366\n",
      "0     843417   0:00.0 -5.859927366\n",
      "0     843437   0:00.0 -5.859927366\n",
      "0     843457   0:00.0 -5.859927366\n",
      "0     843477   0:00.0 -5.859927366\n",
      "0     843497   0:00.0 -5.859927366\n",
      "0     843517   0:00.0 -5.859927366\n",
      "0     843537   0:00.0 -5.859927366\n",
      "0     843557   0:00.0 -5.859927366\n",
      "0     843577   0:00.0 -5.859927366\n",
      "0     843597   0:00.0 -5.859927366\n",
      "400   843616   0:00.0 -5.859927366\n",
      "420   843619   0:00.0 -10938.45653\n",
      "440   843623   0:00.0 -7992.55894 \n",
      "460   843626   0:00.1 -6860.900485\n",
      "480   843627   0:00.1 -5515.031309\n",
      "500   843629   0:00.1 -4709.153959\n",
      "520   843634   0:00.1 -4073.537739\n",
      "540   843646   0:00.1 -3702.779535\n",
      "560   843654   0:00.1 -3390.154046\n",
      "580   843669   0:00.1 -3123.228661\n",
      "600   843680   0:00.1 -2837.681782\n",
      "620   843692   0:00.1 -2644.869368\n",
      "640   843707   0:00.1 -2398.868342\n",
      "660   843722   0:00.1 -2201.202074\n",
      "680   843749   0:00.1 -2100.682918\n",
      "700   843766   0:00.1 -1922.903006\n",
      "720   843804   0:00.1 -1742.918517\n",
      "740   843833   0:00.2 -1636.761695\n",
      "760   843865   0:00.2 -1537.442183\n",
      "780   843898   0:00.2 -1443.366952\n",
      "800   843917   0:00.2 -1379.654511\n",
      "820   843934   0:00.2 -1312.701324\n",
      "840   843954   0:00.2 -1248.809775\n",
      "860   844012   0:00.2 -1191.018464\n",
      "880   844059   0:00.2 -1116.929509\n",
      "900   844092   0:00.2 -1078.04191 \n",
      "920   844152   0:00.3 -1016.8829  \n",
      "940   844206   0:00.3 -961.0117965\n",
      "960   844257   0:00.3 -913.320063 \n",
      "980   844344   0:00.3 -861.4635631\n",
      "1000  844435   0:00.3 -814.4520576\n",
      "1020  844476   0:00.3 -782.3472391\n",
      "1040  844567   0:00.3 -742.5335881\n",
      "1060  844645   0:00.3 -697.2236538\n",
      "1080  844710   0:00.4 -665.8374844\n",
      "1100  844785   0:00.4 -641.6058684\n",
      "1120  844915   0:00.4 -613.7499136\n",
      "1140  845053   0:00.4 -584.0466278\n",
      "1160  845173   0:00.4 -561.5416089\n",
      "1180  845276   0:00.4 -535.2874775\n",
      "1200  845455   0:00.5 -511.5894267\n",
      "1220  845587   0:00.5 -479.6292746\n",
      "1240  845730   0:00.5 -458.5046963\n",
      "1260  845876   0:00.5 -435.3744927\n",
      "1280  845994   0:00.5 -407.6804631\n",
      "1300  846127   0:00.5 -387.852561 \n",
      "1320  846267   0:00.5 -369.0449226\n",
      "1340  846469   0:00.6 -360.0664299\n",
      "1360  846742   0:00.6 -335.9399664\n",
      "1380  846969   0:00.6 -318.5061962\n",
      "1400  847173   0:00.6 -305.1448775\n",
      "1420  847371   0:00.7 -293.0748878\n",
      "1440  847620   0:00.7 -286.2949663\n",
      "1460  847867   0:00.7 -275.5619344\n",
      "1480  848160   0:00.7 -265.5584114\n",
      "1500  848558   0:00.8 -258.9215676\n",
      "1520  848741   0:00.8 -249.058415 \n",
      "1540  849060   0:00.8 -237.6505394\n",
      "1560  849340   0:00.8 -223.8603903\n",
      "1580  849719   0:00.9 -211.8440541\n",
      "1600  850061   0:00.9 -203.2607057\n",
      "1620  850411   0:00.9 -196.4406126\n",
      "1640  850823   0:01.0 -187.5211119\n",
      "1660  851259   0:01.0 -178.2023328\n",
      "1680  851750   0:01.0 -170.5196215\n",
      "1700  852216   0:01.1 -163.9122957\n",
      "1720  852688   0:01.1 -154.5912527\n",
      "1740  853139   0:01.2 -147.5697738\n",
      "1760  853733   0:01.2 -140.9131138\n",
      "1780  854149   0:01.2 -134.2050693\n",
      "1800  855068   0:01.3 -128.25219  \n",
      "1820  855668   0:01.4 -121.2369839\n",
      "1840  856351   0:01.4 -116.6211701\n",
      "1860  856862   0:01.5 -111.7042779\n",
      "1880  857610   0:01.5 -106.1008583\n",
      "1900  858325   0:01.6 -100.4623297\n",
      "1920  858968   0:01.6 -94.94067887\n",
      "1940  859627   0:01.7 -89.6614447 \n",
      "1960  861075   0:01.8 -86.24517444\n",
      "1980  861762   0:01.8 -83.18220065\n",
      "2000  862754   0:01.9 -79.84889323\n",
      "2020  863791   0:02.0 -76.54504669\n",
      "2040  864842   0:02.1 -74.47743333\n",
      "2060  865899   0:02.2 -71.56796259\n",
      "2080  867365   0:02.4 -68.82211003\n",
      "2100  868658   0:02.5 -66.92961729\n",
      "2120  869710   0:02.5 -64.56998769\n",
      "2140  871019   0:02.6 -61.85572528\n",
      "2160  873402   0:02.9 -58.91807115\n",
      "2180  874847   0:03.0 -56.47028073\n",
      "2200  876875   0:03.2 -54.15235743\n",
      "2220  878832   0:03.3 -52.01206917\n",
      "2240  880521   0:03.5 -50.26395755\n",
      "2260  881931   0:03.6 -48.5145108 \n"
     ]
    },
    {
     "ename": "KeyboardInterrupt",
     "evalue": "",
     "output_type": "error",
     "traceback": [
      "\u001b[1;31m---------------------------------------------------------------------------\u001b[0m",
      "\u001b[1;31mKeyboardInterrupt\u001b[0m                         Traceback (most recent call last)",
      "\u001b[1;32m<ipython-input-3-085bafbbba77>\u001b[0m in \u001b[0;36m<module>\u001b[1;34m()\u001b[0m\n\u001b[1;32m----> 1\u001b[1;33m \u001b[0msamples\u001b[0m \u001b[1;33m=\u001b[0m \u001b[0msampler\u001b[0m\u001b[1;33m.\u001b[0m\u001b[0mrun\u001b[0m\u001b[1;33m(\u001b[0m\u001b[1;33m)\u001b[0m\u001b[1;33m\u001b[0m\u001b[0m\n\u001b[0m\u001b[0;32m      2\u001b[0m \u001b[0mprint\u001b[0m\u001b[1;33m(\u001b[0m\u001b[1;34m'Done!'\u001b[0m\u001b[1;33m)\u001b[0m\u001b[1;33m\u001b[0m\u001b[0m\n",
      "\u001b[1;32m~\\Desktop\\pints\\pints\\_nested\\__init__.py\u001b[0m in \u001b[0;36mrun\u001b[1;34m(self)\u001b[0m\n\u001b[0;32m    352\u001b[0m             \u001b[1;31m# samples\u001b[0m\u001b[1;33m\u001b[0m\u001b[1;33m\u001b[0m\u001b[0m\n\u001b[0;32m    353\u001b[0m             \u001b[1;32mwhile\u001b[0m \u001b[0mself\u001b[0m\u001b[1;33m.\u001b[0m\u001b[0m_sampler\u001b[0m\u001b[1;33m.\u001b[0m\u001b[0mtell\u001b[0m\u001b[1;33m(\u001b[0m\u001b[0mlog_likelihood\u001b[0m\u001b[1;33m)\u001b[0m \u001b[1;32mis\u001b[0m \u001b[1;32mNone\u001b[0m\u001b[1;33m:\u001b[0m\u001b[1;33m\u001b[0m\u001b[0m\n\u001b[1;32m--> 354\u001b[1;33m                 \u001b[0mproposed\u001b[0m \u001b[1;33m=\u001b[0m \u001b[0mself\u001b[0m\u001b[1;33m.\u001b[0m\u001b[0m_sampler\u001b[0m\u001b[1;33m.\u001b[0m\u001b[0mask\u001b[0m\u001b[1;33m(\u001b[0m\u001b[1;33m)\u001b[0m\u001b[1;33m\u001b[0m\u001b[0m\n\u001b[0m\u001b[0;32m    355\u001b[0m                 \u001b[0mlog_likelihood\u001b[0m \u001b[1;33m=\u001b[0m \u001b[0mevaluator\u001b[0m\u001b[1;33m.\u001b[0m\u001b[0mevaluate\u001b[0m\u001b[1;33m(\u001b[0m\u001b[1;33m[\u001b[0m\u001b[0mproposed\u001b[0m\u001b[1;33m]\u001b[0m\u001b[1;33m)\u001b[0m\u001b[1;33m[\u001b[0m\u001b[1;36m0\u001b[0m\u001b[1;33m]\u001b[0m\u001b[1;33m\u001b[0m\u001b[0m\n\u001b[0;32m    356\u001b[0m                 \u001b[0mself\u001b[0m\u001b[1;33m.\u001b[0m\u001b[0m_n_evals\u001b[0m \u001b[1;33m+=\u001b[0m \u001b[1;36m1\u001b[0m\u001b[1;33m\u001b[0m\u001b[0m\n",
      "\u001b[1;32m~\\Desktop\\pints\\pints\\_nested\\_rejection.py\u001b[0m in \u001b[0;36mask\u001b[1;34m(self)\u001b[0m\n\u001b[0;32m     38\u001b[0m         \u001b[0mProposes\u001b[0m \u001b[0ma\u001b[0m \u001b[0mnew\u001b[0m \u001b[0mpoint\u001b[0m \u001b[0mby\u001b[0m \u001b[0msampling\u001b[0m \u001b[1;32mfrom\u001b[0m \u001b[0mthe\u001b[0m \u001b[0mprior\u001b[0m\u001b[1;33m\u001b[0m\u001b[0m\n\u001b[0;32m     39\u001b[0m         \"\"\"\n\u001b[1;32m---> 40\u001b[1;33m         \u001b[0mself\u001b[0m\u001b[1;33m.\u001b[0m\u001b[0m_proposed\u001b[0m \u001b[1;33m=\u001b[0m \u001b[0mself\u001b[0m\u001b[1;33m.\u001b[0m\u001b[0m_log_prior\u001b[0m\u001b[1;33m.\u001b[0m\u001b[0msample\u001b[0m\u001b[1;33m(\u001b[0m\u001b[1;33m)\u001b[0m\u001b[1;33m[\u001b[0m\u001b[1;36m0\u001b[0m\u001b[1;33m]\u001b[0m\u001b[1;33m\u001b[0m\u001b[0m\n\u001b[0m\u001b[0;32m     41\u001b[0m         \u001b[1;32mreturn\u001b[0m \u001b[0mself\u001b[0m\u001b[1;33m.\u001b[0m\u001b[0m_proposed\u001b[0m\u001b[1;33m\u001b[0m\u001b[0m\n\u001b[0;32m     42\u001b[0m \u001b[1;33m\u001b[0m\u001b[0m\n",
      "\u001b[1;32m~\\Desktop\\pints\\pints\\_log_priors.py\u001b[0m in \u001b[0;36msample\u001b[1;34m(self, n)\u001b[0m\n\u001b[0;32m    395\u001b[0m     \u001b[1;32mdef\u001b[0m \u001b[0msample\u001b[0m\u001b[1;33m(\u001b[0m\u001b[0mself\u001b[0m\u001b[1;33m,\u001b[0m \u001b[0mn\u001b[0m\u001b[1;33m=\u001b[0m\u001b[1;36m1\u001b[0m\u001b[1;33m)\u001b[0m\u001b[1;33m:\u001b[0m\u001b[1;33m\u001b[0m\u001b[0m\n\u001b[0;32m    396\u001b[0m         \u001b[1;34m\"\"\" See :meth:`LogPrior.sample()`. \"\"\"\u001b[0m\u001b[1;33m\u001b[0m\u001b[0m\n\u001b[1;32m--> 397\u001b[1;33m         \u001b[1;32mreturn\u001b[0m \u001b[0mself\u001b[0m\u001b[1;33m.\u001b[0m\u001b[0m_boundaries\u001b[0m\u001b[1;33m.\u001b[0m\u001b[0msample\u001b[0m\u001b[1;33m(\u001b[0m\u001b[0mn\u001b[0m\u001b[1;33m)\u001b[0m\u001b[1;33m\u001b[0m\u001b[0m\n\u001b[0m\u001b[0;32m    398\u001b[0m \u001b[1;33m\u001b[0m\u001b[0m\n",
      "\u001b[1;32m~\\Desktop\\pints\\pints\\_boundaries.py\u001b[0m in \u001b[0;36msample\u001b[1;34m(self, n)\u001b[0m\n\u001b[0;32m    110\u001b[0m         \u001b[1;34m\"\"\" See :meth:`pints.Boundaries.sample()`. \"\"\"\u001b[0m\u001b[1;33m\u001b[0m\u001b[0m\n\u001b[0;32m    111\u001b[0m         return np.random.uniform(\n\u001b[1;32m--> 112\u001b[1;33m             self._lower, self._upper, size=(n, self._n_parameters))\n\u001b[0m\u001b[0;32m    113\u001b[0m \u001b[1;33m\u001b[0m\u001b[0m\n\u001b[0;32m    114\u001b[0m     \u001b[1;32mdef\u001b[0m \u001b[0mupper\u001b[0m\u001b[1;33m(\u001b[0m\u001b[0mself\u001b[0m\u001b[1;33m)\u001b[0m\u001b[1;33m:\u001b[0m\u001b[1;33m\u001b[0m\u001b[0m\n",
      "\u001b[1;31mKeyboardInterrupt\u001b[0m: "
     ]
    }
   ],
   "source": [
    "samples = sampler.run()\n",
    "print('Done!')"
   ]
  },
  {
   "cell_type": "markdown",
   "metadata": {},
   "source": [
    "## Plot posterior samples versus true parameter values (dashed lines)"
   ]
  },
  {
   "cell_type": "code",
   "execution_count": 4,
   "metadata": {},
   "outputs": [
    {
     "data": {
      "image/png": "[encoded data removed]",
      "text/plain": [
       "<matplotlib.figure.Figure at 0x261d2b36780>"
      ]
     },
     "metadata": {},
     "output_type": "display_data"
    }
   ],
   "source": [
    "# Plot output\n",
    "import pints.plot\n",
    "\n",
    "pints.plot.histogram([samples], ref_parameters=[r, k, sigma])\n",
    "\n",
    "plt.show()"
   ]
  },
  {
   "cell_type": "code",
   "execution_count": null,
   "metadata": {
    "collapsed": true,
    "scrolled": true
   },
   "outputs": [],
   "source": [
    "vTheta = samples[0]\n",
    "pints.plot.pairwise(samples, kde=True)\n",
    "\n",
    "plt.show()"
   ]
  },
  {
   "cell_type": "markdown",
   "metadata": {},
   "source": [
    "## Plot posterior predictive simulations versus the observed data"
   ]
  },
  {
   "cell_type": "code",
   "execution_count": null,
   "metadata": {
    "collapsed": true
   },
   "outputs": [],
   "source": [
    "pints.plot.series(samples[:100], problem)\n",
    "plt.show()"
   ]
  },
  {
   "cell_type": "markdown",
   "metadata": {},
   "source": [
    "## Marginal likelihood estimate"
   ]
  },
  {
   "cell_type": "code",
   "execution_count": null,
   "metadata": {
    "collapsed": true
   },
   "outputs": [],
   "source": [
    "print('marginal log-likelihood = ' + str(sampler.marginal_log_likelihood())\n",
    "      + ' ± ' + str(sampler.marginal_log_likelihood_standard_deviation()))"
   ]
  },
  {
   "cell_type": "markdown",
   "metadata": {},
   "source": [
    "## Examine active and inactive points at end of sampling run"
   ]
  },
  {
   "cell_type": "code",
   "execution_count": null,
   "metadata": {
    "collapsed": true
   },
   "outputs": [],
   "source": [
    "m_active = sampler.active_points()\n",
    "m_inactive = sampler.inactive_points()\n",
    "\n",
    "f, axarr = plt.subplots(1,3,figsize=(15,6))\n",
    "axarr[0].scatter(m_inactive[:,0],m_inactive[:,1])\n",
    "axarr[0].scatter(m_active[:,0],m_active[:,1],alpha=0.1)\n",
    "axarr[0].set_xlim([0.008,0.022])\n",
    "axarr[0].set_xlabel('r')\n",
    "axarr[0].set_ylabel('k')\n",
    "axarr[1].scatter(m_inactive[:,0],m_inactive[:,2])\n",
    "axarr[1].scatter(m_active[:,0],m_active[:,2],alpha=0.1)\n",
    "axarr[1].set_xlim([0.008,0.022])\n",
    "axarr[1].set_xlabel('r')\n",
    "axarr[1].set_ylabel('sigma')\n",
    "axarr[2].scatter(m_inactive[:,1],m_inactive[:,2])\n",
    "axarr[2].scatter(m_active[:,1],m_active[:,2],alpha=0.1)\n",
    "axarr[2].set_xlabel('k')\n",
    "axarr[2].set_ylabel('sigma')\n",
    "plt.show()"
   ]
  },
  {
   "cell_type": "markdown",
   "metadata": {},
   "source": [
    "## Examine log-likelihoods versus proportion of prior space sampled"
   ]
  },
  {
   "cell_type": "code",
   "execution_count": null,
   "metadata": {
    "collapsed": true
   },
   "outputs": [],
   "source": [
    "v_log_likelihood = sampler.log_likelihood_vector()\n",
    "v_log_likelihood = v_log_likelihood[:-sampler.n_active_points()]\n",
    "X = sampler.prior_space()\n",
    "X = X[:-1]\n",
    "plt.plot(X, v_log_likelihood)\n",
    "plt.xlabel('prior volume enclosed by X(L) > L')\n",
    "plt.ylabel('log likelihood')\n",
    "plt.show()"
   ]
  },
  {
   "cell_type": "markdown",
   "metadata": {},
   "source": [
    "## Sample some other posterior samples from recent run"
   ]
  },
  {
   "cell_type": "code",
   "execution_count": null,
   "metadata": {
    "collapsed": true
   },
   "outputs": [],
   "source": [
    "samples_new = sampler.sample_from_posterior(1000)\n",
    "\n",
    "pints.plot.pairwise(samples_new, kde=True)\n",
    "\n",
    "plt.show()"
   ]
  }
 ],
 "metadata": {
  "kernelspec": {
   "display_name": "Python 3",
   "language": "python",
   "name": "python3"
  },
  "language_info": {
   "codemirror_mode": {
    "name": "ipython",
    "version": 3
   },
   "file_extension": ".py",
   "mimetype": "text/x-python",
   "name": "python",
   "nbconvert_exporter": "python",
   "pygments_lexer": "ipython3",
   "version": "3.6.3"
  }
 },
 "nbformat": 4,
 "nbformat_minor": 2
}
