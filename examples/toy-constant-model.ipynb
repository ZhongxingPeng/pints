{
 "cells": [
  {
   "cell_type": "markdown",
   "metadata": {},
   "source": [
    "# Constant model example\n",
    "\n",
    "This model is mainly useful for testing purposes and returns $f(t) = a$ for a user-determined $a$."
   ]
  },
  {
   "cell_type": "code",
   "execution_count": 8,
   "metadata": {},
   "outputs": [
    {
     "data": {
      "image/png": "[encoded data removed]",
      "text/plain": [
       "<matplotlib.figure.Figure at 0x1a0e8395d0>"
      ]
     },
     "metadata": {},
     "output_type": "display_data"
    }
   ],
   "source": [
    "from __future__ import print_function\n",
    "import pints\n",
    "import pints.toy as toy\n",
    "import pints.plot\n",
    "import numpy as np\n",
    "import matplotlib.pyplot as plt\n",
    "# Load a forward model\n",
    "model = toy.ConstantModel()\n",
    "\n",
    "# Create some toy data\n",
    "real_parameters = [1]\n",
    "times = np.linspace(0, 1000, 1000)\n",
    "values_1 = model.simulate([1], times)\n",
    "values_0 = model.simulate([0], times)\n",
    "values_minus_10 = model.simulate([-10], times)\n",
    "\n",
    "# Plot\n",
    "plt.plot(times,values_1,label = 'f(t) = 0')\n",
    "plt.plot(times,values_0,label = 'f(t) = 1')\n",
    "plt.plot(times,values_minus_10,label = 'f(t) = -10')\n",
    "plt.xlabel('Time')\n",
    "plt.ylabel('Values')\n",
    "plt.legend()\n",
    "plt.show()"
   ]
  }
 ],
 "metadata": {
  "kernelspec": {
   "display_name": "Python 2",
   "language": "python",
   "name": "python2"
  },
  "language_info": {
   "codemirror_mode": {
    "name": "ipython",
    "version": 2
   },
   "file_extension": ".py",
   "mimetype": "text/x-python",
   "name": "python",
   "nbconvert_exporter": "python",
   "pygments_lexer": "ipython2",
   "version": "2.7.14"
  }
 },
 "nbformat": 4,
 "nbformat_minor": 2
}
