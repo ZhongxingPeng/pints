{
 "cells": [
  {
   "cell_type": "markdown",
   "metadata": {},
   "source": [
    "# Toy distributions\n",
    "\n",
    "Pints comes with a number of toy [functions](http://pints.readthedocs.io/en/latest/error_measures.html) and [distributions](http://pints.readthedocs.io/en/latest/log_pdfs.html) that can be used in examples or for tests."
   ]
  },
  {
   "cell_type": "markdown",
   "metadata": {},
   "source": [
    "## Rosenbrock pdf\n",
    "\n",
    "This function has a pdf of the form,\n",
    "\n",
    "$ p(x, y) \\propto - \\left( (a - x)^2 + b (y - x^2)^2) \\right), $\n",
    "\n",
    "where by default $a = 1$ and $b = 100$.\n",
    "\n",
    "We now plot this function."
   ]
  },
  {
   "cell_type": "code",
   "execution_count": 2,
   "metadata": {},
   "outputs": [
    {
     "ename": "SyntaxError",
     "evalue": "invalid syntax (_multimodal.py, line 59)",
     "output_type": "error",
     "traceback": [
      "Traceback \u001b[0;36m(most recent call last)\u001b[0m:\n",
      "  File \u001b[1;32m\"/usr/lib/python3.6/site-packages/IPython/core/interactiveshell.py\"\u001b[0m, line \u001b[1;32m2910\u001b[0m, in \u001b[1;35mrun_code\u001b[0m\n    exec(code_obj, self.user_global_ns, self.user_ns)\n",
      "  File \u001b[1;32m\"<ipython-input-2-bb31ca73629f>\"\u001b[0m, line \u001b[1;32m3\u001b[0m, in \u001b[1;35m<module>\u001b[0m\n    import pints.toy\n",
      "\u001b[0;36m  File \u001b[0;32m\"/home/michael/dev/pints/pints/toy/__init__.py\"\u001b[0;36m, line \u001b[0;32m15\u001b[0;36m, in \u001b[0;35m<module>\u001b[0;36m\u001b[0m\n\u001b[0;31m    from ._multimodal import MultimodalNormalLogPDF # noqa\u001b[0m\n",
      "\u001b[0;36m  File \u001b[0;32m\"/home/michael/dev/pints/pints/toy/_multimodal.py\"\u001b[0;36m, line \u001b[0;32m59\u001b[0m\n\u001b[0;31m    self._modes = [pints.vector(mode) for mode in modes)]\u001b[0m\n\u001b[0m                                                       ^\u001b[0m\n\u001b[0;31mSyntaxError\u001b[0m\u001b[0;31m:\u001b[0m invalid syntax\n"
     ]
    }
   ],
   "source": [
    "from __future__ import print_function\n",
    "import pints\n",
    "import pints.toy\n",
    "import numpy as np\n",
    "import matplotlib.pyplot as plt\n",
    "\n",
    "# Import toy Rosebrock pdf\n",
    "log_pdf = pints.toy.RosenbrockLogPDF()\n",
    "\n",
    "# Contour plot of pdf\n",
    "levels = np.linspace(-3, 12, 20)\n",
    "x = np.linspace(-2, 3, 1000)\n",
    "y = np.linspace(-0.5, 3, 1000)\n",
    "X, Y = np.meshgrid(x, y)\n",
    "Z = np.exp(log_pdf([X,Y]))\n",
    "plt.contour(X, Y, Z, levels = levels)\n",
    "plt.xlabel('x')\n",
    "plt.ylabel('y')\n",
    "plt.show()"
   ]
  },
  {
   "cell_type": "markdown",
   "metadata": {},
   "source": [
    "Using adaptive covariance MCMC to sample from this (un-normalised) pdf."
   ]
  },
  {
   "cell_type": "code",
   "execution_count": null,
   "metadata": {},
   "outputs": [],
   "source": [
    "# Create an adaptive covariance MCMC routine\n",
    "x0 = np.random.rand(2)\n",
    "mcmc = pints.AdaptiveCovarianceMCMC(log_pdf, x0)\n",
    "\n",
    "# Aim for an acceptance rate of 0.3\n",
    "mcmc.set_acceptance_rate(0.3)\n",
    "\n",
    "# Use 8000 iterations in total\n",
    "mcmc.set_iterations(8000)\n",
    "\n",
    "# Start adapting after 1000 iterations\n",
    "mcmc.set_non_adaptive_iterations(1000)\n",
    "\n",
    "# Discard the first 2000 iterations as warm-up\n",
    "mcmc.set_warm_up(2000)\n",
    "\n",
    "# Store only every 4th sample\n",
    "mcmc.set_thinning_rate(4)\n",
    "\n",
    "# Disable verbose mode\n",
    "mcmc.set_verbose(False)\n",
    "\n",
    "# Number of chains\n",
    "num_chains = 4\n",
    "\n",
    "# Run!\n",
    "print('Running...')\n",
    "chains = []\n",
    "for i in range(num_chains):\n",
    "    chain = mcmc.run()\n",
    "    chains.append(chain)\n",
    "print('Done!')"
   ]
  },
  {
   "cell_type": "markdown",
   "metadata": {},
   "source": [
    "Scatter plot of the samples."
   ]
  },
  {
   "cell_type": "code",
   "execution_count": null,
   "metadata": {},
   "outputs": [],
   "source": [
    "stacked = np.vstack(chains)\n",
    "plt.contour(X, Y, Z, levels = levels, colors = 'k', alpha = 0.1)\n",
    "plt.scatter(stacked[:,0], stacked[:,1])\n",
    "plt.xlim(-2, 3)\n",
    "plt.ylim(-0.5, 3)\n",
    "plt.xlabel('x')\n",
    "plt.ylabel('y')\n",
    "plt.show()"
   ]
  },
  {
   "cell_type": "markdown",
   "metadata": {},
   "source": [
    "## Bimodal multivariate Gaussian\n",
    "This function has a pdf of the form,\n",
    "\n",
    "$$ p(\\boldsymbol{x}) \\propto \\mathcal{N}\\left(\\boldsymbol{x}\\;\\lvert\\;\\boldsymbol{\\mu}_1, \\boldsymbol{\\Sigma}_1\\right) + \\mathcal{N}\\left(\\boldsymbol{x}\\;\\lvert\\;\\boldsymbol{\\mu}_2, \\boldsymbol{\\Sigma}_2\\right),$$\n",
    "\n",
    "where, by default, $\\boldsymbol{\\mu}_1 = (0,0)$ and $\\boldsymbol{\\mu}_2 = (10,10)$ and $\\boldsymbol{\\Sigma}_1$ and $\\boldsymbol{\\Sigma}_2$ are diagonal correlation matrices.\n",
    "\n",
    "Plotting this pdf,"
   ]
  },
  {
   "cell_type": "code",
   "execution_count": null,
   "metadata": {},
   "outputs": [],
   "source": [
    "# Import toy Rosebrock pdf\n",
    "log_pdf = pints.toy.BimodalMultivariateGaussianLogPDF()\n",
    "\n",
    "# Contour plot of pdf\n",
    "levels = np.linspace(-3,12,20)\n",
    "num_points = 100\n",
    "x = np.linspace(-5, 15, num_points)\n",
    "y = np.linspace(-5, 15, num_points)\n",
    "X, Y = np.meshgrid(x, y)\n",
    "Z = np.zeros(X.shape)\n",
    "for i in range(num_points):\n",
    "    for j in range(num_points):\n",
    "        Z[i, j] = np.exp(log_pdf([X[i, j], Y[i, j]]))\n",
    "plt.contour(X, Y, Z)\n",
    "plt.xlabel('x')\n",
    "plt.ylabel('y')\n",
    "plt.show()"
   ]
  },
  {
   "cell_type": "markdown",
   "metadata": {},
   "source": [
    "Using adaptive covariance MCMC to sample from this (un-normalised) pdf."
   ]
  },
  {
   "cell_type": "code",
   "execution_count": null,
   "metadata": {},
   "outputs": [],
   "source": [
    "# Create an adaptive covariance MCMC routine\n",
    "x0 = np.random.rand(2) + 4.5\n",
    "mcmc = pints.AdaptiveCovarianceMCMC(log_pdf, x0)\n",
    "\n",
    "# Aim for an acceptance rate of 0.3\n",
    "mcmc.set_acceptance_rate(0.3)\n",
    "\n",
    "# Use 8000 iterations in total\n",
    "mcmc.set_iterations(8000)\n",
    "\n",
    "# Start adapting after 1000 iterations\n",
    "mcmc.set_non_adaptive_iterations(1000)\n",
    "\n",
    "# Discard the first 2000 iterations as warm-up\n",
    "mcmc.set_warm_up(2000)\n",
    "\n",
    "# Store only every 4th sample\n",
    "mcmc.set_thinning_rate(4)\n",
    "\n",
    "# Disable verbose mode\n",
    "mcmc.set_verbose(False)\n",
    "\n",
    "# Number of chains\n",
    "num_chains = 4\n",
    "\n",
    "# Run!\n",
    "print('Running...')\n",
    "chains = []\n",
    "for i in range(num_chains):\n",
    "    chain = mcmc.run()\n",
    "    chains.append(chain)\n",
    "print('Done!')"
   ]
  },
  {
   "cell_type": "markdown",
   "metadata": {},
   "source": [
    "Scatter plot of the samples. Adaptive covariance MCMC does ok if we start the chains between the modes."
   ]
  },
  {
   "cell_type": "code",
   "execution_count": null,
   "metadata": {},
   "outputs": [],
   "source": [
    "stacked = np.vstack(chains)\n",
    "plt.contour(X, Y, Z, colors = 'k', alpha = 0.5)\n",
    "plt.scatter(stacked[:,0], stacked[:,1], c = 'b', alpha = 0.1)\n",
    "plt.xlim(-5, 15)\n",
    "plt.ylim(-5, 15)\n",
    "plt.xlabel('x')\n",
    "plt.ylabel('y')\n",
    "plt.show()"
   ]
  },
  {
   "cell_type": "markdown",
   "metadata": {},
   "source": [
    "But if we start the chains at one of the modes, it fails to find the other."
   ]
  },
  {
   "cell_type": "code",
   "execution_count": null,
   "metadata": {},
   "outputs": [],
   "source": [
    "# Create an adaptive covariance MCMC routine\n",
    "x0 = np.random.rand(2)\n",
    "mcmc = pints.AdaptiveCovarianceMCMC(log_pdf, x0)\n",
    "\n",
    "# Aim for an acceptance rate of 0.3\n",
    "mcmc.set_acceptance_rate(0.3)\n",
    "\n",
    "# Use 8000 iterations in total\n",
    "mcmc.set_iterations(8000)\n",
    "\n",
    "# Start adapting after 1000 iterations\n",
    "mcmc.set_non_adaptive_iterations(1000)\n",
    "\n",
    "# Discard the first 2000 iterations as warm-up\n",
    "mcmc.set_warm_up(2000)\n",
    "\n",
    "# Store only every 4th sample\n",
    "mcmc.set_thinning_rate(4)\n",
    "\n",
    "# Disable verbose mode\n",
    "mcmc.set_verbose(False)\n",
    "\n",
    "# Number of chains\n",
    "num_chains = 4\n",
    "\n",
    "# Run!\n",
    "print('Running...')\n",
    "chains = []\n",
    "for i in range(num_chains):\n",
    "    chain = mcmc.run()\n",
    "    chains.append(chain)\n",
    "print('Done!')"
   ]
  },
  {
   "cell_type": "code",
   "execution_count": null,
   "metadata": {},
   "outputs": [],
   "source": [
    "stacked = np.vstack(chains)\n",
    "plt.contour(X, Y, Z, colors = 'k', alpha = 0.5)\n",
    "plt.scatter(stacked[:,0], stacked[:,1], c = 'b', alpha = 0.1)\n",
    "plt.xlim(-5, 15)\n",
    "plt.ylim(-5, 15)\n",
    "plt.xlabel('x')\n",
    "plt.ylabel('y')\n",
    "plt.show()"
   ]
  }
 ],
 "metadata": {
  "kernelspec": {
   "display_name": "Python 3",
   "language": "python",
   "name": "python3"
  },
  "language_info": {
   "codemirror_mode": {
    "name": "ipython",
    "version": 3
   },
   "file_extension": ".py",
   "mimetype": "text/x-python",
   "name": "python",
   "nbconvert_exporter": "python",
   "pygments_lexer": "ipython3",
   "version": "3.6.4"
  }
 },
 "nbformat": 4,
 "nbformat_minor": 2
}
