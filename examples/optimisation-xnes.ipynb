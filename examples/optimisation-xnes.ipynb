{
 "cells": [
  {
   "cell_type": "markdown",
   "metadata": {},
   "source": [
    "# Optimisation: xNES\n",
    "\n",
    "This example shows you how to run a global optimisation with [xNES](http://pints.readthedocs.io/en/latest/optimisers/xnes.html).\n",
    "\n",
    "For a more elaborate example of an optimisation, see: [basic optimisation example](./optimisation-first-example.ipynb)."
   ]
  },
  {
   "cell_type": "code",
   "execution_count": 1,
   "metadata": {},
   "outputs": [
    {
     "name": "stdout",
     "output_type": "stream",
     "text": [
      "Minimising error measure\n",
      "using Exponential Natural Evolution Strategy (xNES)\n",
      "Running in sequential mode.\n",
      "Population size: 6\n",
      "Iter. Eval. Best      Time m:s\n",
      "0     6      2981287    0:03.1\n",
      "1     12     1896115    0:03.1\n",
      "2     18     1388232    0:03.1\n",
      "3     24     1388232    0:03.2\n",
      "20    126    90658.25   0:03.2\n",
      "40    246    88341.68   0:03.2\n",
      "60    366    88323.31   0:03.2\n",
      "80    486    88323.28   0:03.3\n",
      "100   606    88323.28   0:03.3\n",
      "120   726    88323.28   0:03.3\n",
      "140   846    88323.28   0:03.4\n",
      "160   966    88323.28   0:03.4\n",
      "180   1086   88323.28   0:03.4\n",
      "200   1206   88323.28   0:03.5\n",
      "220   1326   88323.28   0:03.5\n",
      "240   1446   88323.28   0:03.5\n",
      "260   1566   88323.28   0:03.6\n",
      "280   1686   88323.28   0:03.6\n",
      "300   1806   88323.28   0:03.6\n",
      "320   1926   88323.28   0:03.7\n",
      "340   2046   88323.28   0:03.7\n",
      "360   2166   88323.28   0:03.7\n",
      "376   2256   88323.28   0:03.7\n",
      "Halting: No significant change for 200 iterations.\n",
      "Score at true solution: \n",
      "88437.2610209\n",
      "Found solution:          True parameters:\n",
      " 1.50124549992241806e-02     1.49999999999999994e-02\n",
      " 4.99526318630128799e+02     5.00000000000000000e+02\n"
     ]
    },
    {
     "data": {
      "image/png": "[encoded data removed]",
      "text/plain": [
       "<matplotlib.figure.Figure at 0x7fe981c378d0>"
      ]
     },
     "metadata": {},
     "output_type": "display_data"
    }
   ],
   "source": [
    "from __future__ import print_function\n",
    "import pints\n",
    "import pints.toy as toy\n",
    "import numpy as np\n",
    "import matplotlib.pyplot as pl\n",
    "\n",
    "# Load a forward model\n",
    "model = toy.LogisticModel()\n",
    "\n",
    "# Create some toy data\n",
    "real_parameters = [0.015, 500]\n",
    "times = np.linspace(0, 1000, 1000)\n",
    "values = model.simulate(real_parameters, times)\n",
    "\n",
    "# Add noise\n",
    "values += np.random.normal(0, 10, values.shape)\n",
    "\n",
    "# Create an object with links to the model and time series\n",
    "problem = pints.SingleSeriesProblem(model, times, values)\n",
    "\n",
    "# Select a score function\n",
    "score = pints.SumOfSquaresError(problem)\n",
    "\n",
    "# Select some boundaries\n",
    "boundaries = pints.Boundaries([0, 400], [0.03, 600])\n",
    "\n",
    "# Perform an optimization with boundaries and hints\n",
    "x0 = 0.011, 400\n",
    "sigma0 = [0.01, 100]\n",
    "found_parameters, found_value = pints.optimise(\n",
    "    score,\n",
    "    x0,\n",
    "    sigma0,\n",
    "    boundaries,\n",
    "    method=pints.XNES,\n",
    "    )\n",
    "\n",
    "# Show score of true solution\n",
    "print('Score at true solution: ')\n",
    "print(score(real_parameters))\n",
    "\n",
    "# Compare parameters with original\n",
    "print('Found solution:          True parameters:' )\n",
    "for k, x in enumerate(found_parameters):\n",
    "    print(pints.strfloat(x) + '    ' + pints.strfloat(real_parameters[k]))\n",
    "\n",
    "# Show quality of fit\n",
    "pl.figure()\n",
    "pl.xlabel('Time')\n",
    "pl.ylabel('Value')\n",
    "pl.plot(times, values, label='Nosiy data')\n",
    "pl.plot(times, problem.evaluate(found_parameters), label='Fit')\n",
    "pl.legend()\n",
    "pl.show()"
   ]
  }
 ],
 "metadata": {
  "kernelspec": {
   "display_name": "Python 2",
   "language": "python",
   "name": "python2"
  },
  "language_info": {
   "codemirror_mode": {
    "name": "ipython",
    "version": 2
   },
   "file_extension": ".py",
   "mimetype": "text/x-python",
   "name": "python",
   "nbconvert_exporter": "python",
   "pygments_lexer": "ipython2",
   "version": "2.7.14"
  }
 },
 "nbformat": 4,
 "nbformat_minor": 2
}
