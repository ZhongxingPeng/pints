{
 "cells": [
  {
   "cell_type": "markdown",
   "metadata": {},
   "source": [
    "# Optimisation: PSO\n",
    "\n",
    "This example shows you how to run a global optimisation with [PSO (particle swarm optimisation)](http://pints.readthedocs.io/en/latest/optimisers/pso.html).\n",
    "\n",
    "For a more elaborate example of an optimisation, see: https://github.com/martinjrobins/pints/blob/master/examples/optimisation-first-example.ipynb"
   ]
  },
  {
   "cell_type": "code",
   "execution_count": 2,
   "metadata": {},
   "outputs": [
    {
     "name": "stdout",
     "output_type": "stream",
     "text": [
      "Minimising error measure\n",
      "using Particle Swarm Optimisation (PSO)\n",
      "Running in sequential mode.\n",
      "Population size: 6\n",
      "Iter. Eval. Best      Time m:s\n",
      "0     6      4.91e+07   0:00.0\n",
      "1     12     3.57e+07   0:00.0\n",
      "2     18     3.57e+07   0:00.0\n",
      "3     24     2.01e+07   0:00.0\n",
      "20    126    3488476    0:00.0\n",
      "40    246    1065775    0:00.0\n",
      "60    366    201465.9   0:00.0\n",
      "80    486    142436.4   0:00.1\n",
      "100   606    142436.4   0:00.1\n",
      "120   726    142436.4   0:00.1\n",
      "140   846    142436.4   0:00.1\n",
      "160   966    142436.4   0:00.1\n",
      "180   1086   142436.4   0:00.1\n",
      "200   1206   142436.4   0:00.1\n",
      "220   1326   142436.4   0:00.2\n",
      "240   1446   142436.4   0:00.2\n",
      "260   1566   136691.4   0:00.2\n",
      "280   1686   132121.1   0:00.2\n",
      "300   1806   109799.3   0:00.2\n",
      "320   1926   109799.3   0:00.2\n",
      "340   2046   109799.3   0:00.3\n",
      "360   2166   109799.3   0:00.3\n",
      "380   2286   105261     0:00.3\n",
      "400   2406   105261     0:00.3\n",
      "420   2526   105261     0:00.3\n",
      "440   2646   105261     0:00.3\n",
      "460   2766   105261     0:00.3\n",
      "480   2886   105261     0:00.4\n",
      "500   3006   98225.7    0:00.4\n",
      "520   3126   98225.7    0:00.4\n",
      "540   3246   98225.7    0:00.4\n",
      "560   3366   98225.7    0:00.4\n",
      "580   3486   98225.7    0:00.4\n",
      "600   3606   98225.7    0:00.5\n",
      "620   3726   98225.7    0:00.5\n",
      "640   3846   98225.7    0:00.5\n",
      "660   3966   98225.7    0:00.5\n",
      "680   4086   98225.7    0:00.5\n",
      "696   4176   98225.7    0:00.5\n",
      "Halting: No significant change for 200 iterations.\n",
      "Score at true solution: \n",
      "96217.3454816\n",
      "Found solution:          True parameters:\n",
      " 1.50666082969753232e-02     1.49999999999999994e-02\n",
      " 4.99978726263196847e+02     5.00000000000000000e+02\n"
     ]
    },
    {
     "data": {
      "image/png": "[encoded data removed]",
      "text/plain": [
       "<matplotlib.figure.Figure at 0x7f2709188d68>"
      ]
     },
     "metadata": {},
     "output_type": "display_data"
    }
   ],
   "source": [
    "from __future__ import print_function\n",
    "import pints\n",
    "import pints.toy as toy\n",
    "import numpy as np\n",
    "import matplotlib.pyplot as pl\n",
    "\n",
    "# Load a forward model\n",
    "model = toy.LogisticModel()\n",
    "\n",
    "# Create some toy data\n",
    "real_parameters = [0.015, 500]\n",
    "times = np.linspace(0, 1000, 1000)\n",
    "values = model.simulate(real_parameters, times)\n",
    "\n",
    "# Add noise\n",
    "values += np.random.normal(0, 10, values.shape)\n",
    "\n",
    "# Create an object with links to the model and time series\n",
    "problem = pints.SingleSeriesProblem(model, times, values)\n",
    "\n",
    "# Select a score function\n",
    "score = pints.SumOfSquaresError(problem)\n",
    "\n",
    "# Select some boundaries\n",
    "boundaries = pints.Boundaries([0, 200], [1, 1000])\n",
    "\n",
    "# Perform an optimization with boundaries and hints\n",
    "x0 = [0, 700]\n",
    "found_parameters, found_value = pints.optimise(\n",
    "    score,\n",
    "    x0,\n",
    "    boundaries=boundaries,\n",
    "    method=pints.PSO,\n",
    "    )\n",
    "\n",
    "# Show score of true solution\n",
    "print('Score at true solution: ')\n",
    "print(score(real_parameters))\n",
    "\n",
    "# Compare parameters with original\n",
    "print('Found solution:          True parameters:' )\n",
    "for k, x in enumerate(found_parameters):\n",
    "    print(pints.strfloat(x) + '    ' + pints.strfloat(real_parameters[k]))\n",
    "\n",
    "# Show quality of fit\n",
    "pl.figure()\n",
    "pl.xlabel('Time')\n",
    "pl.ylabel('Value')\n",
    "pl.plot(times, values, label='Nosiy data')\n",
    "pl.plot(times, problem.evaluate(found_parameters), label='Fit')\n",
    "pl.legend()\n",
    "pl.show()"
   ]
  }
 ],
 "metadata": {
  "kernelspec": {
   "display_name": "Python 2",
   "language": "python",
   "name": "python2"
  },
  "language_info": {
   "codemirror_mode": {
    "name": "ipython",
    "version": 3
   },
   "file_extension": ".py",
   "mimetype": "text/x-python",
   "name": "python",
   "nbconvert_exporter": "python",
   "pygments_lexer": "ipython3",
   "version": "3.6.4"
  }
 },
 "nbformat": 4,
 "nbformat_minor": 2
}
