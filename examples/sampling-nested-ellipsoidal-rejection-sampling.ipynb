{
 "cells": [
  {
   "cell_type": "markdown",
   "metadata": {},
   "source": [
    "# Ellipsoidal nested rejection sampling\n",
    "\n",
    "This example demonstrates how to use ellipsoidal nested rejection sampling [1] to sample from the posterior distribution for a logistic model fitted to model-simulated data. For a tutorial on nested sampling, see: [INSERT LINK to NESTED SAMPLING TUTORIAL NOTEBOOK].\n",
    "\n",
    "[1] \"A nested sampling algorithm for cosmological model selection\", Pia Mukherjee, David Parkinson and Andrew R. Liddle, [arXiv:astro-ph/0508461v2](https://arxiv.org/abs/astro-ph/0508461)."
   ]
  },
  {
   "cell_type": "markdown",
   "metadata": {},
   "source": [
    "First create fake data."
   ]
  },
  {
   "cell_type": "code",
   "execution_count": 1,
   "metadata": {},
   "outputs": [
    {
     "data": {
      "image/png": "[encoded data removed]",
      "text/plain": [
       "<matplotlib.figure.Figure at 0x1f9a6657668>"
      ]
     },
     "metadata": {},
     "output_type": "display_data"
    }
   ],
   "source": [
    "import os\n",
    "os.chdir('../')\n",
    "from __future__ import print_function\n",
    "import pints\n",
    "import pints.toy as toy\n",
    "import numpy as np\n",
    "import matplotlib.pyplot as plt\n",
    "\n",
    "# Load a forward model\n",
    "model = toy.LogisticModel()\n",
    "\n",
    "# Create some toy data\n",
    "r = 0.015\n",
    "k = 500\n",
    "real_parameters = [r, k]\n",
    "times = np.linspace(0, 1000, 100)\n",
    "signal_values = model.simulate(real_parameters, times)\n",
    "\n",
    "# Add independent Gaussian noise\n",
    "sigma = 10\n",
    "observed_values = signal_values + pints.noise.independent(sigma, signal_values.shape)\n",
    "\n",
    "# Plot\n",
    "plt.plot(times,signal_values,label = 'signal')\n",
    "plt.plot(times,observed_values,label = 'observed')\n",
    "plt.xlabel('Time')\n",
    "plt.ylabel('Values')\n",
    "plt.legend()\n",
    "plt.show()"
   ]
  },
  {
   "cell_type": "markdown",
   "metadata": {},
   "source": [
    "Create the nested sampler that will be used to sample from the posterior."
   ]
  },
  {
   "cell_type": "code",
   "execution_count": 2,
   "metadata": {
    "collapsed": true
   },
   "outputs": [],
   "source": [
    "# Create an object with links to the model and time series\n",
    "problem = pints.SingleOutputProblem(model, times, observed_values)\n",
    "\n",
    "# Create a log-likelihood function (adds an extra parameter!)\n",
    "log_likelihood = pints.UnknownNoiseLogLikelihood(problem)\n",
    "\n",
    "# Create a uniform prior over both the parameters and the new noise variable\n",
    "log_prior = pints.UniformLogPrior(\n",
    "    [0.01, 400, sigma * 0.5],\n",
    "    [0.02, 600, sigma * 1.5])\n",
    "\n",
    "# Create a nested ellipsoidal rejectection sampler\n",
    "sampler = pints.NestedSampling(log_likelihood, log_prior)\n",
    "\n",
    "# Set number of iterations\n",
    "sampler.set_iterations(8000)\n",
    "\n",
    "# Set the number of posterior samples to generate\n",
    "sampler.set_n_posterior_samples(1600)"
   ]
  },
  {
   "cell_type": "markdown",
   "metadata": {},
   "source": [
    "Run the sampler!"
   ]
  },
  {
   "cell_type": "code",
   "execution_count": 3,
   "metadata": {},
   "outputs": [
    {
     "name": "stdout",
     "output_type": "stream",
     "text": [
      "Running Nested Ellipsoidal Rejection sampler\n",
      "Number of active points: 400\n",
      "Total number of iterations: 8000\n",
      "Total number of posterior samples: 1600\n",
      "Iter. Eval. Time m:s Delta_log(z)\n",
      "0     1       0:00.0 -inf        \n",
      "0     2       0:00.0 -inf        \n",
      "0     3       0:00.0 -inf        \n",
      "0     4       0:00.0 -inf        \n",
      "0     5       0:00.0 -inf        \n",
      "0     21      0:00.0 -inf        \n",
      "0     41      0:00.0 -inf        \n",
      "0     61      0:00.0 -inf        \n",
      "0     81      0:00.0 -inf        \n",
      "0     101     0:00.0 -inf        \n",
      "0     121     0:00.0 -inf        \n",
      "0     141     0:00.0 -inf        \n",
      "0     161     0:00.0 -inf        \n",
      "0     181     0:00.0 -inf        \n",
      "0     201     0:00.0 -inf        \n",
      "0     221     0:00.0 -inf        \n",
      "0     241     0:00.0 -inf        \n",
      "0     261     0:00.0 -inf        \n",
      "0     281     0:00.0 -inf        \n",
      "0     301     0:00.0 -inf        \n",
      "0     321     0:00.0 -inf        \n",
      "0     341     0:00.0 -inf        \n",
      "0     361     0:00.0 -inf        \n",
      "0     381     0:00.0 -inf        \n",
      "400   400     0:00.0 -inf        \n",
      "420   400     0:00.0 -12170.92828\n",
      "440   403     0:00.0 -8170.10278 \n",
      "460   407     0:00.1 -6632.996795\n",
      "480   411     0:00.1 -5824.092183\n",
      "500   416     0:00.1 -5054.395955\n",
      "520   421     0:00.1 -4514.351401\n",
      "540   426     0:00.1 -4045.894728\n",
      "560   439     0:00.1 -3568.080694\n",
      "580   456     0:00.1 -3247.879179\n",
      "600   462     0:00.1 -3014.483149\n",
      "620   471     0:00.1 -2823.363905\n",
      "640   484     0:00.2 -2594.358509\n",
      "660   503     0:00.2 -2403.968161\n",
      "680   520     0:00.2 -2270.898933\n",
      "700   544     0:00.2 -2093.680101\n",
      "720   564     0:00.2 -1965.199594\n",
      "740   582     0:00.3 -1852.833522\n",
      "760   601     0:00.3 -1723.45227 \n",
      "780   628     0:00.3 -1615.384314\n",
      "800   664     0:00.3 -1490.789604\n",
      "820   707     0:00.3 -1355.588235\n",
      "840   740     0:00.3 -1296.664404\n",
      "860   764     0:00.4 -1223.832287\n",
      "880   792     0:00.4 -1165.003002\n",
      "900   831     0:00.4 -1114.960159\n",
      "920   860     0:00.4 -1053.767972\n",
      "940   889     0:00.4 -993.2737465\n"
     ]
    },
    {
     "name": "stderr",
     "output_type": "stream",
     "text": [
      "C:\\Users\\bclamber\\Desktop\\pints\\pints\\_log_likelihoods.py:154: RuntimeWarning: invalid value encountered in log\n",
      "  - np.sum(error**2, axis=0) / (2 * sigma**2))\n"
     ]
    },
    {
     "name": "stdout",
     "output_type": "stream",
     "text": [
      "960   919     0:00.5 -940.8874627\n",
      "980   944     0:00.5 -883.6949716\n",
      "1000  983     0:00.5 -814.8592773\n",
      "1020  1013    0:00.5 -778.8347787\n",
      "1040  1034    0:00.6 -724.8278425\n",
      "1060  1058    0:00.6 -687.6022152\n",
      "1080  1098    0:00.6 -655.874992 \n",
      "1100  1115    0:00.6 -630.2137725\n",
      "1120  1137    0:00.7 -603.6784959\n",
      "1140  1164    0:00.7 -571.8298693\n",
      "1160  1177    0:00.7 -543.6709176\n",
      "1180  1222    0:00.7 -520.6280585\n",
      "1200  1257    0:00.7 -496.6284147\n",
      "1220  1284    0:00.8 -476.8531175\n",
      "1240  1312    0:00.8 -449.7651512\n",
      "1260  1337    0:00.8 -426.6639484\n",
      "1280  1370    0:00.8 -404.5843061\n",
      "1300  1398    0:00.9 -376.0593782\n",
      "1320  1420    0:00.9 -359.8536013\n",
      "1340  1439    0:00.9 -343.8584738\n",
      "1360  1468    0:00.9 -326.6156755\n",
      "1380  1489    0:01.0 -313.3251444\n",
      "1400  1515    0:01.0 -298.8803993\n",
      "1420  1544    0:01.0 -284.525793 \n",
      "1440  1571    0:01.0 -263.6700153\n",
      "1460  1602    0:01.0 -248.3182736\n",
      "1480  1638    0:01.1 -238.6435723\n",
      "1500  1660    0:01.1 -224.0063617\n",
      "1520  1684    0:01.1 -216.8633896\n",
      "1540  1711    0:01.1 -208.1440107\n",
      "1560  1747    0:01.2 -202.1295021\n",
      "1580  1774    0:01.2 -195.6915115\n",
      "1600  1807    0:01.2 -189.4458621\n",
      "1620  1843    0:01.2 -185.5198066\n",
      "1640  1885    0:01.3 -180.934021 \n",
      "1660  1924    0:01.3 -177.044882 \n",
      "1680  1966    0:01.3 -173.500656 \n",
      "1700  2020    0:01.3 -170.2079671\n",
      "1720  2063    0:01.4 -167.3741838\n",
      "1740  2107    0:01.4 -163.8469087\n",
      "1760  2142    0:01.4 -160.8840096\n",
      "1780  2168    0:01.5 -157.3860832\n",
      "1800  2209    0:01.5 -154.9407715\n",
      "1820  2236    0:01.5 -152.2643887\n",
      "1840  2252    0:01.5 -149.8491685\n",
      "1860  2287    0:01.6 -147.999609 \n",
      "1880  2321    0:01.6 -145.8521135\n",
      "1900  2343    0:01.6 -144.1936965\n",
      "1920  2373    0:01.6 -142.619613 \n",
      "1940  2394    0:01.7 -140.5520838\n",
      "1960  2420    0:01.7 -137.9717826\n",
      "1980  2442    0:01.7 -136.0508628\n",
      "2000  2471    0:01.7 -133.4833327\n",
      "2020  2489    0:01.7 -131.6038291\n",
      "2040  2504    0:01.8 -128.8084333\n",
      "2060  2523    0:01.8 -126.8991211\n",
      "2080  2546    0:01.8 -124.5433634\n",
      "2100  2571    0:01.8 -122.8915524\n",
      "2120  2587    0:01.8 -121.3393068\n",
      "2140  2600    0:01.9 -119.4241759\n",
      "2160  2608    0:01.9 -117.7636195\n",
      "2180  2626    0:01.9 -116.1280683\n",
      "2200  2637    0:01.9 -114.6285594\n",
      "2220  2657    0:01.9 -113.3664081\n",
      "2240  2674    0:02.0 -111.919659 \n",
      "2260  2685    0:02.0 -110.2679344\n",
      "2280  2693    0:02.0 -108.6568828\n",
      "2300  2706    0:02.0 -107.065058 \n",
      "2320  2718    0:02.0 -105.350472 \n",
      "2340  2730    0:02.0 -103.8533361\n",
      "2360  2746    0:02.1 -101.8240401\n",
      "2380  2755    0:02.1 -100.2826352\n",
      "2400  2764    0:02.1 -99.67210352\n",
      "2420  2770    0:02.1 -98.28599306\n",
      "2440  2783    0:02.1 -96.96630521\n",
      "2460  2791    0:02.1 -94.79246641\n",
      "2480  2801    0:02.1 -93.15360964\n",
      "2500  2824    0:02.1 -91.8192439 \n",
      "2520  2833    0:02.2 -90.51320119\n",
      "2540  2845    0:02.2 -89.33882671\n",
      "2560  2858    0:02.2 -88.17595226\n",
      "2580  2868    0:02.2 -87.02419573\n",
      "2600  2884    0:02.2 -85.9035352 \n",
      "2620  2893    0:02.2 -84.63500449\n",
      "2640  2907    0:02.3 -83.46014092\n",
      "2660  2922    0:02.3 -82.04655618\n",
      "2680  2929    0:02.3 -80.74011916\n",
      "2700  2941    0:02.3 -79.43178904\n",
      "2720  2953    0:02.3 -78.11395769\n",
      "2740  2968    0:02.3 -76.74668282\n",
      "2760  2973    0:02.4 -75.35574695\n",
      "2780  2997    0:02.4 -73.74911499\n",
      "2800  3001    0:02.4 -72.3995612 \n",
      "2820  3014    0:02.4 -71.30734261\n",
      "2840  3024    0:02.4 -70.04798731\n",
      "2860  3036    0:02.4 -68.45646435\n",
      "2880  3043    0:02.5 -67.08308315\n",
      "2900  3055    0:02.5 -65.84827005\n",
      "2920  3065    0:02.5 -64.64002872\n",
      "2940  3077    0:02.5 -63.64423167\n",
      "2960  3083    0:02.5 -62.47676565\n",
      "2980  3097    0:02.6 -61.03165208\n",
      "3000  3114    0:02.6 -59.56110065\n",
      "3020  3121    0:02.6 -58.25811597\n",
      "3040  3125    0:02.6 -57.01869746\n",
      "3060  3137    0:02.6 -55.73235507\n",
      "3080  3145    0:02.6 -54.50604739\n",
      "3100  3151    0:02.7 -53.52690501\n",
      "3120  3161    0:02.7 -52.31375501\n",
      "3140  3173    0:02.7 -51.18927452\n",
      "3160  3188    0:02.7 -50.1594906 \n",
      "3180  3197    0:02.7 -50.16020221\n",
      "3200  3210    0:02.8 -48.96802184\n",
      "3220  3219    0:02.8 -47.97440777\n",
      "3240  3226    0:02.8 -47.15162022\n",
      "3260  3235    0:02.8 -46.25472644\n",
      "3280  3242    0:02.8 -45.13631531\n",
      "3300  3253    0:02.8 -44.20130352\n",
      "3320  3264    0:02.8 -43.16790421\n",
      "3340  3271    0:02.9 -42.31277635\n",
      "3360  3281    0:02.9 -41.44670262\n",
      "3380  3292    0:02.9 -40.60588788\n",
      "3400  3301    0:02.9 -39.7339526 \n",
      "3420  3316    0:02.9 -38.87046715\n",
      "3440  3322    0:02.9 -38.09936416\n",
      "3460  3337    0:03.0 -37.25184368\n",
      "3480  3350    0:03.0 -36.34121583\n",
      "3500  3356    0:03.0 -35.42955881\n",
      "3520  3377    0:03.0 -34.58287231\n",
      "3540  3385    0:03.0 -33.91642135\n",
      "3560  3393    0:03.0 -33.12693124\n",
      "3580  3396    0:03.1 -32.35151881\n",
      "3600  3410    0:03.1 -32.01585   \n",
      "3620  3420    0:03.1 -31.1215014 \n",
      "3640  3442    0:03.1 -30.60084401\n",
      "3660  3454    0:03.1 -29.88232496\n",
      "3680  3462    0:03.1 -29.27475993\n",
      "3700  3463    0:03.2 -28.53819377\n",
      "3720  3479    0:03.2 -27.79116879\n",
      "3740  3485    0:03.2 -26.97989991\n",
      "3760  3492    0:03.2 -26.1438555 \n",
      "3780  3504    0:03.2 -25.5254158 \n",
      "3800  3517    0:03.2 -24.9148933 \n",
      "3820  3525    0:03.2 -24.3743992 \n",
      "3840  3535    0:03.3 -23.71957627\n",
      "3860  3544    0:03.3 -23.09629263\n",
      "3880  3548    0:03.3 -22.57564673\n",
      "3900  3565    0:03.3 -22.02488961\n",
      "3920  3582    0:03.3 -21.44363138\n",
      "3940  3591    0:03.3 -20.87726482\n",
      "3960  3599    0:03.4 -20.35493499\n",
      "3980  3606    0:03.4 -19.87311985\n",
      "4000  3621    0:03.4 -19.36764074\n",
      "4020  3632    0:03.4 -18.92544606\n",
      "4040  3645    0:03.4 -18.78840267\n",
      "4060  3658    0:03.4 -18.30908139\n",
      "4080  3667    0:03.5 -17.86653623\n",
      "4100  3688    0:03.5 -17.39243664\n",
      "4120  3693    0:03.5 -16.94345351\n",
      "4140  3699    0:03.5 -16.51382508\n",
      "4160  3715    0:03.5 -16.1115131 \n",
      "4180  3723    0:03.5 -15.72938246\n",
      "4200  3734    0:03.6 -15.36493346\n",
      "4220  3735    0:03.6 -14.99996053\n",
      "4240  3749    0:03.6 -14.63942518\n",
      "4260  3753    0:03.6 -14.28888647\n",
      "4280  3758    0:03.6 -13.94127292\n",
      "4300  3759    0:03.6 -13.58464499\n",
      "4320  3765    0:03.7 -13.23135402\n",
      "4340  3772    0:03.7 -12.89219322\n",
      "4360  3778    0:03.7 -12.5309515 \n",
      "4380  3802    0:03.7 -12.17392961\n",
      "4400  3812    0:03.7 -11.83876243\n",
      "4420  3822    0:03.8 -11.50557959\n",
      "4440  3826    0:03.8 -11.17598536\n",
      "4460  3832    0:03.8 -10.84600199\n",
      "4480  3843    0:03.8 -10.53581223\n",
      "4500  3851    0:03.8 -10.21737865\n",
      "4520  3858    0:03.8 -9.89846172 \n",
      "4540  3866    0:03.9 -9.606881802\n",
      "4560  3872    0:03.9 -9.316039738\n",
      "4580  3882    0:03.9 -9.033035964\n",
      "4600  3890    0:03.9 -8.755802144\n",
      "4620  3908    0:03.9 -8.486549446\n",
      "4640  3922    0:04.0 -8.233997013\n",
      "4660  3942    0:04.0 -7.984564902\n",
      "4680  3951    0:04.0 -7.750578651\n",
      "4700  3972    0:04.0 -7.53257285 \n",
      "4720  3987    0:04.0 -7.314299927\n",
      "4740  4003    0:04.1 -7.100333924\n",
      "4760  4018    0:04.1 -6.884759543\n",
      "4780  4031    0:04.1 -6.674758676\n",
      "4800  4045    0:04.1 -6.602559421\n",
      "4820  4055    0:04.1 -6.397561895\n",
      "4840  4074    0:04.2 -6.190399369\n",
      "4860  4081    0:04.2 -5.990512011\n",
      "4880  4096    0:04.2 -5.795813197\n",
      "4900  4107    0:04.2 -5.601718399\n",
      "4920  4117    0:04.2 -5.41541845 \n",
      "4940  4134    0:04.3 -5.236936888\n",
      "4960  4144    0:04.3 -5.066407925\n",
      "4980  4156    0:04.3 -4.89982701 \n",
      "5000  4168    0:04.3 -4.735040355\n",
      "5020  4174    0:04.3 -4.573314094\n",
      "5040  4179    0:04.3 -4.413205674\n",
      "5060  4192    0:04.4 -4.256938622\n",
      "5080  4206    0:04.4 -4.104751396\n",
      "5100  4212    0:04.4 -3.959567112\n",
      "5120  4218    0:04.4 -3.818722863\n",
      "5140  4228    0:04.4 -3.681575681\n",
      "5160  4236    0:04.4 -3.546632653\n",
      "5180  4241    0:04.5 -3.414288135\n",
      "5200  4252    0:04.5 -3.28633403 \n",
      "5220  4260    0:04.5 -3.169493059\n",
      "5240  4273    0:04.5 -3.049464179\n",
      "5260  4279    0:04.5 -2.933178534\n",
      "5280  4281    0:04.5 -2.820044704\n",
      "5300  4289    0:04.5 -2.708293398\n",
      "5320  4299    0:04.6 -2.598087012\n",
      "5340  4310    0:04.6 -2.490469093\n",
      "5360  4315    0:04.6 -2.386623362\n",
      "5380  4323    0:04.6 -2.290564488\n",
      "5400  4333    0:04.6 -2.194718634\n",
      "5420  4341    0:04.7 -2.102338343\n",
      "5440  4347    0:04.7 -2.013146951\n",
      "5460  4361    0:04.7 -1.927533468\n",
      "5480  4371    0:04.7 -1.84588162 \n",
      "5500  4381    0:04.7 -1.767047747\n",
      "5520  4386    0:04.8 -1.690339591\n",
      "5540  4391    0:04.8 -1.616540084\n",
      "5560  4403    0:04.8 -1.545480289\n",
      "5580  4417    0:04.8 -1.477131286\n",
      "5600  4421    0:04.8 -1.410903171\n",
      "5620  4430    0:04.9 -1.34685444 \n",
      "5640  4433    0:04.9 -1.285560657\n",
      "5660  4441    0:04.9 -1.226691914\n",
      "5680  4453    0:04.9 -1.169840964\n",
      "5700  4463    0:04.9 -1.115186672\n",
      "5720  4470    0:05.0 -1.062512698\n",
      "5740  4473    0:05.0 -1.012079872\n",
      "5760  4479    0:05.0 -0.963805   \n",
      "5780  4484    0:05.0 -0.91768205 \n"
     ]
    },
    {
     "name": "stdout",
     "output_type": "stream",
     "text": [
      "5800  4496    0:05.0 -0.873626   \n",
      "5820  4503    0:05.1 -0.83144    \n",
      "5840  4511    0:05.1 -0.791157   \n",
      "5860  4518    0:05.1 -0.752677   \n",
      "5880  4529    0:05.1 -0.715887   \n",
      "5900  4542    0:05.1 -0.680733   \n",
      "5920  4554    0:05.2 -0.647156   \n",
      "5940  4566    0:05.2 -0.615114519\n",
      "5960  4577    0:05.2 -0.58457    \n",
      "5980  4583    0:05.2 -0.555439   \n",
      "6000  4600    0:05.2 -0.527605   \n",
      "6020  4603    0:05.3 -0.50109    \n",
      "Convergence obtained with Delta_z = -0.499797379189\n",
      "Done!\n"
     ]
    }
   ],
   "source": [
    "samples = sampler.run()\n",
    "print('Done!')"
   ]
  },
  {
   "cell_type": "markdown",
   "metadata": {},
   "source": [
    "## Plot posterior samples versus true parameter values (dashed lines)"
   ]
  },
  {
   "cell_type": "code",
   "execution_count": 4,
   "metadata": {},
   "outputs": [
    {
     "data": {
      "image/png": "[encoded data removed]",
      "text/plain": [
       "<matplotlib.figure.Figure at 0x1f9a5522a58>"
      ]
     },
     "metadata": {},
     "output_type": "display_data"
    }
   ],
   "source": [
    "# Plot output\n",
    "import pints.plot\n",
    "\n",
    "pints.plot.histogram([samples], ref_parameters=[r, k, sigma])\n",
    "\n",
    "plt.show()"
   ]
  },
  {
   "cell_type": "markdown",
   "metadata": {},
   "source": [
    "## Plot posterior predictive simulations versus the observed data"
   ]
  },
  {
   "cell_type": "code",
   "execution_count": 5,
   "metadata": {},
   "outputs": [
    {
     "data": {
      "image/png": "[encoded data removed]",
      "text/plain": [
       "<matplotlib.figure.Figure at 0x1f9a9b88f28>"
      ]
     },
     "metadata": {},
     "output_type": "display_data"
    }
   ],
   "source": [
    "pints.plot.series(samples[:100], problem)\n",
    "plt.show()"
   ]
  },
  {
   "cell_type": "markdown",
   "metadata": {},
   "source": [
    "## Marginal likelihood estimate"
   ]
  },
  {
   "cell_type": "code",
   "execution_count": 6,
   "metadata": {},
   "outputs": [
    {
     "name": "stdout",
     "output_type": "stream",
     "text": [
      "marginal log-likelihood = -390.946564329 ± 0.0807329245902\n"
     ]
    }
   ],
   "source": [
    "print('marginal log-likelihood = ' + str(sampler.marginal_log_likelihood())\n",
    "      + ' ± ' + str(sampler.marginal_log_likelihood_standard_deviation()))"
   ]
  },
  {
   "cell_type": "markdown",
   "metadata": {},
   "source": [
    "## Effective sample size"
   ]
  },
  {
   "cell_type": "code",
   "execution_count": 7,
   "metadata": {},
   "outputs": [
    {
     "name": "stdout",
     "output_type": "stream",
     "text": [
      "effective sample size = 1587.48459658\n"
     ]
    }
   ],
   "source": [
    "print('effective sample size = ' + str(sampler.effective_sample_size()))"
   ]
  }
 ],
 "metadata": {
  "kernelspec": {
   "display_name": "Python 3",
   "language": "python",
   "name": "python3"
  },
  "language_info": {
   "codemirror_mode": {
    "name": "ipython",
    "version": 3
   },
   "file_extension": ".py",
   "mimetype": "text/x-python",
   "name": "python",
   "nbconvert_exporter": "python",
   "pygments_lexer": "ipython3",
   "version": "3.6.3"
  }
 },
 "nbformat": 4,
 "nbformat_minor": 2
}
