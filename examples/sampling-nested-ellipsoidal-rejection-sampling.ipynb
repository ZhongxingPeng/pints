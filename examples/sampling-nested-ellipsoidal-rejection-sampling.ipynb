{
 "cells": [
  {
   "cell_type": "markdown",
   "metadata": {},
   "source": [
    "# Ellipsoidal nested rejection sampling\n",
    "\n",
    "This example demonstrates how to use ellipsoidal nested rejection sampling [1] to sample from the posterior distribution for a logistic model fitted to model-simulated data. For a tutorial on nested sampling, see: [INSERT LINK to NESTED SAMPLING TUTORIAL NOTEBOOK].\n",
    "\n",
    "[1] \"A nested sampling algorithm for cosmological model selection\", Pia Mukherjee, David Parkinson and Andrew R. Liddle, [arXiv:astro-ph/0508461v2](https://arxiv.org/abs/astro-ph/0508461)."
   ]
  },
  {
   "cell_type": "markdown",
   "metadata": {},
   "source": [
    "First create fake data."
   ]
  },
  {
   "cell_type": "code",
   "execution_count": 1,
   "metadata": {},
   "outputs": [
    {
     "data": {
      "image/png": "[encoded data removed]",
      "text/plain": [
       "<matplotlib.figure.Figure at 0x1a12e163d0>"
      ]
     },
     "metadata": {},
     "output_type": "display_data"
    }
   ],
   "source": [
    "import os\n",
    "os.chdir('../')\n",
    "from __future__ import print_function\n",
    "import pints\n",
    "import pints.toy as toy\n",
    "import numpy as np\n",
    "import matplotlib.pyplot as plt\n",
    "\n",
    "# Load a forward model\n",
    "model = toy.LogisticModel()\n",
    "\n",
    "# Create some toy data\n",
    "r = 0.015\n",
    "k = 500\n",
    "real_parameters = [r, k]\n",
    "times = np.linspace(0, 1000, 100)\n",
    "signal_values = model.simulate(real_parameters, times)\n",
    "\n",
    "# Add independent Gaussian noise\n",
    "sigma = 10\n",
    "observed_values = signal_values + pints.noise.independent(sigma, signal_values.shape)\n",
    "\n",
    "# Plot\n",
    "plt.plot(times,signal_values,label = 'signal')\n",
    "plt.plot(times,observed_values,label = 'observed')\n",
    "plt.xlabel('Time')\n",
    "plt.ylabel('Values')\n",
    "plt.legend()\n",
    "plt.show()"
   ]
  },
  {
   "cell_type": "markdown",
   "metadata": {},
   "source": [
    "Create the nested sampler that will be used to sample from the posterior."
   ]
  },
  {
   "cell_type": "code",
   "execution_count": 2,
   "metadata": {
    "collapsed": true
   },
   "outputs": [],
   "source": [
    "# Create an object with links to the model and time series\n",
    "problem = pints.SingleOutputProblem(model, times, observed_values)\n",
    "\n",
    "# Create a log-likelihood function (adds an extra parameter!)\n",
    "log_likelihood = pints.UnknownNoiseLogLikelihood(problem)\n",
    "\n",
    "# Create a uniform prior over both the parameters and the new noise variable\n",
    "log_prior = pints.UniformLogPrior(\n",
    "    [0.01, 400, sigma * 0.5],\n",
    "    [0.02, 600, sigma * 1.5])\n",
    "\n",
    "# Create a nested ellipsoidal rejectection sampler\n",
    "sampler = pints.NestedSampling(log_likelihood, log_prior)\n",
    "\n",
    "# Set dynamic enlargement factor\n",
    "sampler._sampler.set_dynamic_enlargement_factor(True)\n",
    "\n",
    "# Set sampler marginal likelihood threshold\n",
    "sampler.set_marginal_log_likelihood_threshold(0.005)\n",
    "\n",
    "# Set number of iterations\n",
    "sampler.set_iterations(8000)\n",
    "\n",
    "# Set the number of posterior samples to generate\n",
    "sampler.set_n_posterior_samples(1600)"
   ]
  },
  {
   "cell_type": "markdown",
   "metadata": {},
   "source": [
    "Run the sampler!"
   ]
  },
  {
   "cell_type": "code",
   "execution_count": 3,
   "metadata": {},
   "outputs": [
    {
     "name": "stdout",
     "output_type": "stream",
     "text": [
      "Running Nested Ellipsoidal Rejection sampler\n",
      "Number of active points: 400\n",
      "Total number of iterations: 8000\n",
      "Total number of posterior samples: 1600\n",
      "Iter. Eval. Time m:s Delta_log(z) Acceptance rate\n",
      "0     1       0:00.0 -inf          1             \n",
      "0     2       0:00.0 -inf          1             \n",
      "0     3       0:00.0 -inf          1             \n",
      "0     4       0:00.0 -inf          1             \n",
      "0     5       0:00.0 -inf          1             \n",
      "0     21      0:00.0 -inf          1             \n",
      "0     41      0:00.0 -inf          1             \n",
      "0     61      0:00.0 -inf          1             \n",
      "0     81      0:00.0 -inf          1             \n",
      "0     101     0:00.0 -inf          1             \n",
      "0     121     0:00.0 -inf          1             \n",
      "0     141     0:00.0 -inf          1             \n",
      "0     161     0:00.0 -inf          1             \n",
      "0     181     0:00.0 -inf          1             \n",
      "0     201     0:00.0 -inf          1             \n",
      "0     221     0:00.0 -inf          1             \n",
      "0     241     0:00.0 -inf          1             \n",
      "0     261     0:00.0 -inf          1             \n",
      "0     281     0:00.0 -inf          1             \n",
      "0     301     0:00.0 -inf          1             \n",
      "0     321     0:00.0 -inf          1             \n",
      "0     341     0:00.0 -inf          1             \n",
      "0     361     0:00.1 -inf          1             \n",
      "0     381     0:00.1 -inf          1             \n",
      "400   400     0:00.1 -inf          1             \n",
      "420   400     0:00.1 -10436.96098  1             \n",
      "440   400     0:00.1 -7828.28916   1             \n",
      "460   407     0:00.1 -6297.967615  0.897058824   \n",
      "480   409     0:00.1 -5364.263589  0.9           \n",
      "500   413     0:00.1 -4882.284298  0.885964912   \n",
      "520   416     0:00.1 -4179.963618  0.883211679   \n",
      "540   426     0:00.1 -3732.680836  0.844311377   \n",
      "560   433     0:00.1 -3352.214056  0.829896907   \n",
      "580   438     0:00.2 -3053.637484  0.826484018   \n",
      "600   444     0:00.2 -2719.372423  0.820408163   \n",
      "620   466     0:00.2 -2517.122005  0.770034843   \n",
      "640   476     0:00.2 -2227.189122  0.760252366   \n",
      "660   493     0:00.2 -2086.629687  0.737288136   \n",
      "680   510     0:00.3 -1965.02936   0.718670077   \n",
      "700   524     0:00.3 -1854.165319  0.708235294   \n",
      "720   543     0:00.3 -1739.175735  0.691810345   \n",
      "740   561     0:00.3 -1630.915776  0.679282869   \n",
      "760   586     0:00.4 -1550.20136   0.659963437   \n",
      "780   606     0:00.4 -1456.137829  0.649063032368\n",
      "800   627     0:00.4 -1362.808173  0.638535032   \n",
      "820   644     0:00.4 -1271.221498  0.633082707   \n",
      "840   663     0:00.5 -1182.016769  0.626420455   \n",
      "860   688     0:00.5 -1131.195309  0.615487316   \n",
      "880   721     0:00.5 -1079.020203  0.599750623   \n",
      "900   747     0:00.5 -1024.034165  0.590801887   \n",
      "920   770     0:00.6 -983.7406486  0.584736251   \n",
      "940   790     0:00.6 -932.5184935  0.581095596   \n",
      "960   807     0:00.6 -871.5790099  0.579545455   \n",
      "980   830     0:00.6 -839.3891297  0.574678536   \n",
      "1000  845     0:00.7 -816.0756818  0.574569789675\n",
      "1020  861     0:00.7 -788.1722776  0.573937153   \n",
      "1040  892     0:00.7 -747.5882849  0.565754634   \n",
      "1060  931     0:00.8 -701.6575381  0.554530201   \n",
      "1080  974     0:00.8 -672.9343004  0.542629482   \n",
      "1100  1003    0:00.8 -641.4136673  0.537576687   \n",
      "1120  1036    0:00.9 -605.4223734  0.531319086   \n",
      "1140  1069    0:00.9 -583.378995   0.525531915   \n",
      "1160  1093    0:00.9 -553.639064   0.523383769   \n",
      "1180  1120    0:00.9 -531.8340564  0.520319787   \n",
      "1200  1153    0:01.0 -501.6021227  0.515444015444\n",
      "1220  1175    0:01.0 -485.8043247  0.514411028   \n",
      "1240  1191    0:01.0 -463.3301297  0.515318627451\n",
      "1260  1217    0:01.1 -436.0966068  0.513110846   \n",
      "1280  1238    0:01.1 -405.4567511  0.512507272   \n",
      "1300  1256    0:01.1 -388.4088649  0.512805919   \n",
      "1320  1276    0:01.1 -364.1392098  0.512520868   \n",
      "1340  1291    0:01.2 -338.7098095  0.513646288   \n",
      "1360  1316    0:01.2 -317.9557804  0.511987214   \n",
      "1380  1346    0:01.2 -309.1458066  0.509081474   \n",
      "1400  1382    0:01.2 -282.5222402  0.504790721   \n",
      "1420  1401    0:01.3 -265.3328248  0.504945598   \n",
      "1440  1420    0:01.3 -254.8885823  0.505094614   \n",
      "1460  1450    0:01.3 -244.8853816  0.5026054     \n",
      "1480  1479    0:01.3 -233.9755509  0.500462962963\n",
      "1500  1503    0:01.4 -220.1777297  0.499546279   \n",
      "1520  1528    0:01.4 -206.4383833  0.498443752779\n",
      "1540  1544    0:01.4 -196.6014029  0.499343545   \n",
      "1560  1577    0:01.4 -191.3962645  0.496578272   \n",
      "1580  1597    0:01.5 -183.3168591  0.496635828   \n",
      "1600  1630    0:01.5 -176.4289349  0.494035376   \n",
      "1620  1646    0:01.5 -169.7431777  0.494933117   \n"
     ]
    },
    {
     "name": "stderr",
     "output_type": "stream",
     "text": [
      "pints/_log_likelihoods.py:155: RuntimeWarning: invalid value encountered in log\n",
      "  - np.sum(error**2, axis=0) / (2 * sigma**2))\n"
     ]
    },
    {
     "name": "stdout",
     "output_type": "stream",
     "text": [
      "1640  1662    0:01.5 -159.5291597  0.495805034   \n",
      "1660  1693    0:01.6 -154.0751398  0.493735317   \n",
      "1680  1707    0:01.6 -149.1894339  0.494976816   \n",
      "1700  1735    0:01.6 -143.323682   0.493550835   \n",
      "1720  1743    0:01.6 -137.8188171  0.495870871   \n",
      "1740  1758    0:01.7 -132.8851141  0.496850685   \n",
      "1760  1776    0:01.7 -129.0027683  0.497259773   \n",
      "1780  1823    0:01.7 -123.3557768  0.492510699   \n",
      "1800  1843    0:01.8 -119.6770623  0.492616034   \n",
      "1820  1860    0:01.8 -116.3505662  0.493231517   \n",
      "1840  1872    0:01.8 -112.4863849  0.494679025   \n",
      "1860  1898    0:01.8 -109.103526   0.493747888   \n",
      "1880  1923    0:01.9 -105.7880171  0.493009321   \n",
      "1900  1946    0:01.9 -103.1928497  0.492615688   \n",
      "1920  1958    0:01.9 -100.5269592  0.493991556   \n",
      "1940  1977    0:01.9 -98.52036016  0.494227069   \n",
      "1960  1989    0:01.9 -96.94894496  0.495555556   \n",
      "1980  2001    0:02.0 -95.23957915  0.496857322   \n",
      "2000  2015    0:02.0 -93.60992479  0.497823383   \n",
      "2020  2025    0:02.0 -92.00681273  0.499383857   \n",
      "2040  2030    0:02.0 -93.73858413  0.501681443   \n",
      "2060  2038    0:02.0 -92.19581287  0.503485905   \n",
      "2080  2045    0:02.1 -90.81589323  0.505411906   \n",
      "2100  2051    0:02.1 -89.68789324  0.507458234   \n",
      "2120  2062    0:02.1 -87.8226349   0.508720070943\n",
      "2140  2067    0:02.1 -86.07547836  0.510856808   \n",
      "2160  2077    0:02.1 -83.98487109  0.512216405   \n",
      "2180  2091    0:02.2 -82.40848993  0.512960829   \n",
      "2200  2110    0:02.2 -80.86107738  0.512959270863\n",
      "2220  2114    0:02.2 -78.75804875  0.515134371   \n",
      "2240  2122    0:02.2 -77.05743421  0.516699410609\n",
      "2260  2128    0:02.3 -75.57645353  0.518528838   \n",
      "2280  2141    0:02.3 -73.92123515  0.519326339   \n",
      "2300  2160    0:02.3 -72.22541242  0.519257034   \n",
      "2320  2169    0:02.3 -70.78840953  0.520596206   \n",
      "2340  2175    0:02.3 -69.49118735  0.522335845   \n",
      "2360  2184    0:02.4 -68.31934493  0.523631509   \n",
      "2380  2196    0:02.4 -68.19870494  0.524490336   \n",
      "2400  2210    0:02.4 -68.13036439  0.52505904    \n",
      "2420  2226    0:02.4 -66.81050755  0.525344424   \n",
      "2440  2233    0:02.5 -65.85994797  0.526845638   \n",
      "2460  2240    0:02.5 -64.62111669  0.52832607    \n",
      "2480  2250    0:02.5 -63.2820275   0.529381837   \n",
      "2500  2266    0:02.5 -61.99161241  0.52961936    \n",
      "2520  2269    0:02.5 -60.83768044  0.531578947   \n",
      "2540  2273    0:02.6 -59.65953299  0.533383159   \n",
      "2560  2279    0:02.6 -58.54091312  0.534900990099\n",
      "2580  2284    0:02.6 -57.3540829   0.536531365   \n",
      "2600  2294    0:02.6 -55.55874992  0.537484737   \n",
      "2620  2297    0:02.6 -54.27915233  0.539339485187\n",
      "2640  2300    0:02.7 -53.17722002  0.54117363    \n",
      "2660  2310    0:02.7 -51.9533071   0.542076241   \n",
      "2680  2313    0:02.7 -50.92041289  0.543872198   \n",
      "2700  2321    0:02.7 -50.05942136  0.545002369   \n",
      "2720  2325    0:02.7 -49.14603349  0.546632124   \n",
      "2740  2328    0:02.8 -48.21312164  0.548371984   \n",
      "2760  2336    0:02.8 -48.08014416  0.549453107   \n",
      "2780  2341    0:02.8 -47.07759328  0.55090236    \n",
      "2800  2352    0:02.8 -46.2199757   0.551573627   \n",
      "2820  2354    0:02.8 -45.34819551  0.553371429   \n",
      "2840  2355    0:02.9 -44.19598695  0.555277525   \n",
      "2860  2358    0:02.9 -44.87559585  0.556913329   \n",
      "2880  2365    0:02.9 -43.87267051  0.55802969    \n",
      "2900  2374    0:02.9 -42.92649911  0.558882682   \n",
      "2920  2375    0:02.9 -42.03389803  0.560720641   \n",
      "2940  2378    0:03.0 -41.02508291  0.562292543   \n",
      "2960  2385    0:03.0 -39.96865987  0.563352398   \n",
      "2980  2391    0:03.0 -38.96280434  0.564523185   \n",
      "3000  2405    0:03.0 -38.06143576  0.56469822    \n",
      "3020  2413    0:03.1 -37.23993331  0.565602072   \n",
      "3040  2415    0:03.1 -36.43998936  0.567225086   \n",
      "3060  2417    0:03.1 -36.14695198  0.568832835   \n",
      "3080  2422    0:03.1 -35.46719669  0.570061663   \n",
      "3100  2427    0:03.1 -34.78730523  0.571277496   \n",
      "3120  2430    0:03.1 -34.02278896  0.572721532309\n",
      "3140  2433    0:03.2 -33.28588043  0.574151655   \n",
      "3160  2437    0:03.2 -32.48586433  0.575448103   \n",
      "3180  2445    0:03.2 -31.70440026  0.576253626   \n",
      "3200  2450    0:03.2 -30.94554755  0.57740672    \n",
      "3220  2455    0:03.3 -30.19930977  0.57854799    \n",
      "3240  2459    0:03.3 -29.36274103  0.579795918   \n",
      "3260  2471    0:03.3 -28.63052188  0.580089213   \n",
      "3280  2473    0:03.3 -27.92133069  0.581550262   \n",
      "3300  2484    0:03.3 -27.11590865  0.581945838   \n",
      "3320  2490    0:03.4 -26.39860963  0.582917581   \n",
      "3340  2502    0:03.4 -25.71962981  0.583184612   \n",
      "3360  2512    0:03.4 -25.02607342  0.583678297   \n",
      "3380  2528    0:03.4 -24.26167103  0.583480133   \n",
      "3400  2533    0:03.5 -23.59232667  0.584534476   \n",
      "3420  2536    0:03.5 -22.95029235  0.585805701   \n",
      "3440  2542    0:03.5 -22.36728057  0.586725834   \n",
      "3460  2552    0:03.5 -21.81304025  0.587185881   \n",
      "3480  2571    0:03.5 -21.28730478  0.586633663   \n",
      "3500  2584    0:03.6 -20.7921228   0.586754967   \n",
      "3520  2587    0:03.6 -20.25660564  0.587980407   \n",
      "3540  2598    0:03.6 -19.71338398  0.588312418   \n",
      "3560  2604    0:03.6 -19.19628406  0.589189189   \n",
      "3580  2618    0:03.6 -18.67830182  0.589183182   \n",
      "3600  2630    0:03.7 -18.2263013   0.589394218376\n",
      "3620  2633    0:03.7 -17.71718106  0.590575724   \n",
      "3640  2642    0:03.7 -17.24848435  0.591099763   \n",
      "3660  2645    0:03.7 -16.81293293  0.592262986   \n",
      "3680  2648    0:03.8 -16.40806419  0.593416531   \n",
      "3700  2658    0:03.8 -15.95461375  0.593811837   \n",
      "3720  2661    0:03.8 -16.02638611  0.594948047   \n",
      "3740  2670    0:03.8 -15.58144704  0.595437533   \n",
      "3760  2677    0:03.8 -15.17115968  0.596133381   \n",
      "3780  2680    0:03.9 -14.75942574  0.597244303   \n",
      "3800  2682    0:03.9 -14.3577112   0.598451522   \n",
      "3820  2684    0:03.9 -13.97672896  0.59964943    \n",
      "3840  2688    0:03.9 -13.60502514  0.600628382   \n",
      "3860  2694    0:03.9 -13.24400112  0.601390096   \n",
      "3880  2700    0:04.0 -12.90112751  0.602144958   \n",
      "3900  2704    0:04.0 -12.57379063  0.603100775   \n",
      "3920  2709    0:04.0 -12.25918118  0.603945111   \n",
      "3940  2720    0:04.0 -11.95478508  0.604163112   \n",
      "3960  2722    0:04.0 -11.64993896  0.605303417   \n",
      "3980  2733    0:04.1 -11.34926298  0.605512344   \n",
      "4000  2745    0:04.1 -11.04691626  0.605617222   \n",
      "4020  2755    0:04.1 -10.7433093   0.605923695   \n",
      "4040  2771    0:04.1 -10.44747402  0.605622089155\n",
      "4060  2780    0:04.2 -10.16325528  0.606025492   \n",
      "4080  2790    0:04.2 -9.874000224  0.606325152   \n",
      "4100  2800    0:04.2 -9.577028187  0.606621865268\n",
      "4120  2811    0:04.2 -9.286747377  0.606816699   \n",
      "4140  2813    0:04.3 -8.986405354  0.607897303   \n",
      "4160  2819    0:04.3 -8.694489896  0.608576052   \n",
      "4180  2832    0:04.3 -8.407371182  0.608562691   \n",
      "4200  2855    0:04.3 -8.135782595  0.607576726   \n",
      "4220  2860    0:04.3 -7.872002989  0.608342621   \n",
      "4240  2863    0:04.4 -7.624232747  0.609295685   \n",
      "4260  2868    0:04.4 -7.373730012  0.610048981   \n",
      "4280  2870    0:04.4 -7.149604623  0.611084869   \n",
      "4300  2875    0:04.4 -6.918451977  0.611825596   \n",
      "4320  2878    0:04.5 -6.693938635  0.612751992   \n",
      "4340  2882    0:04.5 -6.482123913  0.61357621    \n",
      "4360  2884    0:04.5 -6.301489278  0.61458495    \n",
      "4380  2886    0:04.5 -6.101126518  0.615586825   \n",
      "4400  2896    0:04.5 -5.907095627  0.615822687   \n",
      "4420  2899    0:04.6 -5.719547254  0.616717791411\n",
      "4440  2905    0:04.6 -5.534907962  0.617323556   \n",
      "4460  2908    0:04.6 -5.354802146  0.618206729   \n",
      "4480  2911    0:04.6 -5.182319885  0.619083738   \n",
      "4500  2915    0:04.6 -5.010269802  0.619860943   \n",
      "4520  2917    0:04.7 -4.842146534  0.620819523953\n",
      "4540  2927    0:04.7 -4.676223631  0.621025794841\n",
      "4560  2935    0:04.7 -4.512928639  0.621415771   \n",
      "4580  2941    0:04.7 -4.352184996  0.621987504   \n",
      "4600  2952    0:04.7 -4.196977917  0.622093884   \n",
      "4620  2962    0:04.8 -4.042463801  0.622291022   \n",
      "4640  2968    0:04.8 -3.889608631  0.622852108   \n",
      "4660  2976    0:04.8 -3.740643002  0.623226561   \n",
      "4680  2982    0:04.8 -3.596256285  0.623779688183\n",
      "4700  2997    0:04.9 -3.455547059  0.623514062047\n",
      "4720  3005    0:04.9 -3.322014083  0.623881028   \n",
      "4740  3013    0:04.9 -3.207648983  0.624245039   \n",
      "4760  3017    0:04.9 -3.08108688   0.624964173   \n",
      "4780  3035    0:05.0 -2.956097805  0.624429875   \n",
      "4800  3042    0:05.0 -2.83698879   0.624875763   \n",
      "4820  3044    0:05.0 -2.72187056   0.625760793   \n",
      "4840  3047    0:05.0 -2.610534013  0.626551919   \n",
      "4860  3051    0:05.0 -2.503017398  0.627249719   \n",
      "4880  3066    0:05.1 -2.397813957  0.626976354   \n",
      "4900  3078    0:05.1 -2.296115505  0.626967544   \n",
      "4920  3085    0:05.1 -2.198022372  0.627393838   \n",
      "4940  3087    0:05.1 -2.103010008  0.628251245   \n",
      "4960  3096    0:05.2 -2.011336071  0.628496624   \n",
      "4980  3107    0:05.2 -1.923590678  0.628567508   \n"
     ]
    },
    {
     "name": "stdout",
     "output_type": "stream",
     "text": [
      "5000  3121    0:05.2 -1.839459643  0.628380224   \n",
      "5020  3123    0:05.2 -1.75850197   0.629221133   \n",
      "5040  3126    0:05.3 -1.711816917  0.629971495   \n",
      "5060  3136    0:05.3 -1.635609205  0.630120319   \n",
      "5080  3143    0:05.3 -1.562253446  0.630522629   \n",
      "5100  3152    0:05.3 -1.494340001  0.630752717   \n",
      "5120  3156    0:05.3 -1.425557148  0.631402969   \n",
      "5140  3166    0:05.4 -1.359154351  0.631543892   \n",
      "5160  3172    0:05.4 -1.295414759  0.632019116   \n",
      "5180  3180    0:05.4 -1.234394243  0.632323767   \n",
      "5200  3182    0:05.4 -1.175617671  0.633126731   \n",
      "5220  3186    0:05.5 -1.119091788  0.63375838    \n",
      "5240  3197    0:05.5 -1.064995409  0.633804660906\n",
      "5260  3205    0:05.5 -1.013158666  0.634098617   \n",
      "5280  3210    0:05.5 -0.963494     0.634637888441\n",
      "5300  3221    0:05.5 -0.916085     0.634680135   \n",
      "5320  3225    0:05.6 -0.870676     0.635295636   \n",
      "5340  3233    0:05.6 -0.827355     0.635580139   \n",
      "5360  3240    0:05.6 -0.785954     0.63594411    \n",
      "5380  3244    0:05.6 -0.746456     0.636549521   \n",
      "5400  3253    0:05.7 -0.708855     0.636745607   \n",
      "5420  3256    0:05.7 -0.673016     0.637425416   \n",
      "5440  3257    0:05.7 -0.640897231  0.638262851   \n",
      "5460  3261    0:05.7 -0.608433     0.638853825   \n",
      "5480  3267    0:05.7 -0.577576     0.639280322   \n",
      "5500  3274    0:05.8 -0.548265     0.639623824   \n",
      "5520  3279    0:05.8 -0.520387     0.640125      \n",
      "Convergence obtained with Delta_z = -0.499097795891\n",
      "Done!\n"
     ]
    }
   ],
   "source": [
    "samples = sampler.run()\n",
    "print('Done!')"
   ]
  },
  {
   "cell_type": "markdown",
   "metadata": {},
   "source": [
    "## Plot posterior samples versus true parameter values (dashed lines)"
   ]
  },
  {
   "cell_type": "code",
   "execution_count": 4,
   "metadata": {},
   "outputs": [
    {
     "data": {
      "image/png": "[encoded data removed]",
      "text/plain": [
       "<matplotlib.figure.Figure at 0x1a1a36e9d0>"
      ]
     },
     "metadata": {},
     "output_type": "display_data"
    }
   ],
   "source": [
    "# Plot output\n",
    "import pints.plot\n",
    "\n",
    "pints.plot.histogram([samples], ref_parameters=[r, k, sigma])\n",
    "\n",
    "plt.show()"
   ]
  },
  {
   "cell_type": "markdown",
   "metadata": {},
   "source": [
    "## Plot posterior predictive simulations versus the observed data"
   ]
  },
  {
   "cell_type": "code",
   "execution_count": 5,
   "metadata": {},
   "outputs": [
    {
     "data": {
      "image/png": "[encoded data removed]",
      "text/plain": [
       "<matplotlib.figure.Figure at 0x1a1a7ed890>"
      ]
     },
     "metadata": {},
     "output_type": "display_data"
    }
   ],
   "source": [
    "pints.plot.series(samples[:100], problem)\n",
    "plt.show()"
   ]
  },
  {
   "cell_type": "markdown",
   "metadata": {},
   "source": [
    "## Marginal likelihood estimate"
   ]
  },
  {
   "cell_type": "code",
   "execution_count": 6,
   "metadata": {},
   "outputs": [
    {
     "name": "stdout",
     "output_type": "stream",
     "text": [
      "marginal log-likelihood = -377.714955759 ± 0.0793391932221\n"
     ]
    }
   ],
   "source": [
    "print('marginal log-likelihood = ' + str(sampler.marginal_log_likelihood())\n",
    "      + ' ± ' + str(sampler.marginal_log_likelihood_standard_deviation()))"
   ]
  },
  {
   "cell_type": "markdown",
   "metadata": {},
   "source": [
    "## Effective sample size"
   ]
  },
  {
   "cell_type": "code",
   "execution_count": 7,
   "metadata": {},
   "outputs": [
    {
     "name": "stdout",
     "output_type": "stream",
     "text": [
      "effective sample size = 1554.98393632\n"
     ]
    }
   ],
   "source": [
    "print('effective sample size = ' + str(sampler.effective_sample_size()))"
   ]
  }
 ],
 "metadata": {
  "kernelspec": {
   "display_name": "Python 2",
   "language": "python",
   "name": "python2"
  },
  "language_info": {
   "codemirror_mode": {
    "name": "ipython",
    "version": 2
   },
   "file_extension": ".py",
   "mimetype": "text/x-python",
   "name": "python",
   "nbconvert_exporter": "python",
   "pygments_lexer": "ipython2",
   "version": "2.7.14"
  }
 },
 "nbformat": 4,
 "nbformat_minor": 2
}
