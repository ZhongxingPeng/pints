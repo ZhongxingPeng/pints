{
 "cells": [
  {
   "cell_type": "markdown",
   "metadata": {},
   "source": [
    "# Ellipsoidal nested rejection sampling\n",
    "\n",
    "This example demonstrates how to use ellipsoidal nested rejection sampling [1] to sample from the posterior distribution for a logistic model fitted to model-simulated data. For a tutorial on nested sampling, see: [INSERT LINK to NESTED SAMPLING TUTORIAL NOTEBOOK].\n",
    "\n",
    "[1] \"A nested sampling algorithm for cosmological model selection\", Pia Mukherjee, David Parkinson and Andrew R. Liddle, [arXiv:astro-ph/0508461v2](https://arxiv.org/abs/astro-ph/0508461)."
   ]
  },
  {
   "cell_type": "markdown",
   "metadata": {},
   "source": [
    "First create fake data."
   ]
  },
  {
   "cell_type": "code",
   "execution_count": 1,
   "metadata": {},
   "outputs": [
    {
     "data": {
      "image/png": "[encoded data removed]",
      "text/plain": [
       "<matplotlib.figure.Figure at 0x19617435748>"
      ]
     },
     "metadata": {},
     "output_type": "display_data"
    }
   ],
   "source": [
    "import os\n",
    "os.chdir('../')\n",
    "from __future__ import print_function\n",
    "import pints\n",
    "import pints.toy as toy\n",
    "import numpy as np\n",
    "import matplotlib.pyplot as plt\n",
    "\n",
    "# Load a forward model\n",
    "model = toy.LogisticModel()\n",
    "\n",
    "# Create some toy data\n",
    "r = 0.015\n",
    "k = 500\n",
    "real_parameters = [r, k]\n",
    "times = np.linspace(0, 1000, 100)\n",
    "signal_values = model.simulate(real_parameters, times)\n",
    "\n",
    "# Add independent Gaussian noise\n",
    "sigma = 10\n",
    "observed_values = signal_values + pints.noise.independent(sigma, signal_values.shape)\n",
    "\n",
    "# Plot\n",
    "plt.plot(times,signal_values,label = 'signal')\n",
    "plt.plot(times,observed_values,label = 'observed')\n",
    "plt.xlabel('Time')\n",
    "plt.ylabel('Values')\n",
    "plt.legend()\n",
    "plt.show()"
   ]
  },
  {
   "cell_type": "markdown",
   "metadata": {},
   "source": [
    "Create the nested sampler that will be used to sample from the posterior."
   ]
  },
  {
   "cell_type": "code",
   "execution_count": 2,
   "metadata": {},
   "outputs": [],
   "source": [
    "# Create an object with links to the model and time series\n",
    "problem = pints.SingleOutputProblem(model, times, observed_values)\n",
    "\n",
    "# Create a log-likelihood function (adds an extra parameter!)\n",
    "log_likelihood = pints.UnknownNoiseLogLikelihood(problem)\n",
    "\n",
    "# Create a uniform prior over both the parameters and the new noise variable\n",
    "log_prior = pints.UniformLogPrior(\n",
    "    [0.01, 400, sigma * 0.5],\n",
    "    [0.02, 600, sigma * 1.5])\n",
    "\n",
    "# Create a nested ellipsoidal rejectection sampler\n",
    "sampler = pints.NestedSampling(log_likelihood, log_prior)\n",
    "\n",
    "# Set number of iterations\n",
    "sampler.set_iterations(8000)\n",
    "\n",
    "# Set the number of posterior samples to generate\n",
    "sampler.set_n_posterior_samples(1600)"
   ]
  },
  {
   "cell_type": "markdown",
   "metadata": {},
   "source": [
    "Run the sampler!"
   ]
  },
  {
   "cell_type": "code",
   "execution_count": 3,
   "metadata": {},
   "outputs": [
    {
     "name": "stdout",
     "output_type": "stream",
     "text": [
      "Running Nested Ellipsoidal Rejection sampler\n",
      "Number of active points: 400\n",
      "Total number of iterations: 8000\n",
      "Total number of posterior samples: 1600\n",
      "Iter. Eval. Time m:s Delta_log(z)\n",
      "0     1       0:00.0 -inf        \n",
      "0     2       0:00.0 -inf        \n",
      "0     3       0:00.0 -inf        \n",
      "0     4       0:00.0 -inf        \n",
      "0     5       0:00.0 -inf        \n",
      "0     21      0:00.0 -inf        \n",
      "0     41      0:00.0 -inf        \n",
      "0     61      0:00.0 -inf        \n",
      "0     81      0:00.0 -inf        \n",
      "0     101     0:00.0 -inf        \n",
      "0     121     0:00.0 -inf        \n",
      "0     141     0:00.0 -inf        \n",
      "0     161     0:00.0 -inf        \n",
      "0     181     0:00.0 -inf        \n",
      "0     201     0:00.0 -inf        \n",
      "0     221     0:00.0 -inf        \n",
      "0     241     0:00.0 -inf        \n",
      "0     261     0:00.0 -inf        \n",
      "0     281     0:00.0 -inf        \n",
      "0     301     0:00.0 -inf        \n",
      "0     321     0:00.0 -inf        \n",
      "0     341     0:00.0 -inf        \n",
      "0     361     0:00.0 -inf        \n",
      "0     381     0:00.0 -inf        \n",
      "400   400     0:00.0 -inf        \n",
      "420   400     0:00.0 -9195.830123\n",
      "440   402     0:00.0 -7193.879594\n",
      "460   404     0:00.0 -5854.789565\n",
      "480   412     0:00.1 -4981.855645\n",
      "500   415     0:00.1 -4349.234049\n",
      "520   416     0:00.1 -3826.918368\n",
      "540   429     0:00.1 -3513.931327\n",
      "560   437     0:00.1 -3174.674543\n",
      "580   444     0:00.1 -2897.496699\n",
      "600   461     0:00.1 -2666.869163\n",
      "620   468     0:00.1 -2479.42043 \n",
      "640   479     0:00.1 -2287.236427\n",
      "660   494     0:00.1 -2169.839534\n",
      "680   514     0:00.2 -1996.167455\n",
      "700   533     0:00.2 -1881.518717\n",
      "720   560     0:00.2 -1733.447602\n",
      "740   578     0:00.2 -1608.236853\n",
      "760   603     0:00.2 -1491.929396\n",
      "780   620     0:00.3 -1411.655459\n",
      "800   643     0:00.3 -1332.243652\n",
      "820   663     0:00.3 -1264.394471\n",
      "840   695     0:00.3 -1197.646755\n",
      "860   725     0:00.3 -1141.665915\n",
      "880   754     0:00.3 -1085.022247\n",
      "900   782     0:00.4 -1011.009502\n",
      "920   808     0:00.4 -971.2128631\n",
      "940   832     0:00.4 -923.6199369\n",
      "960   846     0:00.4 -869.6724855\n",
      "980   863     0:00.4 -830.6643157\n",
      "1000  896     0:00.4 -792.2951617\n",
      "1020  929     0:00.5 -757.9833696\n",
      "1040  949     0:00.5 -693.1892957\n",
      "1060  965     0:00.5 -664.9847497\n",
      "1080  979     0:00.5 -624.3132881\n",
      "1100  1003    0:00.5 -599.5837085\n",
      "1120  1033    0:00.6 -579.4114149\n",
      "1140  1067    0:00.6 -556.3376877\n",
      "1160  1086    0:00.6 -523.2726919\n",
      "1180  1106    0:00.6 -500.3564025\n",
      "1200  1126    0:00.6 -467.4201377\n"
     ]
    },
    {
     "name": "stderr",
     "output_type": "stream",
     "text": [
      "C:\\Users\\bclamber\\Desktop\\pints\\pints\\_log_likelihoods.py:154: RuntimeWarning: invalid value encountered in log\n",
      "  - np.sum(error**2, axis=0) / (2 * sigma**2))\n"
     ]
    },
    {
     "name": "stdout",
     "output_type": "stream",
     "text": [
      "1220  1148    0:00.6 -442.4389199\n",
      "1240  1170    0:00.7 -414.6300204\n",
      "1260  1188    0:00.7 -388.7284596\n",
      "1280  1211    0:00.7 -368.5297034\n",
      "1300  1232    0:00.7 -348.2512863\n",
      "1320  1265    0:00.7 -332.1995414\n",
      "1340  1280    0:00.8 -314.2475627\n",
      "1360  1301    0:00.8 -301.5990931\n",
      "1380  1320    0:00.8 -286.8985195\n",
      "1400  1347    0:00.8 -275.3766102\n",
      "1420  1372    0:00.8 -262.6644108\n",
      "1440  1395    0:00.9 -244.4954094\n",
      "1460  1423    0:00.9 -232.3901227\n",
      "1480  1448    0:00.9 -221.7129982\n",
      "1500  1474    0:00.9 -212.6764845\n",
      "1520  1503    0:00.9 -205.6712022\n",
      "1540  1539    0:01.0 -197.3773221\n",
      "1560  1569    0:01.0 -189.849393 \n",
      "1580  1598    0:01.0 -183.797002 \n",
      "1600  1608    0:01.0 -175.5896717\n",
      "1620  1636    0:01.0 -168.7593978\n",
      "1640  1655    0:01.0 -162.7577547\n",
      "1660  1671    0:01.1 -158.3601461\n",
      "1680  1708    0:01.1 -153.566552 \n",
      "1700  1740    0:01.1 -148.548953 \n",
      "1720  1761    0:01.1 -145.1672264\n",
      "1740  1790    0:01.1 -142.1843239\n",
      "1760  1821    0:01.2 -138.5017828\n",
      "1780  1844    0:01.2 -135.6686077\n",
      "1800  1877    0:01.2 -133.5345278\n",
      "1820  1893    0:01.2 -131.4796714\n",
      "1840  1912    0:01.2 -129.5280396\n",
      "1860  1952    0:01.3 -127.0705914\n",
      "1880  1973    0:01.3 -125.0565471\n",
      "1900  1996    0:01.3 -123.3895328\n",
      "1920  2006    0:01.3 -121.6068228\n",
      "1940  2028    0:01.4 -119.8129016\n",
      "1960  2052    0:01.4 -117.6192006\n",
      "1980  2063    0:01.4 -115.4821318\n",
      "2000  2078    0:01.4 -114.056031 \n",
      "2020  2099    0:01.4 -112.3160154\n",
      "2040  2118    0:01.5 -110.7425632\n",
      "2060  2138    0:01.5 -108.5587564\n",
      "2080  2152    0:01.5 -106.8452801\n",
      "2100  2159    0:01.5 -105.0421429\n",
      "2120  2170    0:01.5 -103.3967406\n",
      "2140  2177    0:01.6 -101.7601376\n",
      "2160  2186    0:01.6 -100.4502979\n",
      "2180  2199    0:01.6 -98.66814606\n",
      "2200  2206    0:01.6 -96.80836603\n",
      "2220  2218    0:01.6 -95.29947176\n",
      "2240  2229    0:01.6 -93.96026312\n",
      "2260  2231    0:01.6 -92.76103482\n",
      "2280  2244    0:01.6 -91.42519376\n",
      "2300  2252    0:01.7 -89.67167252\n",
      "2320  2263    0:01.7 -87.41609136\n",
      "2340  2278    0:01.7 -85.8215584 \n",
      "2360  2286    0:01.7 -84.28874395\n",
      "2380  2313    0:01.7 -82.92351564\n",
      "2400  2324    0:01.7 -81.60843655\n",
      "2420  2325    0:01.8 -80.35453039\n",
      "2440  2336    0:01.8 -78.77530318\n",
      "2460  2347    0:01.8 -77.49105585\n",
      "2480  2354    0:01.8 -76.4339393 \n",
      "2500  2367    0:01.8 -75.28935249\n",
      "2520  2378    0:01.8 -74.12384375\n",
      "2540  2383    0:01.9 -72.90361976\n",
      "2560  2395    0:01.9 -71.59841448\n",
      "2580  2407    0:01.9 -70.38506034\n",
      "2600  2416    0:01.9 -68.91940557\n",
      "2620  2420    0:01.9 -67.61673745\n",
      "2640  2430    0:01.9 -66.4181828 \n",
      "2660  2438    0:02.0 -65.14120111\n",
      "2680  2444    0:02.0 -63.62156373\n",
      "2700  2447    0:02.0 -62.32211883\n",
      "2720  2462    0:02.0 -61.03996593\n",
      "2740  2473    0:02.0 -61.39506265\n",
      "2760  2481    0:02.1 -60.40273925\n",
      "2780  2495    0:02.1 -59.33468403\n",
      "2800  2505    0:02.1 -58.39869233\n",
      "2820  2517    0:02.1 -57.53432787\n",
      "2840  2530    0:02.1 -56.5291089 \n",
      "2860  2545    0:02.2 -55.22412007\n",
      "2880  2561    0:02.2 -53.96818196\n",
      "2900  2577    0:02.2 -52.83947532\n",
      "2920  2589    0:02.2 -51.63372199\n",
      "2940  2593    0:02.2 -50.35959866\n",
      "2960  2603    0:02.2 -49.09274589\n",
      "2980  2615    0:02.3 -48.28225159\n",
      "3000  2621    0:02.3 -47.24426902\n",
      "3020  2628    0:02.3 -46.41200336\n",
      "3040  2638    0:02.3 -45.43792648\n",
      "3060  2647    0:02.3 -44.35045119\n",
      "3080  2655    0:02.4 -43.41069152\n",
      "3100  2665    0:02.4 -42.51438566\n",
      "3120  2673    0:02.4 -41.65008872\n",
      "3140  2677    0:02.4 -40.75051759\n",
      "3160  2686    0:02.4 -39.78360067\n",
      "3180  2700    0:02.5 -38.90113446\n",
      "3200  2713    0:02.5 -38.03167934\n",
      "3220  2719    0:02.5 -37.14126406\n",
      "3240  2730    0:02.5 -36.26246426\n",
      "3260  2735    0:02.5 -35.42957256\n",
      "3280  2745    0:02.5 -34.63739778\n",
      "3300  2751    0:02.6 -34.25284732\n",
      "3320  2761    0:02.6 -33.66346092\n",
      "3340  2767    0:02.6 -33.09670879\n",
      "3360  2780    0:02.6 -32.34825584\n",
      "3380  2786    0:02.6 -31.63147193\n",
      "3400  2797    0:02.6 -30.96132174\n",
      "3420  2804    0:02.7 -31.43624401\n",
      "3440  2808    0:02.7 -30.76167243\n",
      "3460  2812    0:02.7 -30.05853425\n",
      "3480  2819    0:02.7 -29.2112872 \n",
      "3500  2823    0:02.7 -28.33305154\n",
      "3520  2831    0:02.7 -27.48002006\n",
      "3540  2837    0:02.8 -26.80003786\n",
      "3560  2847    0:02.8 -26.11341651\n",
      "3580  2859    0:02.8 -25.41675879\n",
      "3600  2873    0:02.8 -24.86775319\n",
      "3620  2887    0:02.8 -24.27763073\n",
      "3640  2898    0:02.8 -23.75222509\n",
      "3660  2907    0:02.9 -23.20076845\n",
      "3680  2916    0:02.9 -22.65987005\n",
      "3700  2919    0:02.9 -22.08245785\n",
      "3720  2932    0:02.9 -21.49071763\n",
      "3740  2943    0:02.9 -20.94643832\n",
      "3760  2953    0:02.9 -20.45771098\n",
      "3780  2962    0:02.9 -19.95559714\n",
      "3800  2972    0:03.0 -19.50028454\n",
      "3820  2987    0:03.0 -19.02956702\n",
      "3840  2991    0:03.0 -18.55483326\n",
      "3860  2996    0:03.0 -18.11041918\n",
      "3880  3008    0:03.0 -17.68676044\n",
      "3900  3020    0:03.0 -17.23235698\n",
      "3920  3030    0:03.1 -16.77388074\n",
      "3940  3038    0:03.1 -16.34953271\n",
      "3960  3043    0:03.1 -15.92548896\n",
      "3980  3048    0:03.1 -15.52433626\n",
      "4000  3057    0:03.1 -15.15799538\n",
      "4020  3064    0:03.2 -14.80545949\n",
      "4040  3077    0:03.2 -14.4517883 \n",
      "4060  3082    0:03.2 -14.0764209 \n",
      "4080  3088    0:03.2 -13.7106264 \n",
      "4100  3100    0:03.2 -13.41145304\n",
      "4120  3105    0:03.3 -13.05876042\n",
      "4140  3119    0:03.3 -12.71581792\n",
      "4160  3131    0:03.3 -12.36838261\n",
      "4180  3140    0:03.3 -12.0203278 \n",
      "4200  3157    0:03.3 -11.70299469\n",
      "4220  3162    0:03.4 -11.39566199\n",
      "4240  3175    0:03.4 -11.09217233\n",
      "4260  3182    0:03.4 -10.79982024\n",
      "4280  3192    0:03.4 -10.51426772\n",
      "4300  3200    0:03.4 -10.24327062\n",
      "4320  3207    0:03.5 -9.9762118  \n",
      "4340  3220    0:03.5 -9.715945183\n",
      "4360  3240    0:03.5 -9.456708683\n",
      "4380  3243    0:03.5 -9.195014803\n",
      "4400  3251    0:03.5 -8.940138248\n",
      "4420  3262    0:03.6 -8.686116942\n",
      "4440  3269    0:03.6 -8.427444555\n",
      "4460  3275    0:03.6 -8.181019   \n",
      "4480  3280    0:03.6 -7.94019018 \n",
      "4500  3301    0:03.6 -7.70475285 \n",
      "4520  3307    0:03.7 -7.477118882\n",
      "4540  3313    0:03.7 -7.249882786\n",
      "4560  3322    0:03.7 -7.029469297\n",
      "4580  3329    0:03.7 -6.809768789\n",
      "4600  3337    0:03.7 -6.597221322\n",
      "4620  3344    0:03.8 -6.390363024\n",
      "4640  3351    0:03.8 -6.189198594\n",
      "4660  3355    0:03.8 -6.000648963\n",
      "4680  3365    0:03.8 -5.815228056\n",
      "4700  3370    0:03.8 -5.632999281\n",
      "4720  3382    0:03.9 -5.453022356\n",
      "4740  3396    0:03.9 -5.274568514\n",
      "4760  3405    0:03.9 -5.099408022\n",
      "4780  3411    0:03.9 -4.929638468\n",
      "4800  3417    0:03.9 -4.763857042\n",
      "4820  3426    0:04.0 -4.604058925\n",
      "4840  3430    0:04.0 -4.450179894\n",
      "4860  3447    0:04.0 -4.301486996\n",
      "4880  3449    0:04.0 -4.156885316\n",
      "4900  3460    0:04.0 -4.010256708\n",
      "4920  3466    0:04.1 -3.867376741\n",
      "4940  3477    0:04.1 -3.727607991\n",
      "4960  3489    0:04.1 -3.58772734 \n",
      "4980  3496    0:04.1 -3.450799377\n",
      "5000  3500    0:04.1 -3.319306442\n",
      "5020  3503    0:04.2 -3.192567361\n",
      "5040  3515    0:04.2 -3.066760964\n",
      "5060  3522    0:04.2 -2.944046751\n",
      "5080  3526    0:04.2 -2.826559461\n",
      "5100  3528    0:04.2 -2.712738721\n",
      "5120  3535    0:04.2 -2.602529378\n",
      "5140  3546    0:04.2 -2.493998457\n",
      "5160  3551    0:04.3 -2.388333534\n",
      "5180  3564    0:04.3 -2.28545933 \n",
      "5200  3569    0:04.3 -2.18613634 \n",
      "5220  3581    0:04.3 -2.090619115\n",
      "5240  3589    0:04.3 -1.997860519\n",
      "5260  3597    0:04.3 -1.920389211\n",
      "5280  3617    0:04.4 -1.835073705\n",
      "5300  3629    0:04.4 -1.752625398\n",
      "5320  3635    0:04.4 -1.690738966\n",
      "5340  3639    0:04.4 -1.613000679\n",
      "5360  3649    0:04.4 -1.538125992\n",
      "5380  3658    0:04.4 -1.465893781\n",
      "5400  3667    0:04.5 -1.396573864\n",
      "5420  3672    0:04.5 -1.330181016\n",
      "5440  3678    0:04.5 -1.26685853 \n",
      "5460  3688    0:04.5 -1.206179556\n",
      "5480  3699    0:04.5 -1.148077972\n",
      "5500  3712    0:04.5 -1.092651925\n",
      "5520  3716    0:04.6 -1.039862308\n",
      "5540  3733    0:04.6 -0.98922    \n",
      "5560  3745    0:04.6 -0.940849   \n",
      "5580  3759    0:04.6 -0.894627   \n",
      "5600  3766    0:04.6 -0.850581   \n",
      "5620  3776    0:04.7 -0.808488   \n",
      "5640  3782    0:04.7 -0.768419   \n",
      "5660  3785    0:04.7 -0.730493   \n",
      "5680  3792    0:04.7 -0.694028   \n",
      "5700  3805    0:04.8 -0.659285   \n",
      "5720  3808    0:04.8 -0.626228   \n",
      "5740  3812    0:04.8 -0.598441   \n",
      "5760  3824    0:04.8 -0.568302702\n",
      "5780  3834    0:04.8 -0.539627   \n",
      "5800  3845    0:04.9 -0.512324462\n",
      "Convergence obtained with Delta_z = -0.499169243973\n",
      "Done!\n"
     ]
    }
   ],
   "source": [
    "samples = sampler.run()\n",
    "print('Done!')"
   ]
  },
  {
   "cell_type": "markdown",
   "metadata": {},
   "source": [
    "## Plot posterior samples versus true parameter values (dashed lines)"
   ]
  },
  {
   "cell_type": "code",
   "execution_count": 4,
   "metadata": {},
   "outputs": [
    {
     "data": {
      "image/png": "[encoded data removed]",
      "text/plain": [
       "<matplotlib.figure.Figure at 0x19616301e48>"
      ]
     },
     "metadata": {},
     "output_type": "display_data"
    }
   ],
   "source": [
    "# Plot output\n",
    "import pints.plot\n",
    "\n",
    "pints.plot.histogram([samples], ref_parameters=[r, k, sigma])\n",
    "\n",
    "plt.show()"
   ]
  },
  {
   "cell_type": "markdown",
   "metadata": {},
   "source": [
    "## Plot posterior predictive simulations versus the observed data"
   ]
  },
  {
   "cell_type": "code",
   "execution_count": 5,
   "metadata": {},
   "outputs": [
    {
     "data": {
      "image/png": "[encoded data removed]",
      "text/plain": [
       "<matplotlib.figure.Figure at 0x19617369978>"
      ]
     },
     "metadata": {},
     "output_type": "display_data"
    }
   ],
   "source": [
    "pints.plot.series(samples[:100], problem)\n",
    "plt.show()"
   ]
  },
  {
   "cell_type": "markdown",
   "metadata": {},
   "source": [
    "## Marginal likelihood estimate"
   ]
  },
  {
   "cell_type": "code",
   "execution_count": 6,
   "metadata": {},
   "outputs": [
    {
     "name": "stdout",
     "output_type": "stream",
     "text": [
      "marginal log-likelihood = -386.210666245 ± 0.0801896223551\n"
     ]
    }
   ],
   "source": [
    "print('marginal log-likelihood = ' + str(sampler.marginal_log_likelihood())\n",
    "      + ' ± ' + str(sampler.marginal_log_likelihood_standard_deviation()))"
   ]
  },
  {
   "cell_type": "markdown",
   "metadata": {},
   "source": [
    "## Effective sample size"
   ]
  },
  {
   "cell_type": "code",
   "execution_count": 7,
   "metadata": {},
   "outputs": [
    {
     "name": "stdout",
     "output_type": "stream",
     "text": [
      "effective sample size = 1554.89332941\n"
     ]
    }
   ],
   "source": [
    "print('effective sample size = ' + str(sampler.effective_sample_size()))"
   ]
  }
 ],
 "metadata": {
  "kernelspec": {
   "display_name": "Python 3",
   "language": "python",
   "name": "python3"
  },
  "language_info": {
   "codemirror_mode": {
    "name": "ipython",
    "version": 3
   },
   "file_extension": ".py",
   "mimetype": "text/x-python",
   "name": "python",
   "nbconvert_exporter": "python",
   "pygments_lexer": "ipython3",
   "version": "3.6.3"
  }
 },
 "nbformat": 4,
 "nbformat_minor": 2
}
