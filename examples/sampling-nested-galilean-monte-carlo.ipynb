{
 "cells": [
  {
   "cell_type": "markdown",
   "metadata": {},
   "source": [
    "# Nested samping using Galilean Monte Carlo\n",
    "\n",
    "This example demonstrates how to use Galilean Monte Carlo sampling [1] to sample from the posterior distribution for a logistic model fitted to model-simulated data. For a tutorial on nested sampling, see: [INSERT LINK to NESTED SAMPLING TUTORIAL NOTEBOOK].\n",
    "\n",
    "[1] \"Exploring Multi-Modal Distributions with Nested Sampling\", 2013, Farhan Feroz and John Skilling."
   ]
  },
  {
   "cell_type": "markdown",
   "metadata": {},
   "source": [
    "First create fake data."
   ]
  },
  {
   "cell_type": "code",
   "execution_count": 1,
   "metadata": {},
   "outputs": [
    {
     "data": {
      "image/png": "[encoded data removed]",
      "text/plain": [
       "<matplotlib.figure.Figure at 0x1a146d7b10>"
      ]
     },
     "metadata": {},
     "output_type": "display_data"
    }
   ],
   "source": [
    "import os\n",
    "os.chdir('/Users/appleuser/Desktop/AllPints/pints/')\n",
    "from __future__ import print_function\n",
    "import pints\n",
    "import pints.toy as toy\n",
    "import numpy as np\n",
    "import matplotlib.pyplot as plt\n",
    "\n",
    "# Load a forward model\n",
    "model = toy.LogisticModel()\n",
    "\n",
    "# Create some toy data\n",
    "r = 0.015\n",
    "k = 500\n",
    "real_parameters = [r, k]\n",
    "times = np.linspace(0, 1000, 100)\n",
    "signal_values = model.simulate(real_parameters, times)\n",
    "\n",
    "# Add independent Gaussian noise\n",
    "sigma = 10\n",
    "observed_values = signal_values + pints.noise.independent(sigma, signal_values.shape)\n",
    "\n",
    "# Plot\n",
    "plt.plot(times,signal_values,label = 'signal')\n",
    "plt.plot(times,observed_values,label = 'observed')\n",
    "plt.xlabel('Time')\n",
    "plt.ylabel('Values')\n",
    "plt.legend()\n",
    "plt.show()"
   ]
  },
  {
   "cell_type": "markdown",
   "metadata": {},
   "source": [
    "Create the nested sampler that will be used to sample from the posterior."
   ]
  },
  {
   "cell_type": "code",
   "execution_count": null,
   "metadata": {
    "collapsed": true
   },
   "outputs": [],
   "source": [
    "# Create an object with links to the model and time series\n",
    "problem = pints.SingleOutputProblem(model, times, observed_values)\n",
    "\n",
    "# Create a log-likelihood function (adds an extra parameter!)\n",
    "log_likelihood = pints.UnknownNoiseLogLikelihood(problem)\n",
    "\n",
    "# Create a uniform prior over both the parameters and the new noise variable\n",
    "log_prior = pints.UniformLogPrior(\n",
    "    [0.01, 400, sigma * 0.5],\n",
    "    [0.02, 600, sigma * 1.5])\n",
    "\n",
    "# Create a nested ellipsoidal rejectection sampler\n",
    "sampler = pints.GalileanMC(log_likelihood, log_prior)\n",
    "\n",
    "# Set number of iterations\n",
    "sampler.set_iterations(4000)\n",
    "\n",
    "# Set the number of posterior samples to generate\n",
    "sampler.set_posterior_samples(400)\n",
    "\n",
    "# Set the number of active points\n",
    "sampler.set_active_points(1000)\n",
    "\n",
    "# Set velocity proposal distribution\n",
    "sampler.set_random_propose(False, mu=[0,0,0], sigma=[[0.005,0,0],[0,10,0],[0,0,0.1]])"
   ]
  },
  {
   "cell_type": "markdown",
   "metadata": {},
   "source": [
    "Run the sampler!"
   ]
  },
  {
   "cell_type": "code",
   "execution_count": null,
   "metadata": {},
   "outputs": [
    {
     "name": "stdout",
     "output_type": "stream",
     "text": [
      "Running nested rejection sampling\n",
      "Number of active points: 1000\n",
      "Total number of iterations: 4000\n",
      "Total number of posterior samples: 400\n",
      "Iter. Eval. Time m:s\n",
      "0     1       0:00.0\n",
      "0     2       0:00.0\n",
      "0     3       0:00.0\n",
      "0     4       0:00.0\n",
      "0     5       0:00.0\n",
      "0     21      0:00.0\n",
      "0     41      0:00.0\n",
      "0     61      0:00.0\n",
      "0     81      0:00.0\n",
      "0     101     0:00.0\n",
      "0     121     0:00.1\n",
      "0     141     0:00.1\n",
      "0     161     0:00.1\n",
      "0     181     0:00.1\n",
      "0     201     0:00.1\n",
      "0     221     0:00.1\n",
      "0     241     0:00.1\n",
      "0     261     0:00.1\n",
      "0     281     0:00.1\n",
      "0     301     0:00.1\n",
      "0     321     0:00.1\n",
      "0     341     0:00.1\n",
      "0     361     0:00.1\n",
      "0     381     0:00.1\n",
      "0     401     0:00.2\n",
      "0     421     0:00.2\n",
      "0     441     0:00.2\n",
      "0     461     0:00.2\n",
      "0     481     0:00.2\n",
      "0     501     0:00.2\n",
      "0     521     0:00.2\n",
      "0     541     0:00.2\n",
      "0     561     0:00.2\n",
      "0     581     0:00.2\n",
      "0     601     0:00.2\n",
      "0     621     0:00.2\n",
      "0     641     0:00.2\n",
      "0     661     0:00.2\n",
      "0     681     0:00.2\n",
      "0     701     0:00.3\n",
      "0     721     0:00.3\n",
      "0     741     0:00.3\n",
      "0     761     0:00.3\n",
      "0     781     0:00.3\n",
      "0     801     0:00.3\n",
      "0     821     0:00.3\n",
      "0     841     0:00.3\n",
      "0     861     0:00.3\n",
      "0     881     0:00.3\n",
      "0     901     0:00.3\n",
      "0     921     0:00.4\n",
      "0     941     0:00.4\n",
      "0     961     0:00.4\n"
     ]
    },
    {
     "name": "stderr",
     "output_type": "stream",
     "text": [
      "pints/toy/_logistic_model.py:64: RuntimeWarning: overflow encountered in exp\n",
      "  exp = np.exp(-r * times)\n",
      "pints/toy/_logistic_model.py:67: RuntimeWarning: overflow encountered in multiply\n",
      "  values = k / (1 + c * exp)\n"
     ]
    },
    {
     "name": "stdout",
     "output_type": "stream",
     "text": [
      "0     981     0:00.4\n",
      "1000  1007    0:00.4\n",
      "1020  1119    0:00.6\n",
      "1040  1313    0:00.8\n",
      "1060  1465    0:01.0\n",
      "1080  1799    0:01.4\n",
      "1100  2137    0:01.8\n",
      "1120  2549    0:02.3\n",
      "1140  2999    0:02.9\n",
      "1160  3463    0:03.4\n",
      "1180  4003    0:03.9\n",
      "1200  4423    0:04.4\n",
      "1220  5323    0:05.3\n",
      "1240  5971    0:06.0\n"
     ]
    },
    {
     "name": "stderr",
     "output_type": "stream",
     "text": [
      "pints/_log_likelihoods.py:154: RuntimeWarning: invalid value encountered in log\n",
      "  - np.sum(error**2, axis=0) / (2 * sigma**2))\n"
     ]
    },
    {
     "name": "stdout",
     "output_type": "stream",
     "text": [
      "1260  6575    0:06.7\n",
      "1280  7167    0:07.3\n",
      "1300  7933    0:08.1\n",
      "1320  8681    0:09.0\n",
      "1340  9479    0:09.8\n",
      "1360  10523   0:10.9\n",
      "1380  11699   0:12.1\n",
      "1400  12879   0:13.3\n",
      "1420  14119   0:14.6\n",
      "1440  15211   0:15.7\n",
      "1460  16611   0:17.1\n",
      "1480  18081   0:18.6\n",
      "1500  19149   0:19.7\n",
      "1520  20329   0:21.0\n",
      "1540  22021   0:22.7\n",
      "1560  23367   0:24.2\n",
      "1580  25187   0:25.9\n",
      "1600  25863   0:26.6\n",
      "1620  27259   0:28.0\n",
      "1640  28551   0:29.4\n",
      "1660  29995   0:31.0\n",
      "1680  31577   0:32.7\n",
      "1700  32797   0:34.1\n",
      "1720  34163   0:35.7\n",
      "1740  35577   0:37.2\n",
      "1760  37055   0:39.0\n",
      "1780  39121   0:41.3\n",
      "1800  40693   0:43.0\n",
      "1820  41753   0:44.2\n",
      "1840  42981   0:45.5\n",
      "1860  44473   0:47.1\n",
      "1880  47461   0:50.4\n",
      "1900  49709   0:52.8\n",
      "1920  51241   0:54.5\n",
      "1940  53351   0:56.9\n",
      "1960  55059   0:58.8\n",
      "1980  56817   1:00.7\n",
      "2000  58639   1:02.7\n",
      "2020  60923   1:05.1\n",
      "2040  62835   1:07.2\n",
      "2060  64987   1:09.5\n",
      "2080  67095   1:11.7\n",
      "2100  68839   1:13.5\n",
      "2120  70949   1:15.7\n",
      "2140  72419   1:17.2\n",
      "2160  75131   1:20.0\n",
      "2180  77259   1:22.3\n",
      "2200  78815   1:23.9\n",
      "2220  81673   1:27.1\n",
      "2240  83995   1:29.6\n",
      "2260  85723   1:31.4\n",
      "2280  87839   1:33.7\n",
      "2300  89781   1:35.8\n",
      "2320  92443   1:38.7\n",
      "2340  95597   1:42.2\n",
      "2360  97943   1:44.5\n",
      "2380  100277   1:47.0\n",
      "2400  101639   1:48.5\n",
      "2420  104513   1:51.7\n",
      "2440  107745   1:55.3\n",
      "2460  110529   1:58.2\n",
      "2480  112093   1:59.9\n",
      "2500  114909   2:02.9\n",
      "2520  117505   2:05.8\n",
      "2540  119681   2:08.2\n",
      "2560  122555   2:11.2\n",
      "2580  125513   2:14.1\n",
      "2600  128721   2:17.4\n",
      "2620  131273   2:20.0\n",
      "2640  133359   2:22.2\n",
      "2660  137283   2:26.2\n",
      "2680  139673   2:28.7\n",
      "2700  141801   2:30.8\n",
      "2720  144673   2:33.8\n",
      "2740  148023   2:37.1\n",
      "2760  150523   2:39.8\n",
      "2780  153333   2:42.6\n",
      "2800  157899   2:47.1\n",
      "2820  160775   2:50.1\n",
      "2840  163391   2:52.8\n",
      "2860  165893   2:55.3\n",
      "2880  170017   2:59.4\n",
      "2900  174297   3:03.9\n",
      "2920  177383   3:06.9\n",
      "2940  181169   3:10.8\n",
      "2960  184537   3:14.2\n",
      "2980  188129   3:17.9\n",
      "3000  190901   3:20.6\n",
      "3020  194131   3:23.9\n",
      "3040  197799   3:27.7\n",
      "3060  202125   3:32.1\n",
      "3080  206221   3:36.8\n",
      "3100  209831   3:40.6\n",
      "3120  215243   3:46.2\n",
      "3140  218903   3:50.2\n",
      "3160  221723   3:53.4\n",
      "3180  225673   3:57.7\n",
      "3200  229143   4:01.3\n",
      "3220  233589   4:06.0\n",
      "3240  236131   4:08.8\n",
      "3260  240183   4:13.0\n",
      "3280  245233   4:18.7\n",
      "3300  249681   4:23.7\n",
      "3320  253597   4:27.8\n",
      "3340  258041   4:32.8\n",
      "3360  262243   4:37.2\n",
      "3380  266449   4:42.1\n",
      "3400  269725   4:45.6\n"
     ]
    }
   ],
   "source": [
    "samples, marginal_log_likelihood = sampler.run()\n",
    "print('Done!')"
   ]
  },
  {
   "cell_type": "markdown",
   "metadata": {},
   "source": [
    "## Plot posterior samples versus true parameter values (dashed lines)"
   ]
  },
  {
   "cell_type": "code",
   "execution_count": null,
   "metadata": {},
   "outputs": [],
   "source": [
    "samples"
   ]
  },
  {
   "cell_type": "code",
   "execution_count": null,
   "metadata": {},
   "outputs": [],
   "source": [
    "# Plot output\n",
    "import pints.plot\n",
    "\n",
    "pints.plot.histogram([samples], ref_parameters=[r, k, sigma])\n",
    "\n",
    "plt.show()"
   ]
  },
  {
   "cell_type": "code",
   "execution_count": null,
   "metadata": {
    "scrolled": true
   },
   "outputs": [],
   "source": [
    "vTheta = samples[0]\n",
    "pints.plot.pairwise(samples, kde=True)\n",
    "\n",
    "plt.show()"
   ]
  },
  {
   "cell_type": "markdown",
   "metadata": {},
   "source": [
    "## Plot posterior predictive simulations versus the observed data"
   ]
  },
  {
   "cell_type": "code",
   "execution_count": null,
   "metadata": {},
   "outputs": [],
   "source": [
    "pints.plot.series(samples[:100], problem)\n",
    "plt.show()"
   ]
  },
  {
   "cell_type": "markdown",
   "metadata": {},
   "source": [
    "## Marginal likelihood estimate"
   ]
  },
  {
   "cell_type": "code",
   "execution_count": null,
   "metadata": {},
   "outputs": [],
   "source": [
    "print('marginal log-likelihood = ' + str(marginal_log_likelihood))"
   ]
  }
 ],
 "metadata": {
  "kernelspec": {
   "display_name": "Python 2",
   "language": "python",
   "name": "python2"
  },
  "language_info": {
   "codemirror_mode": {
    "name": "ipython",
    "version": 2
   },
   "file_extension": ".py",
   "mimetype": "text/x-python",
   "name": "python",
   "nbconvert_exporter": "python",
   "pygments_lexer": "ipython2",
   "version": "2.7.14"
  }
 },
 "nbformat": 4,
 "nbformat_minor": 2
}
