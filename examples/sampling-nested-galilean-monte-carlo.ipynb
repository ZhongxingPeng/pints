{
 "cells": [
  {
   "cell_type": "markdown",
   "metadata": {},
   "source": [
    "# Nested samping using Galilean Monte Carlo\n",
    "\n",
    "This example demonstrates how to use Galilean Monte Carlo sampling [1] to sample from the posterior distribution for a logistic model fitted to model-simulated data. For a tutorial on nested sampling, see: [INSERT LINK to NESTED SAMPLING TUTORIAL NOTEBOOK].\n",
    "\n",
    "[1] \"Exploring Multi-Modal Distributions with Nested Sampling\", 2013, Farhan Feroz and John Skilling."
   ]
  },
  {
   "cell_type": "markdown",
   "metadata": {},
   "source": [
    "First create fake data."
   ]
  },
  {
   "cell_type": "code",
   "execution_count": 1,
   "metadata": {},
   "outputs": [
    {
     "data": {
      "image/png": "[encoded data removed]",
      "text/plain": [
       "<matplotlib.figure.Figure at 0x1a146d7b10>"
      ]
     },
     "metadata": {},
     "output_type": "display_data"
    }
   ],
   "source": [
    "import os\n",
    "os.chdir('/Users/appleuser/Desktop/AllPints/pints/')\n",
    "from __future__ import print_function\n",
    "import pints\n",
    "import pints.toy as toy\n",
    "import numpy as np\n",
    "import matplotlib.pyplot as plt\n",
    "\n",
    "# Load a forward model\n",
    "model = toy.LogisticModel()\n",
    "\n",
    "# Create some toy data\n",
    "r = 0.015\n",
    "k = 500\n",
    "real_parameters = [r, k]\n",
    "times = np.linspace(0, 1000, 100)\n",
    "signal_values = model.simulate(real_parameters, times)\n",
    "\n",
    "# Add independent Gaussian noise\n",
    "sigma = 10\n",
    "observed_values = signal_values + pints.noise.independent(sigma, signal_values.shape)\n",
    "\n",
    "# Plot\n",
    "plt.plot(times,signal_values,label = 'signal')\n",
    "plt.plot(times,observed_values,label = 'observed')\n",
    "plt.xlabel('Time')\n",
    "plt.ylabel('Values')\n",
    "plt.legend()\n",
    "plt.show()"
   ]
  },
  {
   "cell_type": "markdown",
   "metadata": {},
   "source": [
    "Create the nested sampler that will be used to sample from the posterior."
   ]
  },
  {
   "cell_type": "code",
   "execution_count": 2,
   "metadata": {
    "collapsed": true
   },
   "outputs": [],
   "source": [
    "# Create an object with links to the model and time series\n",
    "problem = pints.SingleOutputProblem(model, times, observed_values)\n",
    "\n",
    "# Create a log-likelihood function (adds an extra parameter!)\n",
    "log_likelihood = pints.UnknownNoiseLogLikelihood(problem)\n",
    "\n",
    "# Create a uniform prior over both the parameters and the new noise variable\n",
    "log_prior = pints.UniformLogPrior(\n",
    "    [0.01, 400, sigma * 0.5],\n",
    "    [0.02, 600, sigma * 1.5])\n",
    "\n",
    "# Create a nested ellipsoidal rejectection sampler\n",
    "sampler = pints.GalileanMC(log_likelihood, log_prior)\n",
    "\n",
    "# Set number of iterations\n",
    "sampler.set_iterations(4000)\n",
    "\n",
    "# Set the number of posterior samples to generate\n",
    "sampler.set_posterior_samples(400)\n",
    "\n",
    "# Set the number of active points\n",
    "sampler.set_active_points(1000)\n",
    "\n",
    "# Set velocity proposal distribution\n",
    "sampler.set_random_propose(False, mu=[0,0,0], sigma=[[0.005,0,0],[0,10,0],[0,0,0.1]])"
   ]
  },
  {
   "cell_type": "markdown",
   "metadata": {},
   "source": [
    "Run the sampler!"
   ]
  },
  {
   "cell_type": "code",
   "execution_count": 3,
   "metadata": {},
   "outputs": [
    {
     "name": "stdout",
     "output_type": "stream",
     "text": [
      "Running nested rejection sampling\n",
      "Number of active points: 1000\n",
      "Total number of iterations: 4000\n",
      "Total number of posterior samples: 400\n",
      "Iter. Eval. Time m:s\n",
      "0     1       0:00.0\n",
      "0     2       0:00.0\n",
      "0     3       0:00.0\n",
      "0     4       0:00.0\n",
      "0     5       0:00.0\n",
      "0     21      0:00.0\n",
      "0     41      0:00.0\n",
      "0     61      0:00.0\n",
      "0     81      0:00.0\n",
      "0     101     0:00.0\n",
      "0     121     0:00.1\n",
      "0     141     0:00.1\n",
      "0     161     0:00.1\n",
      "0     181     0:00.1\n",
      "0     201     0:00.1\n",
      "0     221     0:00.1\n",
      "0     241     0:00.1\n",
      "0     261     0:00.1\n",
      "0     281     0:00.1\n",
      "0     301     0:00.1\n",
      "0     321     0:00.1\n",
      "0     341     0:00.1\n",
      "0     361     0:00.1\n",
      "0     381     0:00.1\n",
      "0     401     0:00.2\n",
      "0     421     0:00.2\n",
      "0     441     0:00.2\n",
      "0     461     0:00.2\n",
      "0     481     0:00.2\n",
      "0     501     0:00.2\n",
      "0     521     0:00.2\n",
      "0     541     0:00.2\n",
      "0     561     0:00.2\n",
      "0     581     0:00.2\n",
      "0     601     0:00.2\n",
      "0     621     0:00.2\n",
      "0     641     0:00.2\n",
      "0     661     0:00.2\n",
      "0     681     0:00.2\n",
      "0     701     0:00.3\n",
      "0     721     0:00.3\n",
      "0     741     0:00.3\n",
      "0     761     0:00.3\n",
      "0     781     0:00.3\n",
      "0     801     0:00.3\n",
      "0     821     0:00.3\n",
      "0     841     0:00.3\n",
      "0     861     0:00.3\n",
      "0     881     0:00.3\n",
      "0     901     0:00.3\n",
      "0     921     0:00.4\n",
      "0     941     0:00.4\n",
      "0     961     0:00.4\n"
     ]
    },
    {
     "name": "stderr",
     "output_type": "stream",
     "text": [
      "pints/toy/_logistic_model.py:64: RuntimeWarning: overflow encountered in exp\n",
      "  exp = np.exp(-r * times)\n",
      "pints/toy/_logistic_model.py:67: RuntimeWarning: overflow encountered in multiply\n",
      "  values = k / (1 + c * exp)\n"
     ]
    },
    {
     "name": "stdout",
     "output_type": "stream",
     "text": [
      "0     981     0:00.4\n",
      "1000  1007    0:00.4\n",
      "1020  1119    0:00.6\n",
      "1040  1313    0:00.8\n",
      "1060  1465    0:01.0\n",
      "1080  1799    0:01.4\n",
      "1100  2137    0:01.8\n",
      "1120  2549    0:02.3\n",
      "1140  2999    0:02.9\n",
      "1160  3463    0:03.4\n",
      "1180  4003    0:03.9\n",
      "1200  4423    0:04.4\n",
      "1220  5323    0:05.3\n",
      "1240  5971    0:06.0\n"
     ]
    },
    {
     "name": "stderr",
     "output_type": "stream",
     "text": [
      "pints/_log_likelihoods.py:154: RuntimeWarning: invalid value encountered in log\n",
      "  - np.sum(error**2, axis=0) / (2 * sigma**2))\n"
     ]
    },
    {
     "name": "stdout",
     "output_type": "stream",
     "text": [
      "1260  6575    0:06.7\n",
      "1280  7167    0:07.3\n",
      "1300  7933    0:08.1\n",
      "1320  8681    0:09.0\n",
      "1340  9479    0:09.8\n",
      "1360  10523   0:10.9\n",
      "1380  11699   0:12.1\n",
      "1400  12879   0:13.3\n",
      "1420  14119   0:14.6\n",
      "1440  15211   0:15.7\n",
      "1460  16611   0:17.1\n",
      "1480  18081   0:18.6\n",
      "1500  19149   0:19.7\n",
      "1520  20329   0:21.0\n",
      "1540  22021   0:22.7\n",
      "1560  23367   0:24.2\n",
      "1580  25187   0:25.9\n",
      "1600  25863   0:26.6\n",
      "1620  27259   0:28.0\n",
      "1640  28551   0:29.4\n",
      "1660  29995   0:31.0\n",
      "1680  31577   0:32.7\n",
      "1700  32797   0:34.1\n",
      "1720  34163   0:35.7\n",
      "1740  35577   0:37.2\n",
      "1760  37055   0:39.0\n",
      "1780  39121   0:41.3\n",
      "1800  40693   0:43.0\n",
      "1820  41753   0:44.2\n",
      "1840  42981   0:45.5\n",
      "1860  44473   0:47.1\n",
      "1880  47461   0:50.4\n",
      "1900  49709   0:52.8\n",
      "1920  51241   0:54.5\n",
      "1940  53351   0:56.9\n",
      "1960  55059   0:58.8\n",
      "1980  56817   1:00.7\n",
      "2000  58639   1:02.7\n",
      "2020  60923   1:05.1\n",
      "2040  62835   1:07.2\n",
      "2060  64987   1:09.5\n",
      "2080  67095   1:11.7\n",
      "2100  68839   1:13.5\n",
      "2120  70949   1:15.7\n",
      "2140  72419   1:17.2\n",
      "2160  75131   1:20.0\n",
      "2180  77259   1:22.3\n",
      "2200  78815   1:23.9\n",
      "2220  81673   1:27.1\n",
      "2240  83995   1:29.6\n",
      "2260  85723   1:31.4\n",
      "2280  87839   1:33.7\n",
      "2300  89781   1:35.8\n",
      "2320  92443   1:38.7\n",
      "2340  95597   1:42.2\n",
      "2360  97943   1:44.5\n",
      "2380  100277   1:47.0\n",
      "2400  101639   1:48.5\n",
      "2420  104513   1:51.7\n",
      "2440  107745   1:55.3\n",
      "2460  110529   1:58.2\n",
      "2480  112093   1:59.9\n",
      "2500  114909   2:02.9\n",
      "2520  117505   2:05.8\n",
      "2540  119681   2:08.2\n",
      "2560  122555   2:11.2\n",
      "2580  125513   2:14.1\n",
      "2600  128721   2:17.4\n",
      "2620  131273   2:20.0\n",
      "2640  133359   2:22.2\n",
      "2660  137283   2:26.2\n",
      "2680  139673   2:28.7\n",
      "2700  141801   2:30.8\n",
      "2720  144673   2:33.8\n",
      "2740  148023   2:37.1\n",
      "2760  150523   2:39.8\n",
      "2780  153333   2:42.6\n",
      "2800  157899   2:47.1\n",
      "2820  160775   2:50.1\n",
      "2840  163391   2:52.8\n",
      "2860  165893   2:55.3\n",
      "2880  170017   2:59.4\n",
      "2900  174297   3:03.9\n",
      "2920  177383   3:06.9\n",
      "2940  181169   3:10.8\n",
      "2960  184537   3:14.2\n",
      "2980  188129   3:17.9\n",
      "3000  190901   3:20.6\n",
      "3020  194131   3:23.9\n",
      "3040  197799   3:27.7\n",
      "3060  202125   3:32.1\n",
      "3080  206221   3:36.8\n",
      "3100  209831   3:40.6\n",
      "3120  215243   3:46.2\n",
      "3140  218903   3:50.2\n",
      "3160  221723   3:53.4\n",
      "3180  225673   3:57.7\n",
      "3200  229143   4:01.3\n",
      "3220  233589   4:06.0\n",
      "3240  236131   4:08.8\n",
      "3260  240183   4:13.0\n",
      "3280  245233   4:18.7\n",
      "3300  249681   4:23.7\n",
      "3320  253597   4:27.8\n",
      "3340  258041   4:32.8\n",
      "3360  262243   4:37.2\n",
      "3380  266449   4:42.1\n",
      "3400  269725   4:45.6\n",
      "3420  273917   4:50.1\n",
      "3440  277561   4:54.1\n",
      "3460  283449   5:00.5\n",
      "3480  285617   5:02.7\n",
      "3500  290593   5:07.7\n",
      "3520  293171   5:10.6\n",
      "3540  296675   5:14.5\n",
      "3560  301221   5:19.7\n",
      "3580  305141   5:23.6\n",
      "3600  308367   5:26.8\n",
      "3620  312343   5:30.8\n",
      "3640  316993   5:35.6\n",
      "3660  321363   5:40.1\n",
      "3680  328413   5:48.0\n",
      "3700  333619   5:53.7\n",
      "3720  338163   5:58.5\n",
      "3740  343035   6:03.5\n",
      "3760  348681   6:09.3\n",
      "3780  353399   6:14.3\n",
      "3800  360193   6:21.3\n",
      "3820  366009   6:27.5\n",
      "3840  372333   6:34.0\n",
      "3860  378593   6:40.9\n",
      "3880  385325   6:48.5\n",
      "3900  393237   6:56.8\n",
      "3920  400267   7:03.9\n",
      "3940  407367   7:11.0\n",
      "3960  414875   7:18.7\n",
      "3980  422347   7:26.6\n",
      "4000  430587   7:35.7\n",
      "4020  435927   7:41.5\n",
      "4040  441909   7:47.8\n",
      "4060  448833   7:54.8\n",
      "4080  455407   8:01.6\n",
      "4100  460823   8:07.1\n",
      "4120  468043   8:14.5\n",
      "4140  476551   8:24.1\n",
      "4160  484549   8:33.3\n",
      "4180  491385   8:40.9\n",
      "4200  498441   8:48.6\n",
      "4220  506213   8:56.8\n",
      "4240  511993   9:02.8\n",
      "4260  520905   9:11.9\n",
      "4280  529529   9:20.6\n",
      "4300  539085   9:30.3\n",
      "4320  546139   9:37.8\n",
      "4340  553195   9:45.8\n",
      "4360  559935   9:53.7\n",
      "4380  567267  10:02.0\n",
      "4400  574139  10:09.2\n",
      "4420  579531  10:14.7\n",
      "4440  587483  10:22.7\n",
      "4460  594401  10:29.7\n",
      "4480  599989  10:35.7\n",
      "4500  606735  10:43.2\n",
      "4520  616163  10:53.6\n",
      "4540  626501  11:04.9\n",
      "4560  632243  11:10.8\n",
      "4580  639827  11:18.6\n",
      "4600  649199  11:28.6\n",
      "4620  657059  11:37.0\n",
      "4640  666713  11:46.8\n",
      "4660  671479  11:51.8\n",
      "4680  680897  12:01.6\n",
      "4700  689453  12:10.5\n",
      "4720  699561  12:20.9\n",
      "4740  706805  12:28.2\n",
      "4760  721173  12:43.3\n",
      "4780  728219  12:50.5\n",
      "4800  735835  12:58.1\n",
      "4820  746275  13:08.7\n",
      "4840  757255  13:20.1\n",
      "4860  767723  13:31.0\n",
      "4880  779807  13:44.3\n",
      "4900  781667  13:46.3\n",
      "4920  792639  13:58.4\n",
      "4940  798833  14:04.7\n",
      "4960  809077  14:15.3\n",
      "4980  824519  14:31.5\n",
      "Done!\n"
     ]
    },
    {
     "name": "stderr",
     "output_type": "stream",
     "text": [
      "pints/_nested/__init__.py:273: RuntimeWarning: invalid value encountered in less\n",
      "  self._posterior_samples, p=vP)\n"
     ]
    }
   ],
   "source": [
    "samples, marginal_log_likelihood = sampler.run()\n",
    "print('Done!')"
   ]
  },
  {
   "cell_type": "markdown",
   "metadata": {},
   "source": [
    "## Plot posterior samples versus true parameter values (dashed lines)"
   ]
  },
  {
   "cell_type": "code",
   "execution_count": 27,
   "metadata": {},
   "outputs": [
    {
     "data": {
      "image/png": "[encoded data removed]",
      "text/plain": [
       "<matplotlib.figure.Figure at 0x1a1bbe6c50>"
      ]
     },
     "metadata": {},
     "output_type": "display_data"
    }
   ],
   "source": [
    "m_active = sampler._m_active\n",
    "m_active = m_active[:, 0:3]\n",
    "m_inactive = sampler._m_inactive\n",
    "m_inactive = m_inactive[:, 0:3]\n",
    "plt.scatter(m_inactive[:,0],m_inactive[:,1])\n",
    "plt.scatter(m_active[:,0],m_active[:,1],alpha=0.1)\n",
    "plt.xlim([0.008,0.024])\n",
    "plt.show()"
   ]
  },
  {
   "cell_type": "code",
   "execution_count": 5,
   "metadata": {},
   "outputs": [
    {
     "data": {
      "image/png": "[encoded data removed]",
      "text/plain": [
       "<matplotlib.figure.Figure at 0x1a1bc0e610>"
      ]
     },
     "metadata": {},
     "output_type": "display_data"
    }
   ],
   "source": [
    "# Plot output\n",
    "import pints.plot\n",
    "\n",
    "pints.plot.histogram([samples], ref_parameters=[r, k, sigma])\n",
    "\n",
    "plt.show()"
   ]
  },
  {
   "cell_type": "code",
   "execution_count": 6,
   "metadata": {
    "scrolled": true
   },
   "outputs": [
    {
     "name": "stderr",
     "output_type": "stream",
     "text": [
      "/anaconda2/lib/python2.7/site-packages/matplotlib/axes/_base.py:2918: UserWarning: Attempting to set identical left==right results\n",
      "in singular transformations; automatically expanding.\n",
      "left=0.0109449737618, right=0.0109449737618\n",
      "  'left=%s, right=%s') % (left, right))\n",
      "/anaconda2/lib/python2.7/site-packages/numpy/lib/function_base.py:817: RuntimeWarning: divide by zero encountered in true_divide\n",
      "  return n/db/n.sum(), bins\n",
      "/anaconda2/lib/python2.7/site-packages/numpy/lib/function_base.py:817: RuntimeWarning: invalid value encountered in true_divide\n",
      "  return n/db/n.sum(), bins\n",
      "/anaconda2/lib/python2.7/site-packages/matplotlib/axes/_base.py:3239: UserWarning: Attempting to set identical bottom==top results\n",
      "in singular transformations; automatically expanding.\n",
      "bottom=408.614169101, top=408.614169101\n",
      "  'bottom=%s, top=%s') % (bottom, top))\n"
     ]
    },
    {
     "ename": "LinAlgError",
     "evalue": "singular matrix",
     "output_type": "error",
     "traceback": [
      "\u001b[0;31m---------------------------------------------------------------------------\u001b[0m",
      "\u001b[0;31mLinAlgError\u001b[0m                               Traceback (most recent call last)",
      "\u001b[0;32m<ipython-input-6-ab754d0249eb>\u001b[0m in \u001b[0;36m<module>\u001b[0;34m()\u001b[0m\n\u001b[1;32m      1\u001b[0m \u001b[0mvTheta\u001b[0m \u001b[0;34m=\u001b[0m \u001b[0msamples\u001b[0m\u001b[0;34m[\u001b[0m\u001b[0;36m0\u001b[0m\u001b[0;34m]\u001b[0m\u001b[0;34m\u001b[0m\u001b[0m\n\u001b[0;32m----> 2\u001b[0;31m \u001b[0mpints\u001b[0m\u001b[0;34m.\u001b[0m\u001b[0mplot\u001b[0m\u001b[0;34m.\u001b[0m\u001b[0mpairwise\u001b[0m\u001b[0;34m(\u001b[0m\u001b[0msamples\u001b[0m\u001b[0;34m,\u001b[0m \u001b[0mkde\u001b[0m\u001b[0;34m=\u001b[0m\u001b[0mTrue\u001b[0m\u001b[0;34m)\u001b[0m\u001b[0;34m\u001b[0m\u001b[0m\n\u001b[0m\u001b[1;32m      3\u001b[0m \u001b[0;34m\u001b[0m\u001b[0m\n\u001b[1;32m      4\u001b[0m \u001b[0mplt\u001b[0m\u001b[0;34m.\u001b[0m\u001b[0mshow\u001b[0m\u001b[0;34m(\u001b[0m\u001b[0;34m)\u001b[0m\u001b[0;34m\u001b[0m\u001b[0m\n",
      "\u001b[0;32m/Users/appleuser/Desktop/AllPints/pints/pints/plot.pyc\u001b[0m in \u001b[0;36mpairwise\u001b[0;34m(samples, kde, opacity, ref_parameters, n_percentiles)\u001b[0m\n\u001b[1;32m    669\u001b[0m \u001b[0;34m\u001b[0m\u001b[0m\n\u001b[1;32m    670\u001b[0m                     \u001b[0;31m# Get kernel density estimate and plot contours\u001b[0m\u001b[0;34m\u001b[0m\u001b[0;34m\u001b[0m\u001b[0m\n\u001b[0;32m--> 671\u001b[0;31m                     \u001b[0mkernel\u001b[0m \u001b[0;34m=\u001b[0m \u001b[0mstats\u001b[0m\u001b[0;34m.\u001b[0m\u001b[0mgaussian_kde\u001b[0m\u001b[0;34m(\u001b[0m\u001b[0mvalues\u001b[0m\u001b[0;34m)\u001b[0m\u001b[0;34m\u001b[0m\u001b[0m\n\u001b[0m\u001b[1;32m    672\u001b[0m                     \u001b[0mf\u001b[0m \u001b[0;34m=\u001b[0m \u001b[0mnp\u001b[0m\u001b[0;34m.\u001b[0m\u001b[0mreshape\u001b[0m\u001b[0;34m(\u001b[0m\u001b[0mkernel\u001b[0m\u001b[0;34m(\u001b[0m\u001b[0mpositions\u001b[0m\u001b[0;34m)\u001b[0m\u001b[0;34m.\u001b[0m\u001b[0mT\u001b[0m\u001b[0;34m,\u001b[0m \u001b[0mxx\u001b[0m\u001b[0;34m.\u001b[0m\u001b[0mshape\u001b[0m\u001b[0;34m)\u001b[0m\u001b[0;34m\u001b[0m\u001b[0m\n\u001b[1;32m    673\u001b[0m                     \u001b[0maxes\u001b[0m\u001b[0;34m[\u001b[0m\u001b[0mi\u001b[0m\u001b[0;34m,\u001b[0m \u001b[0mj\u001b[0m\u001b[0;34m]\u001b[0m\u001b[0;34m.\u001b[0m\u001b[0mcontourf\u001b[0m\u001b[0;34m(\u001b[0m\u001b[0mxx\u001b[0m\u001b[0;34m,\u001b[0m \u001b[0myy\u001b[0m\u001b[0;34m,\u001b[0m \u001b[0mf\u001b[0m\u001b[0;34m,\u001b[0m \u001b[0mcmap\u001b[0m\u001b[0;34m=\u001b[0m\u001b[0;34m'Blues'\u001b[0m\u001b[0;34m)\u001b[0m\u001b[0;34m\u001b[0m\u001b[0m\n",
      "\u001b[0;32m/anaconda2/lib/python2.7/site-packages/scipy/stats/kde.pyc\u001b[0m in \u001b[0;36m__init__\u001b[0;34m(self, dataset, bw_method)\u001b[0m\n\u001b[1;32m    170\u001b[0m \u001b[0;34m\u001b[0m\u001b[0m\n\u001b[1;32m    171\u001b[0m         \u001b[0mself\u001b[0m\u001b[0;34m.\u001b[0m\u001b[0md\u001b[0m\u001b[0;34m,\u001b[0m \u001b[0mself\u001b[0m\u001b[0;34m.\u001b[0m\u001b[0mn\u001b[0m \u001b[0;34m=\u001b[0m \u001b[0mself\u001b[0m\u001b[0;34m.\u001b[0m\u001b[0mdataset\u001b[0m\u001b[0;34m.\u001b[0m\u001b[0mshape\u001b[0m\u001b[0;34m\u001b[0m\u001b[0m\n\u001b[0;32m--> 172\u001b[0;31m         \u001b[0mself\u001b[0m\u001b[0;34m.\u001b[0m\u001b[0mset_bandwidth\u001b[0m\u001b[0;34m(\u001b[0m\u001b[0mbw_method\u001b[0m\u001b[0;34m=\u001b[0m\u001b[0mbw_method\u001b[0m\u001b[0;34m)\u001b[0m\u001b[0;34m\u001b[0m\u001b[0m\n\u001b[0m\u001b[1;32m    173\u001b[0m \u001b[0;34m\u001b[0m\u001b[0m\n\u001b[1;32m    174\u001b[0m     \u001b[0;32mdef\u001b[0m \u001b[0mevaluate\u001b[0m\u001b[0;34m(\u001b[0m\u001b[0mself\u001b[0m\u001b[0;34m,\u001b[0m \u001b[0mpoints\u001b[0m\u001b[0;34m)\u001b[0m\u001b[0;34m:\u001b[0m\u001b[0;34m\u001b[0m\u001b[0m\n",
      "\u001b[0;32m/anaconda2/lib/python2.7/site-packages/scipy/stats/kde.pyc\u001b[0m in \u001b[0;36mset_bandwidth\u001b[0;34m(self, bw_method)\u001b[0m\n\u001b[1;32m    497\u001b[0m             \u001b[0;32mraise\u001b[0m \u001b[0mValueError\u001b[0m\u001b[0;34m(\u001b[0m\u001b[0mmsg\u001b[0m\u001b[0;34m)\u001b[0m\u001b[0;34m\u001b[0m\u001b[0m\n\u001b[1;32m    498\u001b[0m \u001b[0;34m\u001b[0m\u001b[0m\n\u001b[0;32m--> 499\u001b[0;31m         \u001b[0mself\u001b[0m\u001b[0;34m.\u001b[0m\u001b[0m_compute_covariance\u001b[0m\u001b[0;34m(\u001b[0m\u001b[0;34m)\u001b[0m\u001b[0;34m\u001b[0m\u001b[0m\n\u001b[0m\u001b[1;32m    500\u001b[0m \u001b[0;34m\u001b[0m\u001b[0m\n\u001b[1;32m    501\u001b[0m     \u001b[0;32mdef\u001b[0m \u001b[0m_compute_covariance\u001b[0m\u001b[0;34m(\u001b[0m\u001b[0mself\u001b[0m\u001b[0;34m)\u001b[0m\u001b[0;34m:\u001b[0m\u001b[0;34m\u001b[0m\u001b[0m\n",
      "\u001b[0;32m/anaconda2/lib/python2.7/site-packages/scipy/stats/kde.pyc\u001b[0m in \u001b[0;36m_compute_covariance\u001b[0;34m(self)\u001b[0m\n\u001b[1;32m    508\u001b[0m             self._data_covariance = atleast_2d(np.cov(self.dataset, rowvar=1,\n\u001b[1;32m    509\u001b[0m                                                bias=False))\n\u001b[0;32m--> 510\u001b[0;31m             \u001b[0mself\u001b[0m\u001b[0;34m.\u001b[0m\u001b[0m_data_inv_cov\u001b[0m \u001b[0;34m=\u001b[0m \u001b[0mlinalg\u001b[0m\u001b[0;34m.\u001b[0m\u001b[0minv\u001b[0m\u001b[0;34m(\u001b[0m\u001b[0mself\u001b[0m\u001b[0;34m.\u001b[0m\u001b[0m_data_covariance\u001b[0m\u001b[0;34m)\u001b[0m\u001b[0;34m\u001b[0m\u001b[0m\n\u001b[0m\u001b[1;32m    511\u001b[0m \u001b[0;34m\u001b[0m\u001b[0m\n\u001b[1;32m    512\u001b[0m         \u001b[0mself\u001b[0m\u001b[0;34m.\u001b[0m\u001b[0mcovariance\u001b[0m \u001b[0;34m=\u001b[0m \u001b[0mself\u001b[0m\u001b[0;34m.\u001b[0m\u001b[0m_data_covariance\u001b[0m \u001b[0;34m*\u001b[0m \u001b[0mself\u001b[0m\u001b[0;34m.\u001b[0m\u001b[0mfactor\u001b[0m\u001b[0;34m**\u001b[0m\u001b[0;36m2\u001b[0m\u001b[0;34m\u001b[0m\u001b[0m\n",
      "\u001b[0;32m/anaconda2/lib/python2.7/site-packages/scipy/linalg/basic.pyc\u001b[0m in \u001b[0;36minv\u001b[0;34m(a, overwrite_a, check_finite)\u001b[0m\n\u001b[1;32m    817\u001b[0m         \u001b[0minv_a\u001b[0m\u001b[0;34m,\u001b[0m \u001b[0minfo\u001b[0m \u001b[0;34m=\u001b[0m \u001b[0mgetri\u001b[0m\u001b[0;34m(\u001b[0m\u001b[0mlu\u001b[0m\u001b[0;34m,\u001b[0m \u001b[0mpiv\u001b[0m\u001b[0;34m,\u001b[0m \u001b[0mlwork\u001b[0m\u001b[0;34m=\u001b[0m\u001b[0mlwork\u001b[0m\u001b[0;34m,\u001b[0m \u001b[0moverwrite_lu\u001b[0m\u001b[0;34m=\u001b[0m\u001b[0;36m1\u001b[0m\u001b[0;34m)\u001b[0m\u001b[0;34m\u001b[0m\u001b[0m\n\u001b[1;32m    818\u001b[0m     \u001b[0;32mif\u001b[0m \u001b[0minfo\u001b[0m \u001b[0;34m>\u001b[0m \u001b[0;36m0\u001b[0m\u001b[0;34m:\u001b[0m\u001b[0;34m\u001b[0m\u001b[0m\n\u001b[0;32m--> 819\u001b[0;31m         \u001b[0;32mraise\u001b[0m \u001b[0mLinAlgError\u001b[0m\u001b[0;34m(\u001b[0m\u001b[0;34m\"singular matrix\"\u001b[0m\u001b[0;34m)\u001b[0m\u001b[0;34m\u001b[0m\u001b[0m\n\u001b[0m\u001b[1;32m    820\u001b[0m     \u001b[0;32mif\u001b[0m \u001b[0minfo\u001b[0m \u001b[0;34m<\u001b[0m \u001b[0;36m0\u001b[0m\u001b[0;34m:\u001b[0m\u001b[0;34m\u001b[0m\u001b[0m\n\u001b[1;32m    821\u001b[0m         raise ValueError('illegal value in %d-th argument of internal '\n",
      "\u001b[0;31mLinAlgError\u001b[0m: singular matrix"
     ]
    }
   ],
   "source": [
    "vTheta = samples[0]\n",
    "pints.plot.pairwise(samples, kde=True)\n",
    "\n",
    "plt.show()"
   ]
  },
  {
   "cell_type": "markdown",
   "metadata": {},
   "source": [
    "## Plot posterior predictive simulations versus the observed data"
   ]
  },
  {
   "cell_type": "code",
   "execution_count": null,
   "metadata": {},
   "outputs": [],
   "source": [
    "pints.plot.series(samples[:100], problem)\n",
    "plt.show()"
   ]
  },
  {
   "cell_type": "markdown",
   "metadata": {},
   "source": [
    "## Marginal likelihood estimate"
   ]
  },
  {
   "cell_type": "code",
   "execution_count": null,
   "metadata": {},
   "outputs": [],
   "source": [
    "print('marginal log-likelihood = ' + str(marginal_log_likelihood))"
   ]
  }
 ],
 "metadata": {
  "kernelspec": {
   "display_name": "Python 2",
   "language": "python",
   "name": "python2"
  },
  "language_info": {
   "codemirror_mode": {
    "name": "ipython",
    "version": 2
   },
   "file_extension": ".py",
   "mimetype": "text/x-python",
   "name": "python",
   "nbconvert_exporter": "python",
   "pygments_lexer": "ipython2",
   "version": "2.7.14"
  }
 },
 "nbformat": 4,
 "nbformat_minor": 2
}
