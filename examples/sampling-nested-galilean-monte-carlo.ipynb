{
 "cells": [
  {
   "cell_type": "markdown",
   "metadata": {},
   "source": [
    "# Nested samping using Galilean Monte Carlo\n",
    "\n",
    "This example demonstrates how to use Galilean Monte Carlo sampling [1] to sample from the posterior distribution for a logistic model fitted to model-simulated data. For a tutorial on nested sampling, see: [INSERT LINK to NESTED SAMPLING TUTORIAL NOTEBOOK].\n",
    "\n",
    "[1] \"Exploring Multi-Modal Distributions with Nested Sampling\", 2013, Farhan Feroz and John Skilling."
   ]
  },
  {
   "cell_type": "markdown",
   "metadata": {},
   "source": [
    "First create fake data."
   ]
  },
  {
   "cell_type": "code",
   "execution_count": 1,
   "metadata": {},
   "outputs": [
    {
     "data": {
      "image/png": "[encoded data removed]",
      "text/plain": [
       "<matplotlib.figure.Figure at 0x1a13c7a4d0>"
      ]
     },
     "metadata": {},
     "output_type": "display_data"
    }
   ],
   "source": [
    "import os\n",
    "os.chdir('/Users/appleuser/Desktop/AllPints/pints/')\n",
    "from __future__ import print_function\n",
    "import pints\n",
    "import pints.toy as toy\n",
    "import numpy as np\n",
    "import matplotlib.pyplot as plt\n",
    "\n",
    "# Load a forward model\n",
    "model = toy.LogisticModel()\n",
    "\n",
    "# Create some toy data\n",
    "r = 0.015\n",
    "k = 500\n",
    "real_parameters = [r, k]\n",
    "times = np.linspace(0, 1000, 100)\n",
    "signal_values = model.simulate(real_parameters, times)\n",
    "\n",
    "# Add independent Gaussian noise\n",
    "sigma = 10\n",
    "observed_values = signal_values + pints.noise.independent(sigma, signal_values.shape)\n",
    "\n",
    "# Plot\n",
    "plt.plot(times,signal_values,label = 'signal')\n",
    "plt.plot(times,observed_values,label = 'observed')\n",
    "plt.xlabel('Time')\n",
    "plt.ylabel('Values')\n",
    "plt.legend()\n",
    "plt.show()"
   ]
  },
  {
   "cell_type": "markdown",
   "metadata": {},
   "source": [
    "Create the nested sampler that will be used to sample from the posterior."
   ]
  },
  {
   "cell_type": "code",
   "execution_count": null,
   "metadata": {},
   "outputs": [],
   "source": [
    "# Create an object with links to the model and time series\n",
    "problem = pints.SingleOutputProblem(model, times, observed_values)\n",
    "\n",
    "# Create a log-likelihood function (adds an extra parameter!)\n",
    "log_likelihood = pints.UnknownNoiseLogLikelihood(problem)\n",
    "\n",
    "# Create a uniform prior over both the parameters and the new noise variable\n",
    "log_prior = pints.UniformLogPrior(\n",
    "    [0.01, 400, sigma * 0.5],\n",
    "    [0.02, 600, sigma * 1.5])\n",
    "\n",
    "# Create a nested ellipsoidal rejectection sampler\n",
    "sampler = pints.GalileanMC(log_likelihood, log_prior)\n",
    "\n",
    "# Set number of iterations\n",
    "sampler.set_iterations(4000)\n",
    "\n",
    "# Set the number of posterior samples to generate\n",
    "sampler.set_n_posterior_samples(400)\n",
    "\n",
    "# Set the number of active points\n",
    "sampler.set_n_active_points(1000)\n",
    "\n",
    "# Set velocity proposal distribution\n",
    "sampler.set_random_propose(False, mu=[0,0,0], sigma=[[0.005,0,0],[0,10,0],[0,0,0.1]])"
   ]
  },
  {
   "cell_type": "markdown",
   "metadata": {},
   "source": [
    "Run the sampler!"
   ]
  },
  {
   "cell_type": "code",
   "execution_count": null,
   "metadata": {},
   "outputs": [
    {
     "name": "stdout",
     "output_type": "stream",
     "text": [
      "Running Galilean Monte Carlo (nested) sampler\n",
      "Number of active points: 1000\n",
      "Total number of iterations: 4000\n",
      "Total number of posterior samples: 400\n",
      "Iter. Eval. Time m:s Delta_log(z)\n",
      "0     1       0:00.0 -inf        \n",
      "0     2       0:00.0 -inf        \n",
      "0     3       0:00.0 -inf        \n",
      "0     4       0:00.0 -inf        \n",
      "0     5       0:00.0 -inf        \n",
      "0     21      0:00.0 -inf        \n",
      "0     41      0:00.0 -inf        \n",
      "0     61      0:00.0 -inf        \n",
      "0     81      0:00.0 -inf        \n",
      "0     101     0:00.0 -inf        \n",
      "0     121     0:00.1 -inf        \n",
      "0     141     0:00.1 -inf        \n",
      "0     161     0:00.1 -inf        \n",
      "0     181     0:00.1 -inf        \n",
      "0     201     0:00.1 -inf        \n",
      "0     221     0:00.1 -inf        \n",
      "0     241     0:00.1 -inf        \n",
      "0     261     0:00.1 -inf        \n",
      "0     281     0:00.1 -inf        \n",
      "0     301     0:00.1 -inf        \n",
      "0     321     0:00.1 -inf        \n",
      "0     341     0:00.1 -inf        \n",
      "0     361     0:00.2 -inf        \n",
      "0     381     0:00.2 -inf        \n",
      "0     401     0:00.2 -inf        \n",
      "0     421     0:00.2 -inf        \n",
      "0     441     0:00.2 -inf        \n",
      "0     461     0:00.2 -inf        \n",
      "0     481     0:00.2 -inf        \n",
      "0     501     0:00.2 -inf        \n",
      "0     521     0:00.2 -inf        \n",
      "0     541     0:00.2 -inf        \n",
      "0     561     0:00.2 -inf        \n",
      "0     581     0:00.2 -inf        \n",
      "0     601     0:00.3 -inf        \n",
      "0     621     0:00.3 -inf        \n",
      "0     641     0:00.3 -inf        \n",
      "0     661     0:00.3 -inf        \n",
      "0     681     0:00.3 -inf        \n",
      "0     701     0:00.3 -inf        \n",
      "0     721     0:00.3 -inf        \n",
      "0     741     0:00.3 -inf        \n",
      "0     761     0:00.3 -inf        \n",
      "0     781     0:00.3 -inf        \n",
      "0     801     0:00.3 -inf        \n",
      "0     821     0:00.3 -inf        \n",
      "0     841     0:00.4 -inf        \n",
      "0     861     0:00.4 -inf        \n",
      "0     881     0:00.4 -inf        \n",
      "0     901     0:00.4 -inf        \n",
      "0     921     0:00.4 -inf        \n",
      "0     941     0:00.4 -inf        \n",
      "0     961     0:00.4 -inf        \n",
      "0     981     0:00.4 -inf        \n",
      "1000  1007    0:00.4 -inf        \n"
     ]
    },
    {
     "name": "stderr",
     "output_type": "stream",
     "text": [
      "pints/toy/_logistic_model.py:64: RuntimeWarning: overflow encountered in exp\n",
      "  exp = np.exp(-r * times)\n",
      "pints/toy/_logistic_model.py:67: RuntimeWarning: overflow encountered in multiply\n",
      "  values = k / (1 + c * exp)\n"
     ]
    },
    {
     "name": "stdout",
     "output_type": "stream",
     "text": [
      "1020  1175    0:00.8 -20213.63443\n",
      "1040  1417    0:01.1 -15410.17476\n",
      "1060  1637    0:01.4 -13209.52995\n",
      "1080  2059    0:01.9 -12042.94637\n",
      "1100  2595    0:02.5 -10003.24885\n",
      "1120  3081    0:03.0 -9051.177234\n",
      "1140  4041    0:04.0 -8666.972799\n"
     ]
    },
    {
     "name": "stderr",
     "output_type": "stream",
     "text": [
      "pints/_log_likelihoods.py:154: RuntimeWarning: invalid value encountered in log\n",
      "  - np.sum(error**2, axis=0) / (2 * sigma**2))\n"
     ]
    },
    {
     "name": "stdout",
     "output_type": "stream",
     "text": [
      "1160  4513    0:04.5 -7978.449169\n",
      "1180  5129    0:05.1 -7272.759256\n",
      "1200  6141    0:06.2 -6903.028815\n",
      "1220  6981    0:07.1 -6455.408139\n",
      "1240  7693    0:07.8 -6138.389953\n",
      "1260  8645    0:08.9 -5853.081448\n",
      "1280  9681    0:09.9 -5623.378228\n",
      "1300  10443   0:10.6 -5365.857028\n",
      "1320  11249   0:11.5 -5089.557232\n",
      "1340  12357   0:12.6 -4860.821722\n",
      "1360  13841   0:14.1 -4680.615647\n",
      "1380  15087   0:15.4 -4483.968106\n",
      "1400  16351   0:16.7 -4350.926298\n",
      "1420  17667   0:18.1 -4133.734342\n",
      "1440  18487   0:19.0 -3994.431609\n",
      "1460  19465   0:19.9 -3818.939404\n",
      "1480  20745   0:21.3 -3659.322756\n",
      "1500  22157   0:22.7 -3525.257877\n",
      "1520  23789   0:24.5 -3423.424791\n",
      "1540  25009   0:25.7 -3341.039365\n",
      "1560  26669   0:27.5 -3231.465266\n",
      "1580  27645   0:28.5 -3132.718321\n",
      "1600  28871   0:29.9 -3014.194545\n",
      "1620  30961   0:31.8 -2891.690715\n",
      "1640  32701   0:33.5 -2750.774748\n",
      "1660  34399   0:35.2 -2654.071088\n",
      "1680  36415   0:37.1 -2563.980161\n",
      "1700  37465   0:38.2 -2497.039907\n",
      "1720  39177   0:40.0 -2435.0549  \n",
      "1740  40637   0:41.5 -2373.089804\n",
      "1760  43033   0:44.1 -2329.445723\n",
      "1780  44447   0:45.6 -2278.482507\n",
      "1800  46483   0:47.8 -2232.533112\n",
      "1820  47971   0:49.5 -2136.527435\n",
      "1840  50031   0:51.7 -2068.362851\n",
      "1860  51625   0:53.5 -2015.90029 \n",
      "1880  53113   0:55.0 -1951.277277\n",
      "1900  56591   0:58.7 -1895.374925\n",
      "1920  58819   1:01.0 -1851.269392\n",
      "1940  60227   1:02.6 -1811.050005\n",
      "1960  61765   1:04.2 -1758.057902\n",
      "1980  63467   1:06.0 -1722.07357 \n",
      "2000  65563   1:08.2 -1691.432939\n",
      "2020  67035   1:09.7 -1652.091147\n",
      "2040  68687   1:11.6 -1604.322957\n",
      "2060  70999   1:14.1 -1568.732959\n",
      "2080  72935   1:16.2 -1538.967834\n",
      "2100  76153   1:19.7 -1496.818816\n",
      "2120  78091   1:21.7 -1450.513439\n",
      "2140  79927   1:23.7 -1422.159103\n",
      "2160  82159   1:26.1 -1384.563737\n",
      "2180  84091   1:28.2 -1362.972215\n",
      "2200  86335   1:30.6 -1322.635359\n",
      "2220  88715   1:33.2 -1300.655669\n",
      "2240  91773   1:36.3 -1270.127857\n",
      "2260  93971   1:38.6 -1244.155317\n",
      "2280  96699   1:41.5 -1224.57291 \n",
      "2300  99391   1:44.2 -1198.722552\n",
      "2320  101717   1:46.5 -1169.139777\n",
      "2340  104305   1:49.1 -1151.944752\n",
      "2360  106131   1:51.1 -1129.857529\n",
      "2380  108515   1:53.3 -1108.848487\n",
      "2400  110659   1:55.4 -1087.400032\n",
      "2420  114025   1:59.1 -1068.357004\n",
      "2440  116361   2:01.5 -1043.541341\n",
      "2460  119065   2:04.2 -1027.108267\n",
      "2480  121843   2:07.2 -1007.802002\n",
      "2500  124059   2:09.7 -975.7943367\n",
      "2520  126851   2:12.6 -957.6173291\n",
      "2540  129051   2:14.8 -939.376516 \n",
      "2560  132479   2:18.2 -920.3785348\n",
      "2580  135715   2:21.4 -904.8186159\n",
      "2600  138499   2:24.2 -888.7701949\n",
      "2620  141975   2:27.8 -875.2509328\n",
      "2640  144839   2:30.8 -851.7085256\n",
      "2660  149731   2:35.7 -840.385725 \n",
      "2680  153357   2:39.6 -823.2842481\n"
     ]
    }
   ],
   "source": [
    "samples, marginal_log_likelihood = sampler.run()\n",
    "print('Done!')"
   ]
  },
  {
   "cell_type": "markdown",
   "metadata": {},
   "source": [
    "## Show active and inactive points"
   ]
  },
  {
   "cell_type": "code",
   "execution_count": null,
   "metadata": {
    "collapsed": true
   },
   "outputs": [],
   "source": [
    "m_active = sampler.active_points()\n",
    "m_inactive = sampler.inactive_points()\n",
    "\n",
    "f, axarr = plt.subplots(1,3,figsize=(15,6))\n",
    "axarr[0].scatter(m_inactive[:,0],m_inactive[:,1])\n",
    "axarr[0].scatter(m_active[:,0],m_active[:,1],alpha=0.1)\n",
    "axarr[0].set_xlim([0.008,0.022])\n",
    "axarr[0].set_xlabel('r')\n",
    "axarr[0].set_ylabel('k')\n",
    "axarr[1].scatter(m_inactive[:,0],m_inactive[:,2])\n",
    "axarr[1].scatter(m_active[:,0],m_active[:,2],alpha=0.1)\n",
    "axarr[1].set_xlim([0.008,0.022])\n",
    "axarr[1].set_xlabel('r')\n",
    "axarr[1].set_ylabel('sigma')\n",
    "axarr[2].scatter(m_inactive[:,1],m_inactive[:,2])\n",
    "axarr[2].scatter(m_active[:,1],m_active[:,2],alpha=0.1)\n",
    "axarr[2].set_xlabel('k')\n",
    "axarr[2].set_ylabel('sigma')\n",
    "plt.show()"
   ]
  },
  {
   "cell_type": "markdown",
   "metadata": {},
   "source": [
    "## Plot posterior samples versus true parameter values (dashed lines)"
   ]
  },
  {
   "cell_type": "code",
   "execution_count": null,
   "metadata": {},
   "outputs": [],
   "source": [
    "# Plot output\n",
    "import pints.plot\n",
    "\n",
    "pints.plot.histogram([samples], ref_parameters=[r, k, sigma])\n",
    "\n",
    "plt.show()"
   ]
  },
  {
   "cell_type": "code",
   "execution_count": null,
   "metadata": {
    "scrolled": true
   },
   "outputs": [],
   "source": [
    "vTheta = samples[0]\n",
    "pints.plot.pairwise(samples, kde=True)\n",
    "\n",
    "plt.show()"
   ]
  },
  {
   "cell_type": "markdown",
   "metadata": {},
   "source": [
    "## Plot posterior predictive simulations versus the observed data"
   ]
  },
  {
   "cell_type": "code",
   "execution_count": null,
   "metadata": {},
   "outputs": [],
   "source": [
    "pints.plot.series(samples[:100], problem)\n",
    "plt.show()"
   ]
  },
  {
   "cell_type": "markdown",
   "metadata": {},
   "source": [
    "## Marginal likelihood estimate"
   ]
  },
  {
   "cell_type": "code",
   "execution_count": null,
   "metadata": {},
   "outputs": [],
   "source": [
    "print('marginal log-likelihood = ' + str(sampler.marginal_log_likelihood())\n",
    "      + ' ± ' + str(sampler.marginal_log_likelihood_standard_deviation()))"
   ]
  }
 ],
 "metadata": {
  "kernelspec": {
   "display_name": "Python 2",
   "language": "python",
   "name": "python2"
  },
  "language_info": {
   "codemirror_mode": {
    "name": "ipython",
    "version": 2
   },
   "file_extension": ".py",
   "mimetype": "text/x-python",
   "name": "python",
   "nbconvert_exporter": "python",
   "pygments_lexer": "ipython2",
   "version": "2.7.14"
  }
 },
 "nbformat": 4,
 "nbformat_minor": 2
}
